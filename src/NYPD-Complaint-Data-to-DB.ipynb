{
 "cells": [
  {
   "cell_type": "markdown",
   "metadata": {},
   "source": [
    "# NYPD-Complaint-Data to DB"
   ]
  },
  {
   "cell_type": "markdown",
   "metadata": {},
   "source": [
    "<span style=\"color: red;\">**WARNING:** Only execute this notebook if your machine has sufficient memory (RAM >= 24 GB preferred)</span>"
   ]
  },
  {
   "cell_type": "markdown",
   "metadata": {},
   "source": [
    "### Load `ai4sg` DB secrets"
   ]
  },
  {
   "cell_type": "code",
   "execution_count": 1,
   "metadata": {},
   "outputs": [
    {
     "name": "stdout",
     "output_type": "stream",
     "text": [
      "Loaded database secrets from '.env' file if exists!\n"
     ]
    }
   ],
   "source": [
    "from dotenv import load_dotenv\n",
    "\n",
    "import sys\n",
    "import os\n",
    "\n",
    "sys.path.append(f\"..{os.path.sep}\")\n",
    "\n",
    "load_dotenv()\n",
    "env_vars = {key: value for key, value in os.environ.items()}\n",
    "env_vars.setdefault('MYSQL_USER', 'admin')\n",
    "env_vars.setdefault('MYSQL_PWD', 'password')\n",
    "env_vars.setdefault('MYSQL_HOST', 'localhost')\n",
    "env_vars.setdefault('MYSQL_PORT', '3306')\n",
    "env_vars.setdefault('MYSQL_DB_NAME', 'vinay')\n",
    "env_vars.setdefault('MYSQL_TABLE_NAME', 'nyc_crime')\n",
    "print(\"Loaded database secrets from '.env' file if exists!\")"
   ]
  },
  {
   "cell_type": "markdown",
   "metadata": {},
   "source": [
    "### Loading raw data"
   ]
  },
  {
   "cell_type": "markdown",
   "metadata": {},
   "source": [
    "* [NYPD Complaint Data Historic](https://data.cityofnewyork.us/Public-Safety/NYPD-Complaint-Data-Historic/qgea-i56i/about_data) is downloaded as a `.csv` locally and stored in `data` directory."
   ]
  },
  {
   "cell_type": "code",
   "execution_count": 2,
   "metadata": {},
   "outputs": [],
   "source": [
    "data_dir = 'data'\n",
    "fname = 'NYPD_Complaint_Data_Historic_20241027.csv'\n",
    "fpath = os.path.join(sys.path[-1], data_dir, fname)\n",
    "\n",
    "assert os.path.exists(fpath), f'{os.path.abspath(fpath)} does not exists!'"
   ]
  },
  {
   "cell_type": "code",
   "execution_count": 3,
   "metadata": {},
   "outputs": [
    {
     "data": {
      "text/plain": [
       "Schema([('CMPLNT_NUM', String),\n",
       "        ('CMPLNT_FR_DT', String),\n",
       "        ('CMPLNT_FR_TM', String),\n",
       "        ('CMPLNT_TO_DT', String),\n",
       "        ('CMPLNT_TO_TM', String),\n",
       "        ('ADDR_PCT_CD', Int64),\n",
       "        ('RPT_DT', String),\n",
       "        ('KY_CD', Int64),\n",
       "        ('OFNS_DESC', String),\n",
       "        ('PD_CD', Int64),\n",
       "        ('PD_DESC', String),\n",
       "        ('CRM_ATPT_CPTD_CD', String),\n",
       "        ('LAW_CAT_CD', String),\n",
       "        ('BORO_NM', String),\n",
       "        ('LOC_OF_OCCUR_DESC', String),\n",
       "        ('PREM_TYP_DESC', String),\n",
       "        ('JURIS_DESC', String),\n",
       "        ('JURISDICTION_CODE', Int64),\n",
       "        ('PARKS_NM', String),\n",
       "        ('HADEVELOPT', String),\n",
       "        ('HOUSING_PSA', String),\n",
       "        ('X_COORD_CD', Int64),\n",
       "        ('Y_COORD_CD', Int64),\n",
       "        ('SUSP_AGE_GROUP', String),\n",
       "        ('SUSP_RACE', String),\n",
       "        ('SUSP_SEX', String),\n",
       "        ('TRANSIT_DISTRICT', String),\n",
       "        ('Latitude', Float64),\n",
       "        ('Longitude', Float64),\n",
       "        ('Lat_Lon', String),\n",
       "        ('PATROL_BORO', String),\n",
       "        ('STATION_NAME', String),\n",
       "        ('VIC_AGE_GROUP', String),\n",
       "        ('VIC_RACE', String),\n",
       "        ('VIC_SEX', String)])"
      ]
     },
     "execution_count": 3,
     "metadata": {},
     "output_type": "execute_result"
    }
   ],
   "source": [
    "import polars as pl\n",
    "\n",
    "complaint_lf = pl.scan_csv(fpath, try_parse_dates=True)\n",
    "complaint_lf.collect_schema()"
   ]
  },
  {
   "cell_type": "markdown",
   "metadata": {},
   "source": [
    "### Handling datetime variables"
   ]
  },
  {
   "cell_type": "code",
   "execution_count": 4,
   "metadata": {},
   "outputs": [],
   "source": [
    "complaint_lf = complaint_lf.with_columns(pl.col('CMPLNT_FR_DT').str.to_date(\"%m/%d/%Y\"),\n",
    "                                         pl.col('CMPLNT_TO_DT').str.to_date(\"%m/%d/%Y\"),\n",
    "                                         pl.col('RPT_DT').str.to_date(\"%m/%d/%Y\").alias('report_date'),\n",
    "                                         pl.when(pl.col(\"CMPLNT_TO_TM\").str.contains('(null)'))\n",
    "                                         .then(None).otherwise(pl.col('CMPLNT_TO_TM')).str.to_time(\"%H:%M:%S\").name.keep()).drop('RPT_DT')\n",
    "\n",
    "complaint_lf = complaint_lf.with_columns(pl.col('CMPLNT_FR_DT').dt.combine(pl.col('CMPLNT_FR_TM')).alias('cmplnt_from_date'),\n",
    "                                         pl.col('CMPLNT_TO_DT').dt.combine(pl.col('CMPLNT_TO_TM')).alias('cmplnt_to_date')\n",
    "                                         ).drop('CMPLNT_FR_DT','CMPLNT_FR_TM','CMPLNT_TO_DT','CMPLNT_TO_TM')"
   ]
  },
  {
   "cell_type": "markdown",
   "metadata": {},
   "source": [
    "#### Checking `cmplnt_from_date` variable for dates that are not parsed correctly and bad data"
   ]
  },
  {
   "cell_type": "code",
   "execution_count": 5,
   "metadata": {},
   "outputs": [
    {
     "data": {
      "text/html": [
       "<div><style>\n",
       ".dataframe > thead > tr,\n",
       ".dataframe > tbody > tr {\n",
       "  text-align: right;\n",
       "  white-space: pre-wrap;\n",
       "}\n",
       "</style>\n",
       "<small>shape: (2_582_751, 2)</small><table border=\"1\" class=\"dataframe\"><thead><tr><th>cmplnt_from_date</th><th>count</th></tr><tr><td>datetime[μs]</td><td>u32</td></tr></thead><tbody><tr><td>null</td><td>702</td></tr><tr><td>1010-05-14 20:00:00</td><td>1</td></tr><tr><td>1010-08-05 13:00:00</td><td>1</td></tr><tr><td>1010-08-22 13:35:00</td><td>1</td></tr><tr><td>1010-08-29 16:20:00</td><td>1</td></tr><tr><td>&hellip;</td><td>&hellip;</td></tr><tr><td>2023-12-31 23:34:00</td><td>1</td></tr><tr><td>2023-12-31 23:35:00</td><td>1</td></tr><tr><td>2023-12-31 23:37:00</td><td>1</td></tr><tr><td>2023-12-31 23:40:00</td><td>3</td></tr><tr><td>2023-12-31 23:50:00</td><td>1</td></tr></tbody></table></div>"
      ],
      "text/plain": [
       "shape: (2_582_751, 2)\n",
       "┌─────────────────────┬───────┐\n",
       "│ cmplnt_from_date    ┆ count │\n",
       "│ ---                 ┆ ---   │\n",
       "│ datetime[μs]        ┆ u32   │\n",
       "╞═════════════════════╪═══════╡\n",
       "│ null                ┆ 702   │\n",
       "│ 1010-05-14 20:00:00 ┆ 1     │\n",
       "│ 1010-08-05 13:00:00 ┆ 1     │\n",
       "│ 1010-08-22 13:35:00 ┆ 1     │\n",
       "│ 1010-08-29 16:20:00 ┆ 1     │\n",
       "│ …                   ┆ …     │\n",
       "│ 2023-12-31 23:34:00 ┆ 1     │\n",
       "│ 2023-12-31 23:35:00 ┆ 1     │\n",
       "│ 2023-12-31 23:37:00 ┆ 1     │\n",
       "│ 2023-12-31 23:40:00 ┆ 3     │\n",
       "│ 2023-12-31 23:50:00 ┆ 1     │\n",
       "└─────────────────────┴───────┘"
      ]
     },
     "execution_count": 5,
     "metadata": {},
     "output_type": "execute_result"
    }
   ],
   "source": [
    "cmplnt_from_datetime = complaint_lf.select('cmplnt_from_date').group_by('cmplnt_from_date').len('count').sort('cmplnt_from_date').collect()\n",
    "cmplnt_from_datetime"
   ]
  },
  {
   "cell_type": "markdown",
   "metadata": {},
   "source": [
    "- In Renda's reference notebook [PrepCrimeDataForDB.ipynb](../reference/PrepCrimeDataForDB.ipynb), years that are $< 25$ are converted into years in 21st century years, whereas the data has years which are from 20th century."
   ]
  },
  {
   "cell_type": "code",
   "execution_count": 6,
   "metadata": {},
   "outputs": [
    {
     "data": {
      "text/html": [
       "<div><style>\n",
       ".dataframe > thead > tr,\n",
       ".dataframe > tbody > tr {\n",
       "  text-align: right;\n",
       "  white-space: pre-wrap;\n",
       "}\n",
       "</style>\n",
       "<small>shape: (130, 2)</small><table border=\"1\" class=\"dataframe\"><thead><tr><th>cmplnt_from_date</th><th>count</th></tr><tr><td>datetime[μs]</td><td>u32</td></tr></thead><tbody><tr><td>1900-03-10 19:00:00</td><td>1</td></tr><tr><td>1900-05-08 21:00:00</td><td>1</td></tr><tr><td>1900-06-02 19:00:00</td><td>1</td></tr><tr><td>1900-08-06 09:00:00</td><td>1</td></tr><tr><td>1900-08-07 08:30:00</td><td>1</td></tr><tr><td>&hellip;</td><td>&hellip;</td></tr><tr><td>1923-01-25 10:00:00</td><td>1</td></tr><tr><td>1923-04-05 17:00:00</td><td>1</td></tr><tr><td>1923-07-19 18:30:00</td><td>1</td></tr><tr><td>1923-09-15 15:00:00</td><td>1</td></tr><tr><td>1923-10-03 09:44:00</td><td>1</td></tr></tbody></table></div>"
      ],
      "text/plain": [
       "shape: (130, 2)\n",
       "┌─────────────────────┬───────┐\n",
       "│ cmplnt_from_date    ┆ count │\n",
       "│ ---                 ┆ ---   │\n",
       "│ datetime[μs]        ┆ u32   │\n",
       "╞═════════════════════╪═══════╡\n",
       "│ 1900-03-10 19:00:00 ┆ 1     │\n",
       "│ 1900-05-08 21:00:00 ┆ 1     │\n",
       "│ 1900-06-02 19:00:00 ┆ 1     │\n",
       "│ 1900-08-06 09:00:00 ┆ 1     │\n",
       "│ 1900-08-07 08:30:00 ┆ 1     │\n",
       "│ …                   ┆ …     │\n",
       "│ 1923-01-25 10:00:00 ┆ 1     │\n",
       "│ 1923-04-05 17:00:00 ┆ 1     │\n",
       "│ 1923-07-19 18:30:00 ┆ 1     │\n",
       "│ 1923-09-15 15:00:00 ┆ 1     │\n",
       "│ 1923-10-03 09:44:00 ┆ 1     │\n",
       "└─────────────────────┴───────┘"
      ]
     },
     "execution_count": 6,
     "metadata": {},
     "output_type": "execute_result"
    }
   ],
   "source": [
    "cmplnt_from_datetime.filter(pl.col('cmplnt_from_date').dt.year().is_between(1800, 1925))"
   ]
  },
  {
   "cell_type": "markdown",
   "metadata": {},
   "source": [
    "- The dataset does contain some bad data, in this case there are some dates from 11th century. But considering the overall size of the data these are negligible and thus can be dropped or set to `null`."
   ]
  },
  {
   "cell_type": "code",
   "execution_count": 7,
   "metadata": {},
   "outputs": [
    {
     "data": {
      "text/html": [
       "<div><style>\n",
       ".dataframe > thead > tr,\n",
       ".dataframe > tbody > tr {\n",
       "  text-align: right;\n",
       "  white-space: pre-wrap;\n",
       "}\n",
       "</style>\n",
       "<small>shape: (173, 2)</small><table border=\"1\" class=\"dataframe\"><thead><tr><th>cmplnt_from_date</th><th>count</th></tr><tr><td>datetime[μs]</td><td>u32</td></tr></thead><tbody><tr><td>1010-05-14 20:00:00</td><td>1</td></tr><tr><td>1010-08-05 13:00:00</td><td>1</td></tr><tr><td>1010-08-22 13:35:00</td><td>1</td></tr><tr><td>1010-08-29 16:20:00</td><td>1</td></tr><tr><td>1010-10-28 20:09:00</td><td>1</td></tr><tr><td>&hellip;</td><td>&hellip;</td></tr><tr><td>1028-12-07 09:00:00</td><td>1</td></tr><tr><td>1029-02-07 23:00:00</td><td>1</td></tr><tr><td>1029-07-04 08:30:00</td><td>1</td></tr><tr><td>1029-10-29 20:40:00</td><td>1</td></tr><tr><td>1029-10-31 17:50:00</td><td>1</td></tr></tbody></table></div>"
      ],
      "text/plain": [
       "shape: (173, 2)\n",
       "┌─────────────────────┬───────┐\n",
       "│ cmplnt_from_date    ┆ count │\n",
       "│ ---                 ┆ ---   │\n",
       "│ datetime[μs]        ┆ u32   │\n",
       "╞═════════════════════╪═══════╡\n",
       "│ 1010-05-14 20:00:00 ┆ 1     │\n",
       "│ 1010-08-05 13:00:00 ┆ 1     │\n",
       "│ 1010-08-22 13:35:00 ┆ 1     │\n",
       "│ 1010-08-29 16:20:00 ┆ 1     │\n",
       "│ 1010-10-28 20:09:00 ┆ 1     │\n",
       "│ …                   ┆ …     │\n",
       "│ 1028-12-07 09:00:00 ┆ 1     │\n",
       "│ 1029-02-07 23:00:00 ┆ 1     │\n",
       "│ 1029-07-04 08:30:00 ┆ 1     │\n",
       "│ 1029-10-29 20:40:00 ┆ 1     │\n",
       "│ 1029-10-31 17:50:00 ┆ 1     │\n",
       "└─────────────────────┴───────┘"
      ]
     },
     "execution_count": 7,
     "metadata": {},
     "output_type": "execute_result"
    }
   ],
   "source": [
    "cmplnt_from_datetime.filter(pl.col('cmplnt_from_date').dt.year() < 1900)"
   ]
  },
  {
   "cell_type": "markdown",
   "metadata": {},
   "source": [
    "#### Checking `cmplnt_to_date` variable for dates that are not parsed correctly and bad data"
   ]
  },
  {
   "cell_type": "code",
   "execution_count": 8,
   "metadata": {},
   "outputs": [
    {
     "data": {
      "text/html": [
       "<div><style>\n",
       ".dataframe > thead > tr,\n",
       ".dataframe > tbody > tr {\n",
       "  text-align: right;\n",
       "  white-space: pre-wrap;\n",
       "}\n",
       "</style>\n",
       "<small>shape: (2_878_801, 2)</small><table border=\"1\" class=\"dataframe\"><thead><tr><th>cmplnt_to_date</th><th>count</th></tr><tr><td>datetime[μs]</td><td>u32</td></tr></thead><tbody><tr><td>null</td><td>1820391</td></tr><tr><td>1017-12-08 12:30:00</td><td>1</td></tr><tr><td>1018-09-28 12:56:00</td><td>1</td></tr><tr><td>1023-06-28 19:15:00</td><td>1</td></tr><tr><td>1023-08-29 12:19:00</td><td>1</td></tr><tr><td>&hellip;</td><td>&hellip;</td></tr><tr><td>2023-12-31 23:50:00</td><td>1</td></tr><tr><td>2023-12-31 23:53:00</td><td>1</td></tr><tr><td>2023-12-31 23:56:00</td><td>2</td></tr><tr><td>2024-01-01 00:03:00</td><td>1</td></tr><tr><td>2024-01-02 11:20:00</td><td>1</td></tr></tbody></table></div>"
      ],
      "text/plain": [
       "shape: (2_878_801, 2)\n",
       "┌─────────────────────┬─────────┐\n",
       "│ cmplnt_to_date      ┆ count   │\n",
       "│ ---                 ┆ ---     │\n",
       "│ datetime[μs]        ┆ u32     │\n",
       "╞═════════════════════╪═════════╡\n",
       "│ null                ┆ 1820391 │\n",
       "│ 1017-12-08 12:30:00 ┆ 1       │\n",
       "│ 1018-09-28 12:56:00 ┆ 1       │\n",
       "│ 1023-06-28 19:15:00 ┆ 1       │\n",
       "│ 1023-08-29 12:19:00 ┆ 1       │\n",
       "│ …                   ┆ …       │\n",
       "│ 2023-12-31 23:50:00 ┆ 1       │\n",
       "│ 2023-12-31 23:53:00 ┆ 1       │\n",
       "│ 2023-12-31 23:56:00 ┆ 2       │\n",
       "│ 2024-01-01 00:03:00 ┆ 1       │\n",
       "│ 2024-01-02 11:20:00 ┆ 1       │\n",
       "└─────────────────────┴─────────┘"
      ]
     },
     "execution_count": 8,
     "metadata": {},
     "output_type": "execute_result"
    }
   ],
   "source": [
    "cmplnt_to_datetime = complaint_lf.select('cmplnt_to_date').group_by('cmplnt_to_date').len('count').sort('cmplnt_to_date').collect()\n",
    "cmplnt_to_datetime"
   ]
  },
  {
   "cell_type": "markdown",
   "metadata": {},
   "source": [
    "- In Renda's reference notebook [PrepCrimeDataForDB.ipynb](../reference/PrepCrimeDataForDB.ipynb), years that are $< 25$ are converted into years in 21st century years, whereas the data has years which are from 20th century."
   ]
  },
  {
   "cell_type": "code",
   "execution_count": 9,
   "metadata": {},
   "outputs": [
    {
     "data": {
      "text/html": [
       "<div><style>\n",
       ".dataframe > thead > tr,\n",
       ".dataframe > tbody > tr {\n",
       "  text-align: right;\n",
       "  white-space: pre-wrap;\n",
       "}\n",
       "</style>\n",
       "<small>shape: (4, 2)</small><table border=\"1\" class=\"dataframe\"><thead><tr><th>cmplnt_to_date</th><th>count</th></tr><tr><td>datetime[μs]</td><td>u32</td></tr></thead><tbody><tr><td>1912-04-12 11:30:00</td><td>1</td></tr><tr><td>1912-05-10 18:29:00</td><td>1</td></tr><tr><td>1920-04-21 14:15:00</td><td>1</td></tr><tr><td>1920-12-30 18:07:00</td><td>1</td></tr></tbody></table></div>"
      ],
      "text/plain": [
       "shape: (4, 2)\n",
       "┌─────────────────────┬───────┐\n",
       "│ cmplnt_to_date      ┆ count │\n",
       "│ ---                 ┆ ---   │\n",
       "│ datetime[μs]        ┆ u32   │\n",
       "╞═════════════════════╪═══════╡\n",
       "│ 1912-04-12 11:30:00 ┆ 1     │\n",
       "│ 1912-05-10 18:29:00 ┆ 1     │\n",
       "│ 1920-04-21 14:15:00 ┆ 1     │\n",
       "│ 1920-12-30 18:07:00 ┆ 1     │\n",
       "└─────────────────────┴───────┘"
      ]
     },
     "execution_count": 9,
     "metadata": {},
     "output_type": "execute_result"
    }
   ],
   "source": [
    "cmplnt_to_datetime.filter(pl.col('cmplnt_to_date').dt.year().is_between(1800, 1925))"
   ]
  },
  {
   "cell_type": "markdown",
   "metadata": {},
   "source": [
    "- The dataset does contain some bad data, in this case there are some dates from 11th century. But considering the overall size of the data these are negligible and thus can be dropped or set to `null`."
   ]
  },
  {
   "cell_type": "code",
   "execution_count": 10,
   "metadata": {},
   "outputs": [
    {
     "data": {
      "text/html": [
       "<div><style>\n",
       ".dataframe > thead > tr,\n",
       ".dataframe > tbody > tr {\n",
       "  text-align: right;\n",
       "  white-space: pre-wrap;\n",
       "}\n",
       "</style>\n",
       "<small>shape: (4, 2)</small><table border=\"1\" class=\"dataframe\"><thead><tr><th>cmplnt_to_date</th><th>count</th></tr><tr><td>datetime[μs]</td><td>u32</td></tr></thead><tbody><tr><td>1017-12-08 12:30:00</td><td>1</td></tr><tr><td>1018-09-28 12:56:00</td><td>1</td></tr><tr><td>1023-06-28 19:15:00</td><td>1</td></tr><tr><td>1023-08-29 12:19:00</td><td>1</td></tr></tbody></table></div>"
      ],
      "text/plain": [
       "shape: (4, 2)\n",
       "┌─────────────────────┬───────┐\n",
       "│ cmplnt_to_date      ┆ count │\n",
       "│ ---                 ┆ ---   │\n",
       "│ datetime[μs]        ┆ u32   │\n",
       "╞═════════════════════╪═══════╡\n",
       "│ 1017-12-08 12:30:00 ┆ 1     │\n",
       "│ 1018-09-28 12:56:00 ┆ 1     │\n",
       "│ 1023-06-28 19:15:00 ┆ 1     │\n",
       "│ 1023-08-29 12:19:00 ┆ 1     │\n",
       "└─────────────────────┴───────┘"
      ]
     },
     "execution_count": 10,
     "metadata": {},
     "output_type": "execute_result"
    }
   ],
   "source": [
    "cmplnt_to_datetime.filter(pl.col('cmplnt_to_date').dt.year() < 1900)"
   ]
  },
  {
   "cell_type": "markdown",
   "metadata": {},
   "source": [
    "- Setting bad dates to `null`"
   ]
  },
  {
   "cell_type": "code",
   "execution_count": 11,
   "metadata": {},
   "outputs": [],
   "source": [
    "complaint_lf = complaint_lf.with_columns(pl.when(pl.col('cmplnt_from_date').dt.year() < 1900).then(None).otherwise(pl.col('cmplnt_from_date')).name.keep(),\n",
    "                                         pl.when(pl.col('cmplnt_to_date').dt.year() < 1900).then(None).otherwise(pl.col('cmplnt_to_date')).name.keep())"
   ]
  },
  {
   "cell_type": "markdown",
   "metadata": {},
   "source": [
    "### Handling duplicate values in `CMPLNT_NUM`"
   ]
  },
  {
   "cell_type": "code",
   "execution_count": 12,
   "metadata": {},
   "outputs": [
    {
     "data": {
      "text/plain": [
       "8914838"
      ]
     },
     "execution_count": 12,
     "metadata": {},
     "output_type": "execute_result"
    }
   ],
   "source": [
    "complaint_lf.select(pl.len()).collect().item()"
   ]
  },
  {
   "cell_type": "code",
   "execution_count": 13,
   "metadata": {},
   "outputs": [
    {
     "data": {
      "text/plain": [
       "8913734"
      ]
     },
     "execution_count": 13,
     "metadata": {},
     "output_type": "execute_result"
    }
   ],
   "source": [
    "complaint_lf = complaint_lf.unique('CMPLNT_NUM')\n",
    "complaint_lf.select(pl.len()).collect().item()"
   ]
  },
  {
   "cell_type": "markdown",
   "metadata": {},
   "source": [
    "### Handling Latitude and Longitude variables"
   ]
  },
  {
   "cell_type": "code",
   "execution_count": 14,
   "metadata": {},
   "outputs": [],
   "source": [
    "unique_lat_lon = complaint_lf.select(pl.col('Lat_Lon').unique(),\n",
    "                                     pl.col('Lat_Lon').unique()\n",
    "                                     .str.strip_chars('()')\n",
    "                                     .str.split_exact(\",\",1)\n",
    "                                     .struct.rename_fields(['lat','lon'])\n",
    "                                     .alias(\"fields\")).unnest(\"fields\").with_columns(\n",
    "                                         pl.col('lat').str.strip_chars(' ').cast(pl.Decimal),\n",
    "                                         pl.col('lon').str.strip_chars(' ').cast(pl.Decimal)\n",
    "                                         )"
   ]
  },
  {
   "cell_type": "code",
   "execution_count": 15,
   "metadata": {},
   "outputs": [
    {
     "data": {
      "text/html": [
       "<div>\n",
       "<style scoped>\n",
       "    .dataframe tbody tr th:only-of-type {\n",
       "        vertical-align: middle;\n",
       "    }\n",
       "\n",
       "    .dataframe tbody tr th {\n",
       "        vertical-align: top;\n",
       "    }\n",
       "\n",
       "    .dataframe thead th {\n",
       "        text-align: right;\n",
       "    }\n",
       "</style>\n",
       "<table border=\"1\" class=\"dataframe\">\n",
       "  <thead>\n",
       "    <tr style=\"text-align: right;\">\n",
       "      <th></th>\n",
       "      <th>Lat_Lon</th>\n",
       "      <th>lat</th>\n",
       "      <th>lon</th>\n",
       "    </tr>\n",
       "  </thead>\n",
       "  <tbody>\n",
       "    <tr>\n",
       "      <th>0</th>\n",
       "      <td>(40.652379, -73.889277)</td>\n",
       "      <td>40.652379000000000</td>\n",
       "      <td>-73.88927700000000</td>\n",
       "    </tr>\n",
       "    <tr>\n",
       "      <th>1</th>\n",
       "      <td>(40.813953, -73.859332)</td>\n",
       "      <td>40.813953000000000</td>\n",
       "      <td>-73.85933200000000</td>\n",
       "    </tr>\n",
       "    <tr>\n",
       "      <th>2</th>\n",
       "      <td>(40.732139, -73.867211)</td>\n",
       "      <td>40.732139000000000</td>\n",
       "      <td>-73.86721100000000</td>\n",
       "    </tr>\n",
       "    <tr>\n",
       "      <th>3</th>\n",
       "      <td>(40.739267, -73.716938)</td>\n",
       "      <td>40.739267000000000</td>\n",
       "      <td>-73.71693800000000</td>\n",
       "    </tr>\n",
       "    <tr>\n",
       "      <th>4</th>\n",
       "      <td>(40.86536643820413, -73.92438348096172)</td>\n",
       "      <td>40.865366438204130</td>\n",
       "      <td>-73.92438348096172</td>\n",
       "    </tr>\n",
       "  </tbody>\n",
       "</table>\n",
       "</div>"
      ],
      "text/plain": [
       "                                   Lat_Lon                 lat  \\\n",
       "0                  (40.652379, -73.889277)  40.652379000000000   \n",
       "1                  (40.813953, -73.859332)  40.813953000000000   \n",
       "2                  (40.732139, -73.867211)  40.732139000000000   \n",
       "3                  (40.739267, -73.716938)  40.739267000000000   \n",
       "4  (40.86536643820413, -73.92438348096172)  40.865366438204130   \n",
       "\n",
       "                  lon  \n",
       "0  -73.88927700000000  \n",
       "1  -73.85933200000000  \n",
       "2  -73.86721100000000  \n",
       "3  -73.71693800000000  \n",
       "4  -73.92438348096172  "
      ]
     },
     "execution_count": 15,
     "metadata": {},
     "output_type": "execute_result"
    }
   ],
   "source": [
    "unique_lat_lon_df = unique_lat_lon.collect().to_pandas()\n",
    "unique_lat_lon_df.head()"
   ]
  },
  {
   "cell_type": "markdown",
   "metadata": {},
   "source": [
    "### Loading NYC Zip Code Data"
   ]
  },
  {
   "cell_type": "markdown",
   "metadata": {},
   "source": [
    "* [Modified Zip Code Tabulation Areas (MODZCTA)](https://data.cityofnewyork.us/Health/Modified-Zip-Code-Tabulation-Areas-MODZCTA-/pri4-ifjk/about_data) is downloaded as `.geojson` locally and stored in `data` directory."
   ]
  },
  {
   "cell_type": "code",
   "execution_count": 16,
   "metadata": {},
   "outputs": [],
   "source": [
    "import geopandas\n",
    "\n",
    "unique_lat_lon_gdf = geopandas.GeoDataFrame(unique_lat_lon_df,\n",
    "                             geometry=geopandas.points_from_xy(unique_lat_lon_df.lon, unique_lat_lon_df.lat),\n",
    "                             crs=\"EPSG:4326\")\n",
    "\n",
    "fname = 'MODZCTA.geojson'\n",
    "fpath = os.path.join(sys.path[-1], data_dir, fname)\n",
    "\n",
    "assert os.path.exists(fpath), f'{os.path.abspath(fpath)} does not exists!'\n",
    "geo_df = geopandas.read_file(fpath)"
   ]
  },
  {
   "cell_type": "markdown",
   "metadata": {},
   "source": [
    "Extracting zip code"
   ]
  },
  {
   "cell_type": "code",
   "execution_count": 17,
   "metadata": {},
   "outputs": [],
   "source": [
    "import numpy as np\n",
    "\n",
    "zips = np.empty(unique_lat_lon_gdf.shape[0], dtype=object)\n",
    "for i, geom in enumerate(geo_df.geometry):\n",
    "    zips[unique_lat_lon_gdf.within(geom)] = geo_df.modzcta[i]\n",
    "zips[zips==None] = ''\n",
    "unique_lat_lon_gdf['zipcode'] = zips"
   ]
  },
  {
   "cell_type": "code",
   "execution_count": 18,
   "metadata": {},
   "outputs": [
    {
     "data": {
      "text/plain": [
       "Schema([('Lat_Lon', String), ('zipcode', String)])"
      ]
     },
     "execution_count": 18,
     "metadata": {},
     "output_type": "execute_result"
    }
   ],
   "source": [
    "lat_lon_zip_lf = pl.from_pandas(unique_lat_lon_gdf[['Lat_Lon','zipcode']]).lazy()\n",
    "lat_lon_zip_lf.collect_schema()"
   ]
  },
  {
   "cell_type": "markdown",
   "metadata": {},
   "source": [
    "Joining the Complait data with extracted zip code data"
   ]
  },
  {
   "cell_type": "code",
   "execution_count": 19,
   "metadata": {},
   "outputs": [
    {
     "data": {
      "text/plain": [
       "Schema([('CMPLNT_NUM', String),\n",
       "        ('ADDR_PCT_CD', Int64),\n",
       "        ('KY_CD', Int64),\n",
       "        ('OFNS_DESC', String),\n",
       "        ('PD_CD', Int64),\n",
       "        ('PD_DESC', String),\n",
       "        ('CRM_ATPT_CPTD_CD', String),\n",
       "        ('LAW_CAT_CD', String),\n",
       "        ('BORO_NM', String),\n",
       "        ('LOC_OF_OCCUR_DESC', String),\n",
       "        ('PREM_TYP_DESC', String),\n",
       "        ('JURIS_DESC', String),\n",
       "        ('JURISDICTION_CODE', Int64),\n",
       "        ('PARKS_NM', String),\n",
       "        ('HADEVELOPT', String),\n",
       "        ('HOUSING_PSA', String),\n",
       "        ('X_COORD_CD', Int64),\n",
       "        ('Y_COORD_CD', Int64),\n",
       "        ('SUSP_AGE_GROUP', String),\n",
       "        ('SUSP_RACE', String),\n",
       "        ('SUSP_SEX', String),\n",
       "        ('TRANSIT_DISTRICT', String),\n",
       "        ('Latitude', Float64),\n",
       "        ('Longitude', Float64),\n",
       "        ('Lat_Lon', String),\n",
       "        ('PATROL_BORO', String),\n",
       "        ('STATION_NAME', String),\n",
       "        ('VIC_AGE_GROUP', String),\n",
       "        ('VIC_RACE', String),\n",
       "        ('VIC_SEX', String),\n",
       "        ('report_date', Date),\n",
       "        ('cmplnt_from_date', Datetime(time_unit='us', time_zone=None)),\n",
       "        ('cmplnt_to_date', Datetime(time_unit='us', time_zone=None)),\n",
       "        ('zipcode', String)])"
      ]
     },
     "execution_count": 19,
     "metadata": {},
     "output_type": "execute_result"
    }
   ],
   "source": [
    "complaint_lf = complaint_lf.join(lat_lon_zip_lf, on='Lat_Lon')\n",
    "complaint_lf.collect_schema()"
   ]
  },
  {
   "cell_type": "markdown",
   "metadata": {},
   "source": [
    "- Cleaning variables with null value as '(null)' to actual `null` values."
   ]
  },
  {
   "cell_type": "code",
   "execution_count": 20,
   "metadata": {},
   "outputs": [],
   "source": [
    "import polars.selectors as cs\n",
    "\n",
    "complaint_lf = complaint_lf.with_columns(pl.when(cs.by_dtype(pl.String).str.contains('(null)')).then(None).otherwise(cs.by_dtype(pl.String)).name.keep())"
   ]
  },
  {
   "cell_type": "markdown",
   "metadata": {},
   "source": [
    "- Cast `Int64` dtypes to `Int32` in polars"
   ]
  },
  {
   "cell_type": "code",
   "execution_count": 21,
   "metadata": {},
   "outputs": [],
   "source": [
    "complaint_lf = complaint_lf.with_columns(cs.by_dtype(pl.Int64).cast(pl.Int32).name.keep())"
   ]
  },
  {
   "cell_type": "markdown",
   "metadata": {},
   "source": [
    "### Schema adjustments"
   ]
  },
  {
   "cell_type": "markdown",
   "metadata": {},
   "source": [
    "* Existing schema for the dataset in `ai4sg` DB is given below:\n",
    "```sql\n",
    "CREATE TABLE `nyc_crime` (\n",
    "  `id` int NOT NULL,\n",
    "  `CMPLNT_NUM` text,\n",
    "  `ADDR_PCT_CD` double DEFAULT NULL,\n",
    "  `BORO_NM` text,\n",
    "  `CRM_ATPT_CPTD_CD` text,\n",
    "  `HADEVELOPT` text,\n",
    "  `HOUSING_PSA` text,\n",
    "  `JURISDICTION_CODE` int DEFAULT NULL,\n",
    "  `JURIS_DESC` text,\n",
    "  `KY_CD` int DEFAULT NULL,\n",
    "  `LAW_CAT_CD` text,\n",
    "  `LOC_OF_OCCUR_DESC` text,\n",
    "  `OFNS_DESC` text,\n",
    "  `PARKS_NM` text,\n",
    "  `PATROL_BORO` text,\n",
    "  `PD_CD` double DEFAULT NULL,\n",
    "  `PD_DESC` text,\n",
    "  `PREM_TYP_DESC` text,\n",
    "  `report_date` datetime DEFAULT NULL,\n",
    "  `STATION_NAME` text,\n",
    "  `SUSP_AGE_GROUP` text,\n",
    "  `SUSP_RACE` text,\n",
    "  `SUSP_SEX` text,\n",
    "  `TRANSIT_DISTRICT` text,\n",
    "  `VIC_AGE_GROUP` text,\n",
    "  `VIC_RACE` text,\n",
    "  `VIC_SEX` text,\n",
    "  `X_COORD_CD` int DEFAULT NULL,\n",
    "  `Y_COORD_CD` int DEFAULT NULL,\n",
    "  `Latitude` double DEFAULT NULL,\n",
    "  `Longitude` double DEFAULT NULL,\n",
    "  `Lat_Lon` text,\n",
    "  `New Georeferenced Column` text,\n",
    "  `zipcode` varchar(10) DEFAULT NULL,\n",
    "  `cmplnt_from_date` datetime DEFAULT NULL,\n",
    "  `cmplnt_to_date` datetime DEFAULT NULL,\n",
    "  PRIMARY KEY (`id`)\n",
    ");\n",
    "```"
   ]
  },
  {
   "cell_type": "code",
   "execution_count": 22,
   "metadata": {},
   "outputs": [
    {
     "data": {
      "text/plain": [
       "Schema([('CMPLNT_NUM', String),\n",
       "        ('ADDR_PCT_CD', Int32),\n",
       "        ('KY_CD', Int32),\n",
       "        ('OFNS_DESC', String),\n",
       "        ('PD_CD', Int32),\n",
       "        ('PD_DESC', String),\n",
       "        ('CRM_ATPT_CPTD_CD', String),\n",
       "        ('LAW_CAT_CD', String),\n",
       "        ('BORO_NM', String),\n",
       "        ('LOC_OF_OCCUR_DESC', String),\n",
       "        ('PREM_TYP_DESC', String),\n",
       "        ('JURIS_DESC', String),\n",
       "        ('JURISDICTION_CODE', Int32),\n",
       "        ('PARKS_NM', String),\n",
       "        ('HADEVELOPT', String),\n",
       "        ('HOUSING_PSA', String),\n",
       "        ('X_COORD_CD', Int32),\n",
       "        ('Y_COORD_CD', Int32),\n",
       "        ('SUSP_AGE_GROUP', String),\n",
       "        ('SUSP_RACE', String),\n",
       "        ('SUSP_SEX', String),\n",
       "        ('TRANSIT_DISTRICT', String),\n",
       "        ('Latitude', Float64),\n",
       "        ('Longitude', Float64),\n",
       "        ('Lat_Lon', String),\n",
       "        ('PATROL_BORO', String),\n",
       "        ('STATION_NAME', String),\n",
       "        ('VIC_AGE_GROUP', String),\n",
       "        ('VIC_RACE', String),\n",
       "        ('VIC_SEX', String),\n",
       "        ('report_date', Date),\n",
       "        ('cmplnt_from_date', Datetime(time_unit='us', time_zone=None)),\n",
       "        ('cmplnt_to_date', Datetime(time_unit='us', time_zone=None)),\n",
       "        ('zipcode', String)])"
      ]
     },
     "execution_count": 22,
     "metadata": {},
     "output_type": "execute_result"
    }
   ],
   "source": [
    "complaint_lf.collect_schema()"
   ]
  },
  {
   "cell_type": "markdown",
   "metadata": {},
   "source": [
    "### Cleaned data to MySQL"
   ]
  },
  {
   "cell_type": "markdown",
   "metadata": {},
   "source": [
    "Implementing `.collect()` method on the entire lazyFrame to execute all calculations and joins in sequence."
   ]
  },
  {
   "cell_type": "code",
   "execution_count": 23,
   "metadata": {},
   "outputs": [
    {
     "name": "stdout",
     "output_type": "stream",
     "text": [
      " WITH_COLUMNS:\n",
      " [when(col(\"CMPLNT_NUM\").str.contains([String((null))])).then(null.strict_cast(String)).otherwise(col(\"CMPLNT_NUM\")).alias(\"CMPLNT_NUM\"), when(col(\"OFNS_DESC\").str.contains([String((null))])).then(null.strict_cast(String)).otherwise(col(\"OFNS_DESC\")).alias(\"OFNS_DESC\"), when(col(\"PD_DESC\").str.contains([String((null))])).then(null.strict_cast(String)).otherwise(col(\"PD_DESC\")).alias(\"PD_DESC\"), when(col(\"CRM_ATPT_CPTD_CD\").str.contains([String((null))])).then(null.strict_cast(String)).otherwise(col(\"CRM_ATPT_CPTD_CD\")).alias(\"CRM_ATPT_CPTD_CD\"), when(col(\"LAW_CAT_CD\").str.contains([String((null))])).then(null.strict_cast(String)).otherwise(col(\"LAW_CAT_CD\")).alias(\"LAW_CAT_CD\"), when(col(\"BORO_NM\").str.contains([String((null))])).then(null.strict_cast(String)).otherwise(col(\"BORO_NM\")).alias(\"BORO_NM\"), when(col(\"LOC_OF_OCCUR_DESC\").str.contains([String((null))])).then(null.strict_cast(String)).otherwise(col(\"LOC_OF_OCCUR_DESC\")).alias(\"LOC_OF_OCCUR_DESC\"), when(col(\"PREM_TYP_DESC\").str.contains([String((null))])).then(null.strict_cast(String)).otherwise(col(\"PREM_TYP_DESC\")).alias(\"PREM_TYP_DESC\"), when(col(\"JURIS_DESC\").str.contains([String((null))])).then(null.strict_cast(String)).otherwise(col(\"JURIS_DESC\")).alias(\"JURIS_DESC\"), when(col(\"PARKS_NM\").str.contains([String((null))])).then(null.strict_cast(String)).otherwise(col(\"PARKS_NM\")).alias(\"PARKS_NM\"), when(col(\"HADEVELOPT\").str.contains([String((null))])).then(null.strict_cast(String)).otherwise(col(\"HADEVELOPT\")).alias(\"HADEVELOPT\"), when(col(\"HOUSING_PSA\").str.contains([String((null))])).then(null.strict_cast(String)).otherwise(col(\"HOUSING_PSA\")).alias(\"HOUSING_PSA\"), when(col(\"SUSP_AGE_GROUP\").str.contains([String((null))])).then(null.strict_cast(String)).otherwise(col(\"SUSP_AGE_GROUP\")).alias(\"SUSP_AGE_GROUP\"), when(col(\"SUSP_RACE\").str.contains([String((null))])).then(null.strict_cast(String)).otherwise(col(\"SUSP_RACE\")).alias(\"SUSP_RACE\"), when(col(\"SUSP_SEX\").str.contains([String((null))])).then(null.strict_cast(String)).otherwise(col(\"SUSP_SEX\")).alias(\"SUSP_SEX\"), when(col(\"TRANSIT_DISTRICT\").str.contains([String((null))])).then(null.strict_cast(String)).otherwise(col(\"TRANSIT_DISTRICT\")).alias(\"TRANSIT_DISTRICT\"), when(col(\"Lat_Lon\").str.contains([String((null))])).then(null.strict_cast(String)).otherwise(col(\"Lat_Lon\")).alias(\"Lat_Lon\"), when(col(\"PATROL_BORO\").str.contains([String((null))])).then(null.strict_cast(String)).otherwise(col(\"PATROL_BORO\")).alias(\"PATROL_BORO\"), when(col(\"STATION_NAME\").str.contains([String((null))])).then(null.strict_cast(String)).otherwise(col(\"STATION_NAME\")).alias(\"STATION_NAME\"), when(col(\"VIC_AGE_GROUP\").str.contains([String((null))])).then(null.strict_cast(String)).otherwise(col(\"VIC_AGE_GROUP\")).alias(\"VIC_AGE_GROUP\"), when(col(\"VIC_RACE\").str.contains([String((null))])).then(null.strict_cast(String)).otherwise(col(\"VIC_RACE\")).alias(\"VIC_RACE\"), when(col(\"VIC_SEX\").str.contains([String((null))])).then(null.strict_cast(String)).otherwise(col(\"VIC_SEX\")).alias(\"VIC_SEX\"), when(col(\"zipcode\").str.contains([String((null))])).then(null.strict_cast(String)).otherwise(col(\"zipcode\")).alias(\"zipcode\"), col(\"ADDR_PCT_CD\").strict_cast(Int32).alias(\"ADDR_PCT_CD\"), col(\"KY_CD\").strict_cast(Int32).alias(\"KY_CD\"), col(\"PD_CD\").strict_cast(Int32).alias(\"PD_CD\"), col(\"JURISDICTION_CODE\").strict_cast(Int32).alias(\"JURISDICTION_CODE\"), col(\"X_COORD_CD\").strict_cast(Int32).alias(\"X_COORD_CD\"), col(\"Y_COORD_CD\").strict_cast(Int32).alias(\"Y_COORD_CD\")] \n",
      "  INNER JOIN:\n",
      "  LEFT PLAN ON: [col(\"Lat_Lon\")]\n",
      "    UNIQUE[maintain_order: false, keep_strategy: Any] BY Some([\"CMPLNT_NUM\"])\n",
      "       WITH_COLUMNS:\n",
      "       [when([(col(\"cmplnt_from_date\").dt.year()) < (1900)]).then(null.strict_cast(Datetime(Microseconds, None))).otherwise(col(\"cmplnt_from_date\")).alias(\"cmplnt_from_date\"), when([(col(\"cmplnt_to_date\").dt.year()) < (1900)]).then(null.strict_cast(Datetime(Microseconds, None))).otherwise(col(\"cmplnt_to_date\")).alias(\"cmplnt_to_date\")] \n",
      "        simple π 33/37 [\"CMPLNT_NUM\", \"ADDR_PCT_CD\", ... 31 other columns]\n",
      "           WITH_COLUMNS:\n",
      "           [col(\"CMPLNT_FR_DT\").dt.combine([col(\"CMPLNT_FR_TM\")]).alias(\"cmplnt_from_date\"), col(\"CMPLNT_TO_DT\").dt.combine([col(\"CMPLNT_TO_TM\")]).alias(\"cmplnt_to_date\")] \n",
      "            simple π 35/36 [\"CMPLNT_NUM\", \"CMPLNT_FR_DT\", ... 33 other columns]\n",
      "               WITH_COLUMNS:\n",
      "               [col(\"CMPLNT_FR_DT\").str.strptime([String(raise)]), col(\"CMPLNT_TO_DT\").str.strptime([String(raise)]), col(\"RPT_DT\").str.strptime([String(raise)]).alias(\"report_date\"), when(col(\"CMPLNT_TO_TM\").str.contains([String((null))])).then(null.strict_cast(String)).otherwise(col(\"CMPLNT_TO_TM\")).str.strptime([String(raise)]).alias(\"CMPLNT_TO_TM\")] \n",
      "                Csv SCAN [../data/NYPD_Complaint_Data_Historic_20241027.csv]\n",
      "                PROJECT 35/35 COLUMNS\n",
      "  RIGHT PLAN ON: [col(\"Lat_Lon\")]\n",
      "    DF [\"Lat_Lon\", \"zipcode\"]; PROJECT */2 COLUMNS; SELECTION: None\n",
      "  END INNER JOIN\n"
     ]
    }
   ],
   "source": [
    "print(complaint_lf.explain(format='plain'))"
   ]
  },
  {
   "cell_type": "markdown",
   "metadata": {},
   "source": [
    "* Sorting the data using `cmplnt_from_date` and then creating `id` column"
   ]
  },
  {
   "cell_type": "code",
   "execution_count": 24,
   "metadata": {},
   "outputs": [
    {
     "data": {
      "text/html": [
       "<div><style>\n",
       ".dataframe > thead > tr,\n",
       ".dataframe > tbody > tr {\n",
       "  text-align: right;\n",
       "  white-space: pre-wrap;\n",
       "}\n",
       "</style>\n",
       "<small>shape: (5, 35)</small><table border=\"1\" class=\"dataframe\"><thead><tr><th>id</th><th>CMPLNT_NUM</th><th>ADDR_PCT_CD</th><th>KY_CD</th><th>OFNS_DESC</th><th>PD_CD</th><th>PD_DESC</th><th>CRM_ATPT_CPTD_CD</th><th>LAW_CAT_CD</th><th>BORO_NM</th><th>LOC_OF_OCCUR_DESC</th><th>PREM_TYP_DESC</th><th>JURIS_DESC</th><th>JURISDICTION_CODE</th><th>PARKS_NM</th><th>HADEVELOPT</th><th>HOUSING_PSA</th><th>X_COORD_CD</th><th>Y_COORD_CD</th><th>SUSP_AGE_GROUP</th><th>SUSP_RACE</th><th>SUSP_SEX</th><th>TRANSIT_DISTRICT</th><th>Latitude</th><th>Longitude</th><th>Lat_Lon</th><th>PATROL_BORO</th><th>STATION_NAME</th><th>VIC_AGE_GROUP</th><th>VIC_RACE</th><th>VIC_SEX</th><th>report_date</th><th>cmplnt_from_date</th><th>cmplnt_to_date</th><th>zipcode</th></tr><tr><td>u32</td><td>str</td><td>i32</td><td>i32</td><td>str</td><td>i32</td><td>str</td><td>str</td><td>str</td><td>str</td><td>str</td><td>str</td><td>str</td><td>i32</td><td>str</td><td>str</td><td>str</td><td>i32</td><td>i32</td><td>str</td><td>str</td><td>str</td><td>str</td><td>f64</td><td>f64</td><td>str</td><td>str</td><td>str</td><td>str</td><td>str</td><td>str</td><td>date</td><td>datetime[μs]</td><td>datetime[μs]</td><td>str</td></tr></thead><tbody><tr><td>1</td><td>&quot;26098448&quot;</td><td>110</td><td>341</td><td>&quot;PETIT LARCENY&quot;</td><td>343</td><td>&quot;LARCENY,PETIT OF BICYCLE&quot;</td><td>&quot;COMPLETED&quot;</td><td>&quot;MISDEMEANOR&quot;</td><td>&quot;QUEENS&quot;</td><td>&quot;REAR OF&quot;</td><td>&quot;RESIDENCE-HOUSE&quot;</td><td>&quot;N.Y. POLICE DEPT&quot;</td><td>0</td><td>null</td><td>null</td><td>null</td><td>1024195</td><td>211939</td><td>null</td><td>null</td><td>null</td><td>null</td><td>40.74831</td><td>-73.855836</td><td>&quot;(40.74831, -73.855836)&quot;</td><td>&quot;PATROL BORO QUEENS NORTH&quot;</td><td>null</td><td>&quot;25-44&quot;</td><td>&quot;WHITE HISPANIC&quot;</td><td>&quot;F&quot;</td><td>2006-12-30</td><td>null</td><td>2006-12-30 18:00:00</td><td>&quot;11368&quot;</td></tr><tr><td>2</td><td>&quot;72334535&quot;</td><td>32</td><td>351</td><td>&quot;CRIMINAL MISCHIEF &amp; RELATED OF&quot;</td><td>259</td><td>&quot;CRIMINAL MISCHIEF,UNCLASSIFIED…</td><td>&quot;COMPLETED&quot;</td><td>&quot;MISDEMEANOR&quot;</td><td>&quot;MANHATTAN&quot;</td><td>&quot;INSIDE&quot;</td><td>&quot;RESIDENCE - PUBLIC HOUSING&quot;</td><td>&quot;N.Y. HOUSING POLICE&quot;</td><td>2</td><td>null</td><td>null</td><td>&quot;4552&quot;</td><td>1001767</td><td>241659</td><td>null</td><td>null</td><td>null</td><td>null</td><td>40.829956</td><td>-73.936699</td><td>&quot;(40.829956, -73.936699)&quot;</td><td>&quot;PATROL BORO MAN NORTH&quot;</td><td>null</td><td>&quot;25-44&quot;</td><td>&quot;WHITE HISPANIC&quot;</td><td>&quot;F&quot;</td><td>2010-04-19</td><td>null</td><td>null</td><td>&quot;10039&quot;</td></tr><tr><td>3</td><td>&quot;81415903&quot;</td><td>18</td><td>578</td><td>&quot;HARRASSMENT 2&quot;</td><td>637</td><td>&quot;HARASSMENT,SUBD 1,CIVILIAN&quot;</td><td>&quot;COMPLETED&quot;</td><td>&quot;VIOLATION&quot;</td><td>&quot;MANHATTAN&quot;</td><td>null</td><td>&quot;STREET&quot;</td><td>&quot;N.Y. POLICE DEPT&quot;</td><td>0</td><td>null</td><td>null</td><td>null</td><td>987945</td><td>218576</td><td>null</td><td>&quot;WHITE&quot;</td><td>&quot;M&quot;</td><td>null</td><td>40.766616</td><td>-73.986661</td><td>&quot;(40.76661622, -73.98666083)&quot;</td><td>&quot;PATROL BORO MAN SOUTH&quot;</td><td>null</td><td>&quot;25-44&quot;</td><td>&quot;WHITE HISPANIC&quot;</td><td>&quot;M&quot;</td><td>2011-10-25</td><td>null</td><td>2011-10-20 02:35:00</td><td>&quot;10019&quot;</td></tr><tr><td>4</td><td>&quot;59522748&quot;</td><td>6</td><td>109</td><td>&quot;GRAND LARCENY&quot;</td><td>438</td><td>&quot;LARCENY,GRAND FROM BUILDING (N…</td><td>&quot;COMPLETED&quot;</td><td>&quot;FELONY&quot;</td><td>&quot;MANHATTAN&quot;</td><td>&quot;INSIDE&quot;</td><td>&quot;RESTAURANT/DINER&quot;</td><td>&quot;N.Y. POLICE DEPT&quot;</td><td>0</td><td>null</td><td>null</td><td>null</td><td>984172</td><td>205736</td><td>null</td><td>null</td><td>null</td><td>null</td><td>40.731375</td><td>-74.000279</td><td>&quot;(40.731375, -74.000279)&quot;</td><td>&quot;PATROL BORO MAN SOUTH&quot;</td><td>null</td><td>&quot;25-44&quot;</td><td>&quot;UNKNOWN&quot;</td><td>&quot;F&quot;</td><td>2009-03-05</td><td>null</td><td>2009-02-18 20:00:00</td><td>&quot;10011&quot;</td></tr><tr><td>5</td><td>&quot;94379546&quot;</td><td>73</td><td>106</td><td>&quot;FELONY ASSAULT&quot;</td><td>109</td><td>&quot;ASSAULT 2,1,UNCLASSIFIED&quot;</td><td>&quot;COMPLETED&quot;</td><td>&quot;FELONY&quot;</td><td>&quot;BROOKLYN&quot;</td><td>null</td><td>&quot;STREET&quot;</td><td>&quot;N.Y. POLICE DEPT&quot;</td><td>0</td><td>null</td><td>null</td><td>null</td><td>1007809</td><td>179759</td><td>null</td><td>&quot;BLACK&quot;</td><td>&quot;M&quot;</td><td>null</td><td>40.660042</td><td>-73.915086</td><td>&quot;(40.66004225, -73.91508647)&quot;</td><td>&quot;PATROL BORO BKLYN NORTH&quot;</td><td>null</td><td>&quot;25-44&quot;</td><td>&quot;BLACK&quot;</td><td>&quot;M&quot;</td><td>2014-01-09</td><td>null</td><td>null</td><td>&quot;11212&quot;</td></tr></tbody></table></div>"
      ],
      "text/plain": [
       "shape: (5, 35)\n",
       "┌─────┬────────────┬─────────────┬───────┬───┬─────────────┬──────────────┬──────────────┬─────────┐\n",
       "│ id  ┆ CMPLNT_NUM ┆ ADDR_PCT_CD ┆ KY_CD ┆ … ┆ report_date ┆ cmplnt_from_ ┆ cmplnt_to_da ┆ zipcode │\n",
       "│ --- ┆ ---        ┆ ---         ┆ ---   ┆   ┆ ---         ┆ date         ┆ te           ┆ ---     │\n",
       "│ u32 ┆ str        ┆ i32         ┆ i32   ┆   ┆ date        ┆ ---          ┆ ---          ┆ str     │\n",
       "│     ┆            ┆             ┆       ┆   ┆             ┆ datetime[μs] ┆ datetime[μs] ┆         │\n",
       "╞═════╪════════════╪═════════════╪═══════╪═══╪═════════════╪══════════════╪══════════════╪═════════╡\n",
       "│ 1   ┆ 26098448   ┆ 110         ┆ 341   ┆ … ┆ 2006-12-30  ┆ null         ┆ 2006-12-30   ┆ 11368   │\n",
       "│     ┆            ┆             ┆       ┆   ┆             ┆              ┆ 18:00:00     ┆         │\n",
       "│ 2   ┆ 72334535   ┆ 32          ┆ 351   ┆ … ┆ 2010-04-19  ┆ null         ┆ null         ┆ 10039   │\n",
       "│ 3   ┆ 81415903   ┆ 18          ┆ 578   ┆ … ┆ 2011-10-25  ┆ null         ┆ 2011-10-20   ┆ 10019   │\n",
       "│     ┆            ┆             ┆       ┆   ┆             ┆              ┆ 02:35:00     ┆         │\n",
       "│ 4   ┆ 59522748   ┆ 6           ┆ 109   ┆ … ┆ 2009-03-05  ┆ null         ┆ 2009-02-18   ┆ 10011   │\n",
       "│     ┆            ┆             ┆       ┆   ┆             ┆              ┆ 20:00:00     ┆         │\n",
       "│ 5   ┆ 94379546   ┆ 73          ┆ 106   ┆ … ┆ 2014-01-09  ┆ null         ┆ null         ┆ 11212   │\n",
       "└─────┴────────────┴─────────────┴───────┴───┴─────────────┴──────────────┴──────────────┴─────────┘"
      ]
     },
     "execution_count": 24,
     "metadata": {},
     "output_type": "execute_result"
    }
   ],
   "source": [
    "complaint_lf = complaint_lf.sort('cmplnt_from_date').with_row_index('id', offset=1)\n",
    "complaint_lf.head().collect()"
   ]
  },
  {
   "cell_type": "code",
   "execution_count": 25,
   "metadata": {},
   "outputs": [
    {
     "data": {
      "text/plain": [
       "8913268"
      ]
     },
     "execution_count": 25,
     "metadata": {},
     "output_type": "execute_result"
    }
   ],
   "source": [
    "complaint_lf_len = complaint_lf.select(pl.len()).collect().item()\n",
    "complaint_lf_len"
   ]
  },
  {
   "cell_type": "markdown",
   "metadata": {},
   "source": [
    "- Breaking down the entire LazyFrame to chunks and loading the contents directly into MySQL DB. The chunk size can be increased for faster transfer speed depending on the memory available.\n",
    "\n",
    "**Note:** The table in DB should not contain any rows prior to this operation."
   ]
  },
  {
   "cell_type": "code",
   "execution_count": 26,
   "metadata": {},
   "outputs": [],
   "source": [
    "from sqlalchemy import create_engine\n",
    "\n",
    "# Create a SQLAlchemy engine\n",
    "mysql_uri = f\"mysql+pymysql://{env_vars['MYSQL_USER']}:{env_vars['MYSQL_PWD']}@{env_vars['MYSQL_HOST']}:{env_vars['MYSQL_PORT']}/{env_vars['MYSQL_DB_NAME']}\"\n",
    "engine = create_engine(mysql_uri)\n",
    "\n",
    "offset = 0\n",
    "chunk_size = 1000000\n",
    "\n",
    "while offset < complaint_lf_len:\n",
    "    complaint_df = complaint_lf.slice(offset, chunk_size).collect()\n",
    "    complaint_df.write_database(env_vars['MYSQL_TABLE_NAME'], connection=engine, if_table_exists='append')\n",
    "    offset += chunk_size"
   ]
  },
  {
   "cell_type": "code",
   "execution_count": null,
   "metadata": {},
   "outputs": [],
   "source": []
  }
 ],
 "metadata": {
  "kernelspec": {
   "display_name": ".venv",
   "language": "python",
   "name": "python3"
  },
  "language_info": {
   "codemirror_mode": {
    "name": "ipython",
    "version": 3
   },
   "file_extension": ".py",
   "mimetype": "text/x-python",
   "name": "python",
   "nbconvert_exporter": "python",
   "pygments_lexer": "ipython3",
   "version": "3.12.3"
  }
 },
 "nbformat": 4,
 "nbformat_minor": 2
}
