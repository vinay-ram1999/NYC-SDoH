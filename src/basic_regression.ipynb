{
 "cells": [
  {
   "cell_type": "markdown",
   "metadata": {},
   "source": [
    "# Basic Regression Analysis"
   ]
  },
  {
   "cell_type": "markdown",
   "metadata": {},
   "source": [
    "Import the clenaed `.csv` file"
   ]
  },
  {
   "cell_type": "code",
   "execution_count": 9,
   "metadata": {},
   "outputs": [
    {
     "data": {
      "text/html": [
       "<div>\n",
       "<style scoped>\n",
       "    .dataframe tbody tr th:only-of-type {\n",
       "        vertical-align: middle;\n",
       "    }\n",
       "\n",
       "    .dataframe tbody tr th {\n",
       "        vertical-align: top;\n",
       "    }\n",
       "\n",
       "    .dataframe thead th {\n",
       "        text-align: right;\n",
       "    }\n",
       "</style>\n",
       "<table border=\"1\" class=\"dataframe\">\n",
       "  <thead>\n",
       "    <tr style=\"text-align: right;\">\n",
       "      <th></th>\n",
       "      <th>county</th>\n",
       "      <th>er_visits</th>\n",
       "      <th>electrical</th>\n",
       "      <th>garbage</th>\n",
       "      <th>rodent</th>\n",
       "      <th>safety</th>\n",
       "      <th>water_plumbing</th>\n",
       "      <th>violations</th>\n",
       "    </tr>\n",
       "  </thead>\n",
       "  <tbody>\n",
       "    <tr>\n",
       "      <th>0</th>\n",
       "      <td>manhattan</td>\n",
       "      <td>0.136293</td>\n",
       "      <td>0.128527</td>\n",
       "      <td>0.255951</td>\n",
       "      <td>0.169087</td>\n",
       "      <td>0.365729</td>\n",
       "      <td>0.149849</td>\n",
       "      <td>0.418877</td>\n",
       "    </tr>\n",
       "    <tr>\n",
       "      <th>1</th>\n",
       "      <td>manhattan</td>\n",
       "      <td>0.133178</td>\n",
       "      <td>0.101881</td>\n",
       "      <td>0.204466</td>\n",
       "      <td>0.241701</td>\n",
       "      <td>0.214834</td>\n",
       "      <td>0.071160</td>\n",
       "      <td>0.523401</td>\n",
       "    </tr>\n",
       "    <tr>\n",
       "      <th>2</th>\n",
       "      <td>manhattan</td>\n",
       "      <td>0.106698</td>\n",
       "      <td>0.159875</td>\n",
       "      <td>0.245617</td>\n",
       "      <td>0.280083</td>\n",
       "      <td>0.250639</td>\n",
       "      <td>0.065328</td>\n",
       "      <td>0.493760</td>\n",
       "    </tr>\n",
       "    <tr>\n",
       "      <th>3</th>\n",
       "      <td>manhattan</td>\n",
       "      <td>0.121495</td>\n",
       "      <td>0.106583</td>\n",
       "      <td>0.246171</td>\n",
       "      <td>0.156639</td>\n",
       "      <td>0.260870</td>\n",
       "      <td>0.175537</td>\n",
       "      <td>0.297192</td>\n",
       "    </tr>\n",
       "    <tr>\n",
       "      <th>4</th>\n",
       "      <td>manhattan</td>\n",
       "      <td>0.164330</td>\n",
       "      <td>0.128527</td>\n",
       "      <td>0.243956</td>\n",
       "      <td>0.160788</td>\n",
       "      <td>0.286445</td>\n",
       "      <td>0.231490</td>\n",
       "      <td>0.302652</td>\n",
       "    </tr>\n",
       "  </tbody>\n",
       "</table>\n",
       "</div>"
      ],
      "text/plain": [
       "      county  er_visits  electrical   garbage    rodent    safety  \\\n",
       "0  manhattan   0.136293    0.128527  0.255951  0.169087  0.365729   \n",
       "1  manhattan   0.133178    0.101881  0.204466  0.241701  0.214834   \n",
       "2  manhattan   0.106698    0.159875  0.245617  0.280083  0.250639   \n",
       "3  manhattan   0.121495    0.106583  0.246171  0.156639  0.260870   \n",
       "4  manhattan   0.164330    0.128527  0.243956  0.160788  0.286445   \n",
       "\n",
       "   water_plumbing  violations  \n",
       "0        0.149849    0.418877  \n",
       "1        0.071160    0.523401  \n",
       "2        0.065328    0.493760  \n",
       "3        0.175537    0.297192  \n",
       "4        0.231490    0.302652  "
      ]
     },
     "execution_count": 9,
     "metadata": {},
     "output_type": "execute_result"
    }
   ],
   "source": [
    "import pandas as pd\n",
    "\n",
    "clean_neighborhood_file = \"cleaned_CombinedSummaryByNeighborhoodQuarter2022\"\n",
    "df = pd.read_csv(\"../data/%s.csv\" %clean_neighborhood_file)\n",
    "df.head()"
   ]
  },
  {
   "cell_type": "markdown",
   "metadata": {},
   "source": [
    "## Encode County Variable"
   ]
  },
  {
   "cell_type": "markdown",
   "metadata": {},
   "source": [
    "Here, we will be considering `county` as a categorical variable and encode it using one-hot encoding technique."
   ]
  },
  {
   "cell_type": "code",
   "execution_count": 10,
   "metadata": {},
   "outputs": [
    {
     "name": "stdout",
     "output_type": "stream",
     "text": [
      "<class 'pandas.core.frame.DataFrame'>\n",
      "RangeIndex: 168 entries, 0 to 167\n",
      "Data columns (total 12 columns):\n",
      " #   Column          Non-Null Count  Dtype  \n",
      "---  ------          --------------  -----  \n",
      " 0   er_visits       168 non-null    float64\n",
      " 1   electrical      168 non-null    float64\n",
      " 2   garbage         168 non-null    float64\n",
      " 3   rodent          168 non-null    float64\n",
      " 4   safety          168 non-null    float64\n",
      " 5   water_plumbing  168 non-null    float64\n",
      " 6   violations      168 non-null    float64\n",
      " 7   bronx           168 non-null    int64  \n",
      " 8   brooklyn        168 non-null    int64  \n",
      " 9   manhattan       168 non-null    int64  \n",
      " 10  queens          168 non-null    int64  \n",
      " 11  staten_island   168 non-null    int64  \n",
      "dtypes: float64(7), int64(5)\n",
      "memory usage: 15.9 KB\n"
     ]
    }
   ],
   "source": [
    "one_hot_enc = pd.get_dummies(df['county'], dtype=int)\n",
    "df_copy = df.join(one_hot_enc)\n",
    "df_copy.drop('county', axis=1, inplace=True)\n",
    "df_copy.info()"
   ]
  },
  {
   "cell_type": "code",
   "execution_count": 11,
   "metadata": {},
   "outputs": [
    {
     "name": "stdout",
     "output_type": "stream",
     "text": [
      "(134, 11) (134,)\n",
      "(34, 11) (34,)\n",
      "13\n",
      "3\n"
     ]
    },
    {
     "data": {
      "text/html": [
       "<div>\n",
       "<style scoped>\n",
       "    .dataframe tbody tr th:only-of-type {\n",
       "        vertical-align: middle;\n",
       "    }\n",
       "\n",
       "    .dataframe tbody tr th {\n",
       "        vertical-align: top;\n",
       "    }\n",
       "\n",
       "    .dataframe thead th {\n",
       "        text-align: right;\n",
       "    }\n",
       "</style>\n",
       "<table border=\"1\" class=\"dataframe\">\n",
       "  <thead>\n",
       "    <tr style=\"text-align: right;\">\n",
       "      <th></th>\n",
       "      <th>er_visits</th>\n",
       "      <th>electrical</th>\n",
       "      <th>garbage</th>\n",
       "      <th>rodent</th>\n",
       "      <th>safety</th>\n",
       "      <th>water_plumbing</th>\n",
       "      <th>violations</th>\n",
       "      <th>bronx</th>\n",
       "      <th>brooklyn</th>\n",
       "      <th>manhattan</th>\n",
       "      <th>queens</th>\n",
       "      <th>staten_island</th>\n",
       "    </tr>\n",
       "  </thead>\n",
       "  <tbody>\n",
       "    <tr>\n",
       "      <th>0</th>\n",
       "      <td>0.136293</td>\n",
       "      <td>0.128527</td>\n",
       "      <td>0.255951</td>\n",
       "      <td>0.169087</td>\n",
       "      <td>0.365729</td>\n",
       "      <td>0.149849</td>\n",
       "      <td>0.418877</td>\n",
       "      <td>0</td>\n",
       "      <td>0</td>\n",
       "      <td>1</td>\n",
       "      <td>0</td>\n",
       "      <td>0</td>\n",
       "    </tr>\n",
       "    <tr>\n",
       "      <th>1</th>\n",
       "      <td>0.133178</td>\n",
       "      <td>0.101881</td>\n",
       "      <td>0.204466</td>\n",
       "      <td>0.241701</td>\n",
       "      <td>0.214834</td>\n",
       "      <td>0.071160</td>\n",
       "      <td>0.523401</td>\n",
       "      <td>0</td>\n",
       "      <td>0</td>\n",
       "      <td>1</td>\n",
       "      <td>0</td>\n",
       "      <td>0</td>\n",
       "    </tr>\n",
       "    <tr>\n",
       "      <th>2</th>\n",
       "      <td>0.106698</td>\n",
       "      <td>0.159875</td>\n",
       "      <td>0.245617</td>\n",
       "      <td>0.280083</td>\n",
       "      <td>0.250639</td>\n",
       "      <td>0.065328</td>\n",
       "      <td>0.493760</td>\n",
       "      <td>0</td>\n",
       "      <td>0</td>\n",
       "      <td>1</td>\n",
       "      <td>0</td>\n",
       "      <td>0</td>\n",
       "    </tr>\n",
       "    <tr>\n",
       "      <th>3</th>\n",
       "      <td>0.121495</td>\n",
       "      <td>0.106583</td>\n",
       "      <td>0.246171</td>\n",
       "      <td>0.156639</td>\n",
       "      <td>0.260870</td>\n",
       "      <td>0.175537</td>\n",
       "      <td>0.297192</td>\n",
       "      <td>0</td>\n",
       "      <td>0</td>\n",
       "      <td>1</td>\n",
       "      <td>0</td>\n",
       "      <td>0</td>\n",
       "    </tr>\n",
       "    <tr>\n",
       "      <th>4</th>\n",
       "      <td>0.164330</td>\n",
       "      <td>0.128527</td>\n",
       "      <td>0.243956</td>\n",
       "      <td>0.160788</td>\n",
       "      <td>0.286445</td>\n",
       "      <td>0.231490</td>\n",
       "      <td>0.302652</td>\n",
       "      <td>0</td>\n",
       "      <td>0</td>\n",
       "      <td>1</td>\n",
       "      <td>0</td>\n",
       "      <td>0</td>\n",
       "    </tr>\n",
       "  </tbody>\n",
       "</table>\n",
       "</div>"
      ],
      "text/plain": [
       "   er_visits  electrical   garbage    rodent    safety  water_plumbing  \\\n",
       "0   0.136293    0.128527  0.255951  0.169087  0.365729        0.149849   \n",
       "1   0.133178    0.101881  0.204466  0.241701  0.214834        0.071160   \n",
       "2   0.106698    0.159875  0.245617  0.280083  0.250639        0.065328   \n",
       "3   0.121495    0.106583  0.246171  0.156639  0.260870        0.175537   \n",
       "4   0.164330    0.128527  0.243956  0.160788  0.286445        0.231490   \n",
       "\n",
       "   violations  bronx  brooklyn  manhattan  queens  staten_island  \n",
       "0    0.418877      0         0          1       0              0  \n",
       "1    0.523401      0         0          1       0              0  \n",
       "2    0.493760      0         0          1       0              0  \n",
       "3    0.297192      0         0          1       0              0  \n",
       "4    0.302652      0         0          1       0              0  "
      ]
     },
     "execution_count": 11,
     "metadata": {},
     "output_type": "execute_result"
    }
   ],
   "source": [
    "from helper_functions import split_train_test\n",
    "import numpy as np\n",
    "\n",
    "df_copy['stratify_col'] = df_copy['bronx'].astype(str) + df_copy['brooklyn'].astype(str) + df_copy['manhattan'].astype(str) + df_copy['queens'].astype(str) + df_copy['staten_island'].astype(str)\n",
    "#print(df['stratify_col'].value_counts())\n",
    "\n",
    "X_train, X_test, y_train, y_test = split_train_test(df_copy, target='er_visits', test_split_size=0.2, stratify_col_name='stratify_col')\n",
    "print(X_train.shape, y_train.shape)\n",
    "print(X_test.shape, y_test.shape)\n",
    "print(np.count_nonzero(X_train[:,10]))\n",
    "print(np.count_nonzero(X_test[:,10]))\n",
    "df_copy.head()"
   ]
  },
  {
   "cell_type": "markdown",
   "metadata": {},
   "source": [
    "### LinearRegression"
   ]
  },
  {
   "cell_type": "code",
   "execution_count": 12,
   "metadata": {},
   "outputs": [
    {
     "name": "stdout",
     "output_type": "stream",
     "text": [
      "Metrics for Test dataset:\n",
      "LinearRegression() Mean Absolute Error:  0.0770381669197566\n",
      "LinearRegression() Mean Squared Error:  0.009613902317669726\n",
      "LinearRegression() R Squared:  0.6434821730235402\n",
      "LinearRegression() Adjusted R Squared:  0.4652232595353103\n"
     ]
    }
   ],
   "source": [
    "from sklearn.linear_model import LinearRegression\n",
    "from helper_functions import model_metrics\n",
    "\n",
    "county_lr = LinearRegression()\n",
    "county_lr.fit(X_train, y_train)\n",
    "\n",
    "print(\"Metrics for Test dataset:\")\n",
    "model_metrics(county_lr, X_test, y_test)"
   ]
  },
  {
   "cell_type": "markdown",
   "metadata": {},
   "source": [
    "### Ridge"
   ]
  },
  {
   "cell_type": "code",
   "execution_count": 13,
   "metadata": {},
   "outputs": [
    {
     "name": "stdout",
     "output_type": "stream",
     "text": [
      "Metrics for Test dataset:\n",
      "Ridge(alpha=1) Mean Absolute Error:  0.07714754503077333\n",
      "Ridge(alpha=1) Mean Squared Error:  0.009455373035301\n",
      "Ridge(alpha=1) R Squared:  0.6493610048854324\n",
      "Ridge(alpha=1) Adjusted R Squared:  0.47404150732814854\n"
     ]
    }
   ],
   "source": [
    "from sklearn.linear_model import Ridge\n",
    "\n",
    "county_rd = Ridge(alpha=1)\n",
    "county_rd.fit(X_train, y_train)\n",
    "\n",
    "print(\"Metrics for Test dataset:\")\n",
    "model_metrics(county_rd, X_test, y_test)"
   ]
  },
  {
   "cell_type": "markdown",
   "metadata": {},
   "source": [
    "### RandomForest"
   ]
  },
  {
   "cell_type": "code",
   "execution_count": 14,
   "metadata": {},
   "outputs": [
    {
     "name": "stdout",
     "output_type": "stream",
     "text": [
      "Metrics for Test dataset:\n",
      "RandomForestRegressor(max_depth=5, oob_score=True, random_state=42) Mean Absolute Error:  0.0721027779743047\n",
      "RandomForestRegressor(max_depth=5, oob_score=True, random_state=42) Mean Squared Error:  0.0095825947613646\n",
      "RandomForestRegressor(max_depth=5, oob_score=True, random_state=42) R Squared:  0.6446431690034278\n",
      "RandomForestRegressor(max_depth=5, oob_score=True, random_state=42) Adjusted R Squared:  0.46696475350514166\n",
      "RandomForestRegressor(max_depth=5, oob_score=True, random_state=42) Out-Of-Bag Score:  0.7766385778432116\n"
     ]
    }
   ],
   "source": [
    "from sklearn.ensemble import RandomForestRegressor\n",
    "\n",
    "county_rf = RandomForestRegressor(n_estimators=100, max_depth=5, random_state=42, oob_score=True)\n",
    "county_rf.fit(X_train, y_train)\n",
    "\n",
    "print(\"Metrics for Test dataset:\")\n",
    "model_metrics(county_rf, X_test, y_test)"
   ]
  },
  {
   "cell_type": "markdown",
   "metadata": {},
   "source": [
    "## No County Variable"
   ]
  },
  {
   "cell_type": "markdown",
   "metadata": {},
   "source": [
    "Here, we will not include `county` variable for training the models"
   ]
  },
  {
   "cell_type": "code",
   "execution_count": 15,
   "metadata": {},
   "outputs": [
    {
     "name": "stdout",
     "output_type": "stream",
     "text": [
      "(134, 6) (134,)\n",
      "(34, 6) (34,)\n"
     ]
    },
    {
     "data": {
      "text/html": [
       "<div>\n",
       "<style scoped>\n",
       "    .dataframe tbody tr th:only-of-type {\n",
       "        vertical-align: middle;\n",
       "    }\n",
       "\n",
       "    .dataframe tbody tr th {\n",
       "        vertical-align: top;\n",
       "    }\n",
       "\n",
       "    .dataframe thead th {\n",
       "        text-align: right;\n",
       "    }\n",
       "</style>\n",
       "<table border=\"1\" class=\"dataframe\">\n",
       "  <thead>\n",
       "    <tr style=\"text-align: right;\">\n",
       "      <th></th>\n",
       "      <th>er_visits</th>\n",
       "      <th>electrical</th>\n",
       "      <th>garbage</th>\n",
       "      <th>rodent</th>\n",
       "      <th>safety</th>\n",
       "      <th>water_plumbing</th>\n",
       "      <th>violations</th>\n",
       "    </tr>\n",
       "  </thead>\n",
       "  <tbody>\n",
       "    <tr>\n",
       "      <th>0</th>\n",
       "      <td>0.136293</td>\n",
       "      <td>0.128527</td>\n",
       "      <td>0.255951</td>\n",
       "      <td>0.169087</td>\n",
       "      <td>0.365729</td>\n",
       "      <td>0.149849</td>\n",
       "      <td>0.418877</td>\n",
       "    </tr>\n",
       "    <tr>\n",
       "      <th>1</th>\n",
       "      <td>0.133178</td>\n",
       "      <td>0.101881</td>\n",
       "      <td>0.204466</td>\n",
       "      <td>0.241701</td>\n",
       "      <td>0.214834</td>\n",
       "      <td>0.071160</td>\n",
       "      <td>0.523401</td>\n",
       "    </tr>\n",
       "    <tr>\n",
       "      <th>2</th>\n",
       "      <td>0.106698</td>\n",
       "      <td>0.159875</td>\n",
       "      <td>0.245617</td>\n",
       "      <td>0.280083</td>\n",
       "      <td>0.250639</td>\n",
       "      <td>0.065328</td>\n",
       "      <td>0.493760</td>\n",
       "    </tr>\n",
       "    <tr>\n",
       "      <th>3</th>\n",
       "      <td>0.121495</td>\n",
       "      <td>0.106583</td>\n",
       "      <td>0.246171</td>\n",
       "      <td>0.156639</td>\n",
       "      <td>0.260870</td>\n",
       "      <td>0.175537</td>\n",
       "      <td>0.297192</td>\n",
       "    </tr>\n",
       "    <tr>\n",
       "      <th>4</th>\n",
       "      <td>0.164330</td>\n",
       "      <td>0.128527</td>\n",
       "      <td>0.243956</td>\n",
       "      <td>0.160788</td>\n",
       "      <td>0.286445</td>\n",
       "      <td>0.231490</td>\n",
       "      <td>0.302652</td>\n",
       "    </tr>\n",
       "  </tbody>\n",
       "</table>\n",
       "</div>"
      ],
      "text/plain": [
       "   er_visits  electrical   garbage    rodent    safety  water_plumbing  \\\n",
       "0   0.136293    0.128527  0.255951  0.169087  0.365729        0.149849   \n",
       "1   0.133178    0.101881  0.204466  0.241701  0.214834        0.071160   \n",
       "2   0.106698    0.159875  0.245617  0.280083  0.250639        0.065328   \n",
       "3   0.121495    0.106583  0.246171  0.156639  0.260870        0.175537   \n",
       "4   0.164330    0.128527  0.243956  0.160788  0.286445        0.231490   \n",
       "\n",
       "   violations  \n",
       "0    0.418877  \n",
       "1    0.523401  \n",
       "2    0.493760  \n",
       "3    0.297192  \n",
       "4    0.302652  "
      ]
     },
     "execution_count": 15,
     "metadata": {},
     "output_type": "execute_result"
    }
   ],
   "source": [
    "df_copy = df.drop('county', axis=1)\n",
    "\n",
    "X_train, X_test, y_train, y_test = split_train_test(df_copy, target='er_visits', test_split_size=0.2, stratify_col_name=None)\n",
    "print(X_train.shape, y_train.shape)\n",
    "print(X_test.shape, y_test.shape)\n",
    "df_copy.head()"
   ]
  },
  {
   "cell_type": "markdown",
   "metadata": {},
   "source": [
    "### LinearRegression"
   ]
  },
  {
   "cell_type": "code",
   "execution_count": 16,
   "metadata": {},
   "outputs": [
    {
     "name": "stdout",
     "output_type": "stream",
     "text": [
      "Metrics for Test dataset:\n",
      "LinearRegression() Mean Absolute Error:  0.07809402896923792\n",
      "LinearRegression() Mean Squared Error:  0.015396093645162279\n",
      "LinearRegression() R Squared:  0.7093662694087213\n",
      "LinearRegression() Adjusted R Squared:  0.6447809959439927\n"
     ]
    }
   ],
   "source": [
    "no_county_lr = LinearRegression()\n",
    "no_county_lr.fit(X_train, y_train)\n",
    "\n",
    "print(\"Metrics for Test dataset:\")\n",
    "model_metrics(no_county_lr, X_test, y_test)"
   ]
  },
  {
   "cell_type": "markdown",
   "metadata": {},
   "source": [
    "### Ridge"
   ]
  },
  {
   "cell_type": "code",
   "execution_count": 17,
   "metadata": {},
   "outputs": [
    {
     "name": "stdout",
     "output_type": "stream",
     "text": [
      "Metrics for Test dataset:\n",
      "Ridge(alpha=1) Mean Absolute Error:  0.08327229321732027\n",
      "Ridge(alpha=1) Mean Squared Error:  0.015955947164559198\n",
      "Ridge(alpha=1) R Squared:  0.6987978537653085\n",
      "Ridge(alpha=1) Adjusted R Squared:  0.6318640434909326\n"
     ]
    }
   ],
   "source": [
    "no_county_rd = Ridge(alpha=1)\n",
    "no_county_rd.fit(X_train, y_train)\n",
    "\n",
    "print(\"Metrics for Test dataset:\")\n",
    "model_metrics(no_county_rd, X_test, y_test)"
   ]
  },
  {
   "cell_type": "markdown",
   "metadata": {},
   "source": [
    "### RandomForest"
   ]
  },
  {
   "cell_type": "code",
   "execution_count": 18,
   "metadata": {},
   "outputs": [
    {
     "name": "stdout",
     "output_type": "stream",
     "text": [
      "Metrics for Test dataset:\n",
      "RandomForestRegressor(max_depth=5, oob_score=True, random_state=42) Mean Absolute Error:  0.07365905915580828\n",
      "RandomForestRegressor(max_depth=5, oob_score=True, random_state=42) Mean Squared Error:  0.012168291359175746\n",
      "RandomForestRegressor(max_depth=5, oob_score=True, random_state=42) R Squared:  0.770297843456538\n",
      "RandomForestRegressor(max_depth=5, oob_score=True, random_state=42) Adjusted R Squared:  0.7192529197802131\n",
      "RandomForestRegressor(max_depth=5, oob_score=True, random_state=42) Out-Of-Bag Score:  0.7799892686083519\n"
     ]
    }
   ],
   "source": [
    "no_county_rf = RandomForestRegressor(n_estimators=100, max_depth=5, random_state=42, oob_score=True)\n",
    "no_county_rf.fit(X_train, y_train)\n",
    "\n",
    "print(\"Metrics for Test dataset:\")\n",
    "model_metrics(no_county_rf, X_test, y_test)"
   ]
  },
  {
   "cell_type": "code",
   "execution_count": null,
   "metadata": {},
   "outputs": [],
   "source": []
  },
  {
   "cell_type": "code",
   "execution_count": null,
   "metadata": {},
   "outputs": [],
   "source": []
  }
 ],
 "metadata": {
  "kernelspec": {
   "display_name": ".venv",
   "language": "python",
   "name": "python3"
  },
  "language_info": {
   "codemirror_mode": {
    "name": "ipython",
    "version": 3
   },
   "file_extension": ".py",
   "mimetype": "text/x-python",
   "name": "python",
   "nbconvert_exporter": "python",
   "pygments_lexer": "ipython3",
   "version": "3.11.8"
  }
 },
 "nbformat": 4,
 "nbformat_minor": 2
}
