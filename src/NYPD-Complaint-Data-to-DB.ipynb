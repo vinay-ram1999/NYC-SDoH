{
 "cells": [
  {
   "cell_type": "markdown",
   "metadata": {},
   "source": [
    "# NYPD-Complaint-Data to DB"
   ]
  },
  {
   "cell_type": "markdown",
   "metadata": {},
   "source": [
    "* Clean [NYPD Complaint Data](https://data.cityofnewyork.us/Public-Safety/NYPD-Complaint-Data-Historic/qgea-i56i/about_data) before loading it into MySQL DB.\n",
    "* The data is downloaded as a `.csv` locally to perform the cleaning."
   ]
  },
  {
   "cell_type": "code",
   "execution_count": 1,
   "metadata": {},
   "outputs": [],
   "source": [
    "import sys\n",
    "import os\n",
    "\n",
    "sys.path.append(f\"..{os.path.sep}\")\n",
    "\n",
    "data_dir = 'data'\n",
    "fname = 'NYPD_Complaint_Data_Historic_20241027.csv'\n",
    "fpath = os.path.join(sys.path[-1], data_dir, fname)\n",
    "\n",
    "assert os.path.exists(fpath), f'{os.path.abspath(fpath)} does not exists!'"
   ]
  },
  {
   "cell_type": "code",
   "execution_count": 2,
   "metadata": {},
   "outputs": [
    {
     "data": {
      "text/plain": [
       "Schema([('CMPLNT_NUM', String),\n",
       "        ('CMPLNT_FR_DT', String),\n",
       "        ('CMPLNT_FR_TM', String),\n",
       "        ('CMPLNT_TO_DT', String),\n",
       "        ('CMPLNT_TO_TM', String),\n",
       "        ('ADDR_PCT_CD', Int64),\n",
       "        ('RPT_DT', String),\n",
       "        ('KY_CD', Int64),\n",
       "        ('OFNS_DESC', String),\n",
       "        ('PD_CD', Int64),\n",
       "        ('PD_DESC', String),\n",
       "        ('CRM_ATPT_CPTD_CD', String),\n",
       "        ('LAW_CAT_CD', String),\n",
       "        ('BORO_NM', String),\n",
       "        ('LOC_OF_OCCUR_DESC', String),\n",
       "        ('PREM_TYP_DESC', String),\n",
       "        ('JURIS_DESC', String),\n",
       "        ('JURISDICTION_CODE', Int64),\n",
       "        ('PARKS_NM', String),\n",
       "        ('HADEVELOPT', String),\n",
       "        ('HOUSING_PSA', String),\n",
       "        ('X_COORD_CD', Int64),\n",
       "        ('Y_COORD_CD', Int64),\n",
       "        ('SUSP_AGE_GROUP', String),\n",
       "        ('SUSP_RACE', String),\n",
       "        ('SUSP_SEX', String),\n",
       "        ('TRANSIT_DISTRICT', String),\n",
       "        ('Latitude', Float64),\n",
       "        ('Longitude', Float64),\n",
       "        ('Lat_Lon', String),\n",
       "        ('PATROL_BORO', String),\n",
       "        ('STATION_NAME', String),\n",
       "        ('VIC_AGE_GROUP', String),\n",
       "        ('VIC_RACE', String),\n",
       "        ('VIC_SEX', String)])"
      ]
     },
     "execution_count": 2,
     "metadata": {},
     "output_type": "execute_result"
    }
   ],
   "source": [
    "import polars as pl\n",
    "\n",
    "complaint_lf = pl.scan_csv(fpath, try_parse_dates=True)\n",
    "complaint_lf.collect_schema()"
   ]
  },
  {
   "cell_type": "code",
   "execution_count": 3,
   "metadata": {},
   "outputs": [],
   "source": [
    "unique_lat_lon = complaint_lf.select(pl.col('Lat_Lon').unique(),\n",
    "                                     pl.col('Lat_Lon').unique()\n",
    "                                     .str.strip_chars('()')\n",
    "                                     .str.split_exact(\",\",1)\n",
    "                                     .struct.rename_fields(['lat','lon'])\n",
    "                                     .alias(\"fields\")).unnest(\"fields\").with_columns(\n",
    "                                         pl.col('lat').str.strip_chars(' ').cast(pl.Decimal),\n",
    "                                         pl.col('lon').str.strip_chars(' ').cast(pl.Decimal))"
   ]
  },
  {
   "cell_type": "code",
   "execution_count": 4,
   "metadata": {},
   "outputs": [
    {
     "data": {
      "text/html": [
       "<div>\n",
       "<style scoped>\n",
       "    .dataframe tbody tr th:only-of-type {\n",
       "        vertical-align: middle;\n",
       "    }\n",
       "\n",
       "    .dataframe tbody tr th {\n",
       "        vertical-align: top;\n",
       "    }\n",
       "\n",
       "    .dataframe thead th {\n",
       "        text-align: right;\n",
       "    }\n",
       "</style>\n",
       "<table border=\"1\" class=\"dataframe\">\n",
       "  <thead>\n",
       "    <tr style=\"text-align: right;\">\n",
       "      <th></th>\n",
       "      <th>Lat_Lon</th>\n",
       "      <th>lat</th>\n",
       "      <th>lon</th>\n",
       "    </tr>\n",
       "  </thead>\n",
       "  <tbody>\n",
       "    <tr>\n",
       "      <th>0</th>\n",
       "      <td>(40.66121, -73.831726)</td>\n",
       "      <td>40.661210000000000</td>\n",
       "      <td>-73.83172600000000</td>\n",
       "    </tr>\n",
       "    <tr>\n",
       "      <th>1</th>\n",
       "      <td>(40.601992, -74.131327)</td>\n",
       "      <td>40.601992000000000</td>\n",
       "      <td>-74.13132700000000</td>\n",
       "    </tr>\n",
       "    <tr>\n",
       "      <th>2</th>\n",
       "      <td>(40.62335633, -74.00783862)</td>\n",
       "      <td>40.623356330000000</td>\n",
       "      <td>-74.00783862000000</td>\n",
       "    </tr>\n",
       "    <tr>\n",
       "      <th>3</th>\n",
       "      <td>(40.62990794, -74.11000378)</td>\n",
       "      <td>40.629907940000000</td>\n",
       "      <td>-74.11000378000000</td>\n",
       "    </tr>\n",
       "    <tr>\n",
       "      <th>4</th>\n",
       "      <td>(40.692722, -73.994325)</td>\n",
       "      <td>40.692722000000000</td>\n",
       "      <td>-73.99432500000000</td>\n",
       "    </tr>\n",
       "  </tbody>\n",
       "</table>\n",
       "</div>"
      ],
      "text/plain": [
       "                       Lat_Lon                 lat                 lon\n",
       "0       (40.66121, -73.831726)  40.661210000000000  -73.83172600000000\n",
       "1      (40.601992, -74.131327)  40.601992000000000  -74.13132700000000\n",
       "2  (40.62335633, -74.00783862)  40.623356330000000  -74.00783862000000\n",
       "3  (40.62990794, -74.11000378)  40.629907940000000  -74.11000378000000\n",
       "4      (40.692722, -73.994325)  40.692722000000000  -73.99432500000000"
      ]
     },
     "execution_count": 4,
     "metadata": {},
     "output_type": "execute_result"
    }
   ],
   "source": [
    "unique_lat_lon_df = unique_lat_lon.collect().to_pandas()\n",
    "unique_lat_lon_df.head()"
   ]
  },
  {
   "cell_type": "code",
   "execution_count": 5,
   "metadata": {},
   "outputs": [],
   "source": [
    "import geopandas\n",
    "\n",
    "unique_lat_lon_gdf = geopandas.GeoDataFrame(unique_lat_lon_df,\n",
    "                             geometry=geopandas.points_from_xy(unique_lat_lon_df.lon, unique_lat_lon_df.lat),\n",
    "                             crs=\"EPSG:4326\")"
   ]
  },
  {
   "cell_type": "markdown",
   "metadata": {},
   "source": [
    "* [Modified Zip Code Tabulation Areas (MODZCTA)](https://data.cityofnewyork.us/Health/Modified-Zip-Code-Tabulation-Areas-MODZCTA-/pri4-ifjk/about_data) is downloaded as `.geojson` locally."
   ]
  },
  {
   "cell_type": "code",
   "execution_count": 6,
   "metadata": {},
   "outputs": [],
   "source": [
    "fname = 'MODZCTA.geojson'\n",
    "fpath = os.path.join(sys.path[-1], data_dir, fname)\n",
    "\n",
    "assert os.path.exists(fpath), f'{os.path.abspath(fpath)} does not exists!'\n",
    "\n",
    "geo_df = geopandas.read_file(fpath)"
   ]
  },
  {
   "cell_type": "code",
   "execution_count": 7,
   "metadata": {},
   "outputs": [],
   "source": [
    "import numpy as np\n",
    "\n",
    "zips = np.empty(unique_lat_lon_gdf.shape[0], dtype=object)\n",
    "for i, geom in enumerate(geo_df.geometry):\n",
    "    zips[unique_lat_lon_gdf.within(geom)] = geo_df.modzcta[i]\n",
    "zips[zips==None] = ''\n",
    "unique_lat_lon_gdf['zipcode'] = zips"
   ]
  },
  {
   "cell_type": "code",
   "execution_count": 8,
   "metadata": {},
   "outputs": [
    {
     "data": {
      "text/plain": [
       "Schema([('Lat_Lon', String), ('zipcode', String)])"
      ]
     },
     "execution_count": 8,
     "metadata": {},
     "output_type": "execute_result"
    }
   ],
   "source": [
    "lat_lon_zip_lf = pl.from_pandas(unique_lat_lon_gdf[['Lat_Lon','zipcode']]).lazy()\n",
    "lat_lon_zip_lf.collect_schema()"
   ]
  },
  {
   "cell_type": "code",
   "execution_count": 9,
   "metadata": {},
   "outputs": [
    {
     "data": {
      "text/plain": [
       "Schema([('CMPLNT_NUM', String),\n",
       "        ('CMPLNT_FR_DT', String),\n",
       "        ('CMPLNT_FR_TM', String),\n",
       "        ('CMPLNT_TO_DT', String),\n",
       "        ('CMPLNT_TO_TM', String),\n",
       "        ('ADDR_PCT_CD', Int64),\n",
       "        ('RPT_DT', String),\n",
       "        ('KY_CD', Int64),\n",
       "        ('OFNS_DESC', String),\n",
       "        ('PD_CD', Int64),\n",
       "        ('PD_DESC', String),\n",
       "        ('CRM_ATPT_CPTD_CD', String),\n",
       "        ('LAW_CAT_CD', String),\n",
       "        ('BORO_NM', String),\n",
       "        ('LOC_OF_OCCUR_DESC', String),\n",
       "        ('PREM_TYP_DESC', String),\n",
       "        ('JURIS_DESC', String),\n",
       "        ('JURISDICTION_CODE', Int64),\n",
       "        ('PARKS_NM', String),\n",
       "        ('HADEVELOPT', String),\n",
       "        ('HOUSING_PSA', String),\n",
       "        ('X_COORD_CD', Int64),\n",
       "        ('Y_COORD_CD', Int64),\n",
       "        ('SUSP_AGE_GROUP', String),\n",
       "        ('SUSP_RACE', String),\n",
       "        ('SUSP_SEX', String),\n",
       "        ('TRANSIT_DISTRICT', String),\n",
       "        ('Latitude', Float64),\n",
       "        ('Longitude', Float64),\n",
       "        ('Lat_Lon', String),\n",
       "        ('PATROL_BORO', String),\n",
       "        ('STATION_NAME', String),\n",
       "        ('VIC_AGE_GROUP', String),\n",
       "        ('VIC_RACE', String),\n",
       "        ('VIC_SEX', String),\n",
       "        ('zipcode', String)])"
      ]
     },
     "execution_count": 9,
     "metadata": {},
     "output_type": "execute_result"
    }
   ],
   "source": [
    "complaint_lf = complaint_lf.join(lat_lon_zip_lf, on='Lat_Lon')\n",
    "complaint_lf.collect_schema()"
   ]
  },
  {
   "cell_type": "code",
   "execution_count": 11,
   "metadata": {},
   "outputs": [
    {
     "data": {
      "text/html": [
       "<div><style>\n",
       ".dataframe > thead > tr,\n",
       ".dataframe > tbody > tr {\n",
       "  text-align: right;\n",
       "  white-space: pre-wrap;\n",
       "}\n",
       "</style>\n",
       "<small>shape: (8_914_372, 36)</small><table border=\"1\" class=\"dataframe\"><thead><tr><th>CMPLNT_NUM</th><th>CMPLNT_FR_DT</th><th>CMPLNT_FR_TM</th><th>CMPLNT_TO_DT</th><th>CMPLNT_TO_TM</th><th>ADDR_PCT_CD</th><th>RPT_DT</th><th>KY_CD</th><th>OFNS_DESC</th><th>PD_CD</th><th>PD_DESC</th><th>CRM_ATPT_CPTD_CD</th><th>LAW_CAT_CD</th><th>BORO_NM</th><th>LOC_OF_OCCUR_DESC</th><th>PREM_TYP_DESC</th><th>JURIS_DESC</th><th>JURISDICTION_CODE</th><th>PARKS_NM</th><th>HADEVELOPT</th><th>HOUSING_PSA</th><th>X_COORD_CD</th><th>Y_COORD_CD</th><th>SUSP_AGE_GROUP</th><th>SUSP_RACE</th><th>SUSP_SEX</th><th>TRANSIT_DISTRICT</th><th>Latitude</th><th>Longitude</th><th>Lat_Lon</th><th>PATROL_BORO</th><th>STATION_NAME</th><th>VIC_AGE_GROUP</th><th>VIC_RACE</th><th>VIC_SEX</th><th>zipcode</th></tr><tr><td>str</td><td>str</td><td>time</td><td>str</td><td>str</td><td>i64</td><td>str</td><td>i64</td><td>str</td><td>i64</td><td>str</td><td>str</td><td>str</td><td>str</td><td>str</td><td>str</td><td>str</td><td>i64</td><td>str</td><td>str</td><td>str</td><td>i64</td><td>i64</td><td>str</td><td>str</td><td>str</td><td>str</td><td>f64</td><td>f64</td><td>str</td><td>str</td><td>str</td><td>str</td><td>str</td><td>str</td><td>str</td></tr></thead><tbody><tr><td>&quot;25636218&quot;</td><td>&quot;12/05/2006&quot;</td><td>11:38:00</td><td>null</td><td>&quot;(null)&quot;</td><td>13</td><td>&quot;12/05/2006&quot;</td><td>105</td><td>&quot;ROBBERY&quot;</td><td>361</td><td>&quot;ROBBERY,BANK&quot;</td><td>&quot;COMPLETED&quot;</td><td>&quot;FELONY&quot;</td><td>&quot;MANHATTAN&quot;</td><td>&quot;INSIDE&quot;</td><td>&quot;BANK&quot;</td><td>&quot;N.Y. POLICE DEPT&quot;</td><td>0</td><td>&quot;(null)&quot;</td><td>&quot;(null)&quot;</td><td>&quot;(null)&quot;</td><td>987174</td><td>209509</td><td>&quot;(null)&quot;</td><td>&quot;WHITE&quot;</td><td>&quot;M&quot;</td><td>null</td><td>40.741731</td><td>-73.989447</td><td>&quot;(40.741731, -73.989447)&quot;</td><td>&quot;PATROL BORO MAN SOUTH&quot;</td><td>&quot;(null)&quot;</td><td>&quot;(null)&quot;</td><td>&quot;UNKNOWN&quot;</td><td>&quot;D&quot;</td><td>&quot;10010&quot;</td></tr><tr><td>&quot;23364313&quot;</td><td>&quot;07/12/2006&quot;</td><td>14:16:00</td><td>null</td><td>&quot;(null)&quot;</td><td>79</td><td>&quot;07/12/2006&quot;</td><td>114</td><td>&quot;ARSON&quot;</td><td>263</td><td>&quot;ARSON 2,3,4&quot;</td><td>&quot;COMPLETED&quot;</td><td>&quot;FELONY&quot;</td><td>&quot;BROOKLYN&quot;</td><td>&quot;INSIDE&quot;</td><td>&quot;RESIDENCE-HOUSE&quot;</td><td>&quot;OTHER&quot;</td><td>97</td><td>&quot;(null)&quot;</td><td>&quot;(null)&quot;</td><td>&quot;(null)&quot;</td><td>1000666</td><td>190518</td><td>&quot;(null)&quot;</td><td>&quot;(null)&quot;</td><td>&quot;(null)&quot;</td><td>null</td><td>40.689592</td><td>-73.940805</td><td>&quot;(40.689592, -73.940805)&quot;</td><td>&quot;PATROL BORO BKLYN NORTH&quot;</td><td>&quot;(null)&quot;</td><td>&quot;45-64&quot;</td><td>&quot;BLACK&quot;</td><td>&quot;M&quot;</td><td>&quot;11221&quot;</td></tr><tr><td>&quot;25523851&quot;</td><td>&quot;11/26/2006&quot;</td><td>16:00:00</td><td>null</td><td>&quot;(null)&quot;</td><td>77</td><td>&quot;11/26/2006&quot;</td><td>114</td><td>&quot;ARSON&quot;</td><td>263</td><td>&quot;ARSON 2,3,4&quot;</td><td>&quot;COMPLETED&quot;</td><td>&quot;FELONY&quot;</td><td>&quot;BROOKLYN&quot;</td><td>&quot;INSIDE&quot;</td><td>&quot;RESIDENCE-HOUSE&quot;</td><td>&quot;OTHER&quot;</td><td>97</td><td>&quot;(null)&quot;</td><td>&quot;(null)&quot;</td><td>&quot;(null)&quot;</td><td>1003175</td><td>185813</td><td>&quot;(null)&quot;</td><td>&quot;(null)&quot;</td><td>&quot;(null)&quot;</td><td>null</td><td>40.676671</td><td>-73.931768</td><td>&quot;(40.676671, -73.931768)&quot;</td><td>&quot;PATROL BORO BKLYN NORTH&quot;</td><td>&quot;(null)&quot;</td><td>&quot;18-24&quot;</td><td>&quot;BLACK&quot;</td><td>&quot;F&quot;</td><td>&quot;11213&quot;</td></tr><tr><td>&quot;25435616&quot;</td><td>&quot;11/21/2006&quot;</td><td>02:00:00</td><td>null</td><td>&quot;(null)&quot;</td><td>45</td><td>&quot;11/21/2006&quot;</td><td>105</td><td>&quot;ROBBERY&quot;</td><td>389</td><td>&quot;ROBBERY,DWELLING&quot;</td><td>&quot;ATTEMPTED&quot;</td><td>&quot;FELONY&quot;</td><td>&quot;BRONX&quot;</td><td>&quot;(null)&quot;</td><td>&quot;STREET&quot;</td><td>&quot;N.Y. POLICE DEPT&quot;</td><td>0</td><td>&quot;(null)&quot;</td><td>&quot;(null)&quot;</td><td>&quot;(null)&quot;</td><td>1031993</td><td>249364</td><td>&quot;(null)&quot;</td><td>&quot;BLACK&quot;</td><td>&quot;M&quot;</td><td>null</td><td>40.850992</td><td>-73.827426</td><td>&quot;(40.85099243, -73.82742619)&quot;</td><td>&quot;PATROL BORO BRONX&quot;</td><td>&quot;(null)&quot;</td><td>&quot;65+&quot;</td><td>&quot;WHITE&quot;</td><td>&quot;M&quot;</td><td>&quot;10461&quot;</td></tr><tr><td>&quot;34143267&quot;</td><td>&quot;09/01/2007&quot;</td><td>09:45:00</td><td>null</td><td>&quot;(null)&quot;</td><td>1</td><td>&quot;09/01/2007&quot;</td><td>105</td><td>&quot;ROBBERY&quot;</td><td>361</td><td>&quot;ROBBERY,BANK&quot;</td><td>&quot;COMPLETED&quot;</td><td>&quot;FELONY&quot;</td><td>&quot;MANHATTAN&quot;</td><td>&quot;INSIDE&quot;</td><td>&quot;BANK&quot;</td><td>&quot;N.Y. POLICE DEPT&quot;</td><td>0</td><td>&quot;(null)&quot;</td><td>&quot;(null)&quot;</td><td>&quot;(null)&quot;</td><td>981067</td><td>197085</td><td>&quot;(null)&quot;</td><td>&quot;BLACK&quot;</td><td>&quot;M&quot;</td><td>null</td><td>40.707632</td><td>-74.011479</td><td>&quot;(40.707632, -74.011479)&quot;</td><td>&quot;PATROL BORO MAN SOUTH&quot;</td><td>&quot;(null)&quot;</td><td>&quot;(null)&quot;</td><td>&quot;UNKNOWN&quot;</td><td>&quot;D&quot;</td><td>&quot;10005&quot;</td></tr><tr><td>&hellip;</td><td>&hellip;</td><td>&hellip;</td><td>&hellip;</td><td>&hellip;</td><td>&hellip;</td><td>&hellip;</td><td>&hellip;</td><td>&hellip;</td><td>&hellip;</td><td>&hellip;</td><td>&hellip;</td><td>&hellip;</td><td>&hellip;</td><td>&hellip;</td><td>&hellip;</td><td>&hellip;</td><td>&hellip;</td><td>&hellip;</td><td>&hellip;</td><td>&hellip;</td><td>&hellip;</td><td>&hellip;</td><td>&hellip;</td><td>&hellip;</td><td>&hellip;</td><td>&hellip;</td><td>&hellip;</td><td>&hellip;</td><td>&hellip;</td><td>&hellip;</td><td>&hellip;</td><td>&hellip;</td><td>&hellip;</td><td>&hellip;</td><td>&hellip;</td></tr><tr><td>&quot;272431385&quot;</td><td>&quot;08/01/2023&quot;</td><td>03:45:00</td><td>&quot;08/01/2023&quot;</td><td>&quot;03:50:00&quot;</td><td>105</td><td>&quot;08/04/2023&quot;</td><td>341</td><td>&quot;PETIT LARCENY&quot;</td><td>321</td><td>&quot;LARCENY,PETIT FROM AUTO&quot;</td><td>&quot;COMPLETED&quot;</td><td>&quot;MISDEMEANOR&quot;</td><td>&quot;QUEENS&quot;</td><td>&quot;FRONT OF&quot;</td><td>&quot;STREET&quot;</td><td>&quot;N.Y. POLICE DEPT&quot;</td><td>0</td><td>&quot;(null)&quot;</td><td>&quot;(null)&quot;</td><td>&quot;(null)&quot;</td><td>1059754</td><td>193550</td><td>&quot;UNKNOWN&quot;</td><td>&quot;UNKNOWN&quot;</td><td>&quot;U&quot;</td><td>null</td><td>40.697605</td><td>-73.727707</td><td>&quot;(40.697605, -73.727707)&quot;</td><td>&quot;PATROL BORO QUEENS SOUTH&quot;</td><td>&quot;(null)&quot;</td><td>&quot;65+&quot;</td><td>&quot;BLACK&quot;</td><td>&quot;M&quot;</td><td>&quot;11411&quot;</td></tr><tr><td>&quot;273033152&quot;</td><td>&quot;08/16/2023&quot;</td><td>21:00:00</td><td>&quot;08/16/2023&quot;</td><td>&quot;21:05:00&quot;</td><td>105</td><td>&quot;08/17/2023&quot;</td><td>344</td><td>&quot;ASSAULT 3 &amp; RELATED OFFENSES&quot;</td><td>101</td><td>&quot;ASSAULT 3&quot;</td><td>&quot;COMPLETED&quot;</td><td>&quot;MISDEMEANOR&quot;</td><td>&quot;QUEENS&quot;</td><td>&quot;(null)&quot;</td><td>&quot;PARK/PLAYGROUND&quot;</td><td>&quot;N.Y. POLICE DEPT&quot;</td><td>0</td><td>&quot;(null)&quot;</td><td>&quot;(null)&quot;</td><td>&quot;(null)&quot;</td><td>1057395</td><td>201036</td><td>&quot;25-44&quot;</td><td>&quot;BLACK&quot;</td><td>&quot;F&quot;</td><td>null</td><td>40.718172</td><td>-73.736134</td><td>&quot;(40.71817168981014, -73.736133…</td><td>&quot;PATROL BORO QUEENS SOUTH&quot;</td><td>&quot;(null)&quot;</td><td>&quot;25-44&quot;</td><td>&quot;BLACK&quot;</td><td>&quot;F&quot;</td><td>&quot;11428&quot;</td></tr><tr><td>&quot;270041815&quot;</td><td>&quot;06/19/2023&quot;</td><td>01:50:00</td><td>&quot;06/19/2023&quot;</td><td>&quot;04:30:00&quot;</td><td>105</td><td>&quot;06/19/2023&quot;</td><td>107</td><td>&quot;BURGLARY&quot;</td><td>223</td><td>&quot;BURGLARY,RESIDENCE,NIGHT&quot;</td><td>&quot;COMPLETED&quot;</td><td>&quot;FELONY&quot;</td><td>&quot;QUEENS&quot;</td><td>&quot;INSIDE&quot;</td><td>&quot;RESIDENCE-HOUSE&quot;</td><td>&quot;N.Y. POLICE DEPT&quot;</td><td>0</td><td>&quot;(null)&quot;</td><td>&quot;(null)&quot;</td><td>&quot;(null)&quot;</td><td>1058712</td><td>181232</td><td>&quot;UNKNOWN&quot;</td><td>&quot;UNKNOWN&quot;</td><td>&quot;U&quot;</td><td>null</td><td>40.663804</td><td>-73.731601</td><td>&quot;(40.663804, -73.731601)&quot;</td><td>&quot;PATROL BORO QUEENS SOUTH&quot;</td><td>&quot;(null)&quot;</td><td>&quot;45-64&quot;</td><td>&quot;ASIAN / PACIFIC ISLANDER&quot;</td><td>&quot;M&quot;</td><td>&quot;11422&quot;</td></tr><tr><td>&quot;273151416&quot;</td><td>&quot;08/19/2023&quot;</td><td>15:37:00</td><td>&quot;08/19/2023&quot;</td><td>&quot;15:52:00&quot;</td><td>113</td><td>&quot;08/19/2023&quot;</td><td>126</td><td>&quot;MISCELLANEOUS PENAL LAW&quot;</td><td>117</td><td>&quot;RECKLESS ENDANGERMENT 1&quot;</td><td>&quot;COMPLETED&quot;</td><td>&quot;FELONY&quot;</td><td>&quot;QUEENS&quot;</td><td>&quot;FRONT OF&quot;</td><td>&quot;STREET&quot;</td><td>&quot;N.Y. POLICE DEPT&quot;</td><td>0</td><td>&quot;(null)&quot;</td><td>&quot;(null)&quot;</td><td>&quot;(null)&quot;</td><td>1053398</td><td>193555</td><td>&quot;25-44&quot;</td><td>&quot;BLACK&quot;</td><td>&quot;F&quot;</td><td>null</td><td>40.697672</td><td>-73.750627</td><td>&quot;(40.697672, -73.750627)&quot;</td><td>&quot;PATROL BORO QUEENS SOUTH&quot;</td><td>&quot;(null)&quot;</td><td>&quot;UNKNOWN&quot;</td><td>&quot;UNKNOWN&quot;</td><td>&quot;M&quot;</td><td>&quot;11412&quot;</td></tr><tr><td>&quot;276267757&quot;</td><td>&quot;10/19/2023&quot;</td><td>01:00:00</td><td>&quot;10/19/2023&quot;</td><td>&quot;01:25:00&quot;</td><td>105</td><td>&quot;10/19/2023&quot;</td><td>578</td><td>&quot;HARRASSMENT 2&quot;</td><td>638</td><td>&quot;HARASSMENT,SUBD 3,4,5&quot;</td><td>&quot;COMPLETED&quot;</td><td>&quot;VIOLATION&quot;</td><td>&quot;QUEENS&quot;</td><td>&quot;(null)&quot;</td><td>&quot;RESIDENCE-HOUSE&quot;</td><td>&quot;N.Y. POLICE DEPT&quot;</td><td>0</td><td>&quot;(null)&quot;</td><td>&quot;(null)&quot;</td><td>&quot;(null)&quot;</td><td>1064457</td><td>207391</td><td>&quot;45-64&quot;</td><td>&quot;ASIAN / PACIFIC ISLANDER&quot;</td><td>&quot;U&quot;</td><td>null</td><td>40.735556</td><td>-73.710582</td><td>&quot;(40.735556, -73.710582)&quot;</td><td>&quot;PATROL BORO QUEENS SOUTH&quot;</td><td>&quot;(null)&quot;</td><td>&quot;45-64&quot;</td><td>&quot;ASIAN / PACIFIC ISLANDER&quot;</td><td>&quot;F&quot;</td><td>&quot;11429&quot;</td></tr></tbody></table></div>"
      ],
      "text/plain": [
       "shape: (8_914_372, 36)\n",
       "┌────────────┬────────────┬────────────┬───────────┬───┬───────────┬───────────┬─────────┬─────────┐\n",
       "│ CMPLNT_NUM ┆ CMPLNT_FR_ ┆ CMPLNT_FR_ ┆ CMPLNT_TO ┆ … ┆ VIC_AGE_G ┆ VIC_RACE  ┆ VIC_SEX ┆ zipcode │\n",
       "│ ---        ┆ DT         ┆ TM         ┆ _DT       ┆   ┆ ROUP      ┆ ---       ┆ ---     ┆ ---     │\n",
       "│ str        ┆ ---        ┆ ---        ┆ ---       ┆   ┆ ---       ┆ str       ┆ str     ┆ str     │\n",
       "│            ┆ str        ┆ time       ┆ str       ┆   ┆ str       ┆           ┆         ┆         │\n",
       "╞════════════╪════════════╪════════════╪═══════════╪═══╪═══════════╪═══════════╪═════════╪═════════╡\n",
       "│ 25636218   ┆ 12/05/2006 ┆ 11:38:00   ┆ null      ┆ … ┆ (null)    ┆ UNKNOWN   ┆ D       ┆ 10010   │\n",
       "│ 23364313   ┆ 07/12/2006 ┆ 14:16:00   ┆ null      ┆ … ┆ 45-64     ┆ BLACK     ┆ M       ┆ 11221   │\n",
       "│ 25523851   ┆ 11/26/2006 ┆ 16:00:00   ┆ null      ┆ … ┆ 18-24     ┆ BLACK     ┆ F       ┆ 11213   │\n",
       "│ 25435616   ┆ 11/21/2006 ┆ 02:00:00   ┆ null      ┆ … ┆ 65+       ┆ WHITE     ┆ M       ┆ 10461   │\n",
       "│ 34143267   ┆ 09/01/2007 ┆ 09:45:00   ┆ null      ┆ … ┆ (null)    ┆ UNKNOWN   ┆ D       ┆ 10005   │\n",
       "│ …          ┆ …          ┆ …          ┆ …         ┆ … ┆ …         ┆ …         ┆ …       ┆ …       │\n",
       "│ 272431385  ┆ 08/01/2023 ┆ 03:45:00   ┆ 08/01/202 ┆ … ┆ 65+       ┆ BLACK     ┆ M       ┆ 11411   │\n",
       "│            ┆            ┆            ┆ 3         ┆   ┆           ┆           ┆         ┆         │\n",
       "│ 273033152  ┆ 08/16/2023 ┆ 21:00:00   ┆ 08/16/202 ┆ … ┆ 25-44     ┆ BLACK     ┆ F       ┆ 11428   │\n",
       "│            ┆            ┆            ┆ 3         ┆   ┆           ┆           ┆         ┆         │\n",
       "│ 270041815  ┆ 06/19/2023 ┆ 01:50:00   ┆ 06/19/202 ┆ … ┆ 45-64     ┆ ASIAN /   ┆ M       ┆ 11422   │\n",
       "│            ┆            ┆            ┆ 3         ┆   ┆           ┆ PACIFIC   ┆         ┆         │\n",
       "│            ┆            ┆            ┆           ┆   ┆           ┆ ISLANDER  ┆         ┆         │\n",
       "│ 273151416  ┆ 08/19/2023 ┆ 15:37:00   ┆ 08/19/202 ┆ … ┆ UNKNOWN   ┆ UNKNOWN   ┆ M       ┆ 11412   │\n",
       "│            ┆            ┆            ┆ 3         ┆   ┆           ┆           ┆         ┆         │\n",
       "│ 276267757  ┆ 10/19/2023 ┆ 01:00:00   ┆ 10/19/202 ┆ … ┆ 45-64     ┆ ASIAN /   ┆ F       ┆ 11429   │\n",
       "│            ┆            ┆            ┆ 3         ┆   ┆           ┆ PACIFIC   ┆         ┆         │\n",
       "│            ┆            ┆            ┆           ┆   ┆           ┆ ISLANDER  ┆         ┆         │\n",
       "└────────────┴────────────┴────────────┴───────────┴───┴───────────┴───────────┴─────────┴─────────┘"
      ]
     },
     "execution_count": 11,
     "metadata": {},
     "output_type": "execute_result"
    }
   ],
   "source": [
    "complaint_lf.collect()"
   ]
  }
 ],
 "metadata": {
  "kernelspec": {
   "display_name": ".venv",
   "language": "python",
   "name": "python3"
  },
  "language_info": {
   "codemirror_mode": {
    "name": "ipython",
    "version": 3
   },
   "file_extension": ".py",
   "mimetype": "text/x-python",
   "name": "python",
   "nbconvert_exporter": "python",
   "pygments_lexer": "ipython3",
   "version": "3.12.3"
  }
 },
 "nbformat": 4,
 "nbformat_minor": 2
}
