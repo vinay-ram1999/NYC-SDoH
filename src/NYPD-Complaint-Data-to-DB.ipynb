{
 "cells": [
  {
   "cell_type": "markdown",
   "metadata": {},
   "source": [
    "# NYPD-Complaint-Data to DB"
   ]
  },
  {
   "cell_type": "markdown",
   "metadata": {},
   "source": [
    "<span style=\"color: red;\">**WARNING:** Only execute this notebook if your machine has sufficient memory (RAM >16 GB preferred)</span>"
   ]
  },
  {
   "cell_type": "markdown",
   "metadata": {},
   "source": [
    "### Loading raw data"
   ]
  },
  {
   "cell_type": "markdown",
   "metadata": {},
   "source": [
    "* [NYPD Complaint Data Historic](https://data.cityofnewyork.us/Public-Safety/NYPD-Complaint-Data-Historic/qgea-i56i/about_data) is downloaded as a `.csv` locally and stored in `data` directory."
   ]
  },
  {
   "cell_type": "code",
   "execution_count": 1,
   "metadata": {},
   "outputs": [],
   "source": [
    "import sys\n",
    "import os\n",
    "\n",
    "sys.path.append(f\"..{os.path.sep}\")\n",
    "\n",
    "data_dir = 'data'\n",
    "fname = 'NYPD_Complaint_Data_Historic_20241027.csv'\n",
    "fpath = os.path.join(sys.path[-1], data_dir, fname)\n",
    "\n",
    "assert os.path.exists(fpath), f'{os.path.abspath(fpath)} does not exists!'"
   ]
  },
  {
   "cell_type": "code",
   "execution_count": 2,
   "metadata": {},
   "outputs": [
    {
     "data": {
      "text/plain": [
       "Schema([('CMPLNT_NUM', String),\n",
       "        ('CMPLNT_FR_DT', String),\n",
       "        ('CMPLNT_FR_TM', String),\n",
       "        ('CMPLNT_TO_DT', String),\n",
       "        ('CMPLNT_TO_TM', String),\n",
       "        ('ADDR_PCT_CD', Int64),\n",
       "        ('RPT_DT', String),\n",
       "        ('KY_CD', Int64),\n",
       "        ('OFNS_DESC', String),\n",
       "        ('PD_CD', Int64),\n",
       "        ('PD_DESC', String),\n",
       "        ('CRM_ATPT_CPTD_CD', String),\n",
       "        ('LAW_CAT_CD', String),\n",
       "        ('BORO_NM', String),\n",
       "        ('LOC_OF_OCCUR_DESC', String),\n",
       "        ('PREM_TYP_DESC', String),\n",
       "        ('JURIS_DESC', String),\n",
       "        ('JURISDICTION_CODE', Int64),\n",
       "        ('PARKS_NM', String),\n",
       "        ('HADEVELOPT', String),\n",
       "        ('HOUSING_PSA', String),\n",
       "        ('X_COORD_CD', Int64),\n",
       "        ('Y_COORD_CD', Int64),\n",
       "        ('SUSP_AGE_GROUP', String),\n",
       "        ('SUSP_RACE', String),\n",
       "        ('SUSP_SEX', String),\n",
       "        ('TRANSIT_DISTRICT', String),\n",
       "        ('Latitude', Float64),\n",
       "        ('Longitude', Float64),\n",
       "        ('Lat_Lon', String),\n",
       "        ('PATROL_BORO', String),\n",
       "        ('STATION_NAME', String),\n",
       "        ('VIC_AGE_GROUP', String),\n",
       "        ('VIC_RACE', String),\n",
       "        ('VIC_SEX', String)])"
      ]
     },
     "execution_count": 2,
     "metadata": {},
     "output_type": "execute_result"
    }
   ],
   "source": [
    "import polars as pl\n",
    "\n",
    "complaint_lf = pl.scan_csv(fpath, try_parse_dates=True)\n",
    "complaint_lf.collect_schema()"
   ]
  },
  {
   "cell_type": "markdown",
   "metadata": {},
   "source": [
    "### Handling datetime variables"
   ]
  },
  {
   "cell_type": "code",
   "execution_count": 3,
   "metadata": {},
   "outputs": [],
   "source": [
    "complaint_lf = complaint_lf.with_columns(pl.col('CMPLNT_FR_DT').str.to_date(\"%m/%d/%Y\"),\n",
    "                                         pl.col('CMPLNT_TO_DT').str.to_date(\"%m/%d/%Y\"),\n",
    "                                         pl.col('RPT_DT').str.to_date(\"%m/%d/%Y\"),\n",
    "                                         pl.when(pl.col(\"CMPLNT_TO_TM\").str.contains('(null)'))\n",
    "                                         .then(None).otherwise(pl.col('CMPLNT_TO_TM')).str.to_time(\"%H:%M:%S\").name.keep())\n",
    "\n",
    "complaint_lf = complaint_lf.with_columns(pl.col('CMPLNT_FR_DT').dt.combine(pl.col('CMPLNT_FR_TM')).alias('CMPLNT_FR_DT_TM'),\n",
    "                                         pl.col('CMPLNT_TO_DT').dt.combine(pl.col('CMPLNT_TO_TM')).alias('CMPLNT_TO_DT_TM')\n",
    "                                         ).drop('CMPLNT_FR_DT','CMPLNT_FR_TM','CMPLNT_TO_DT','CMPLNT_TO_TM')"
   ]
  },
  {
   "cell_type": "markdown",
   "metadata": {},
   "source": [
    "#### Checking `CMPLNT_FR_DT_TM` variable for dates that are not parsed correctly and bad data"
   ]
  },
  {
   "cell_type": "code",
   "execution_count": 4,
   "metadata": {},
   "outputs": [
    {
     "data": {
<<<<<<< Updated upstream
=======
<<<<<<< Updated upstream
=======
>>>>>>> Stashed changes
      "text/html": [
       "<div><style>\n",
       ".dataframe > thead > tr,\n",
       ".dataframe > tbody > tr {\n",
       "  text-align: right;\n",
       "  white-space: pre-wrap;\n",
       "}\n",
       "</style>\n",
       "<small>shape: (2_582_751, 2)</small><table border=\"1\" class=\"dataframe\"><thead><tr><th>CMPLNT_FR_DT_TM</th><th>count</th></tr><tr><td>datetime[μs]</td><td>u32</td></tr></thead><tbody><tr><td>null</td><td>702</td></tr><tr><td>1010-05-14 20:00:00</td><td>1</td></tr><tr><td>1010-08-05 13:00:00</td><td>1</td></tr><tr><td>1010-08-22 13:35:00</td><td>1</td></tr><tr><td>1010-08-29 16:20:00</td><td>1</td></tr><tr><td>&hellip;</td><td>&hellip;</td></tr><tr><td>2023-12-31 23:34:00</td><td>1</td></tr><tr><td>2023-12-31 23:35:00</td><td>1</td></tr><tr><td>2023-12-31 23:37:00</td><td>1</td></tr><tr><td>2023-12-31 23:40:00</td><td>3</td></tr><tr><td>2023-12-31 23:50:00</td><td>1</td></tr></tbody></table></div>"
      ],
      "text/plain": [
       "shape: (2_582_751, 2)\n",
       "┌─────────────────────┬───────┐\n",
       "│ CMPLNT_FR_DT_TM     ┆ count │\n",
       "│ ---                 ┆ ---   │\n",
       "│ datetime[μs]        ┆ u32   │\n",
       "╞═════════════════════╪═══════╡\n",
       "│ null                ┆ 702   │\n",
       "│ 1010-05-14 20:00:00 ┆ 1     │\n",
       "│ 1010-08-05 13:00:00 ┆ 1     │\n",
       "│ 1010-08-22 13:35:00 ┆ 1     │\n",
       "│ 1010-08-29 16:20:00 ┆ 1     │\n",
       "│ …                   ┆ …     │\n",
       "│ 2023-12-31 23:34:00 ┆ 1     │\n",
       "│ 2023-12-31 23:35:00 ┆ 1     │\n",
       "│ 2023-12-31 23:37:00 ┆ 1     │\n",
       "│ 2023-12-31 23:40:00 ┆ 3     │\n",
       "│ 2023-12-31 23:50:00 ┆ 1     │\n",
       "└─────────────────────┴───────┘"
      ]
     },
     "execution_count": 4,
     "metadata": {},
     "output_type": "execute_result"
    }
   ],
   "source": [
    "cmplnt_from_datetime = complaint_lf.select('CMPLNT_FR_DT_TM').group_by('CMPLNT_FR_DT_TM').len('count').sort('CMPLNT_FR_DT_TM').collect()\n",
    "cmplnt_from_datetime"
   ]
  },
  {
   "cell_type": "markdown",
   "metadata": {},
   "source": [
<<<<<<< Updated upstream
    "- In Renda's reference notebook [`PrepCrimeDataForDB.ipynb`](../reference/PrepCrimeDataForDB.ipynb), years that are $< 25$ are converted into years in 21st century years, whereas the data has years which are from 20th century."
=======
    "- In Renda's reference notebook [PrepCrimeDataForDB.ipynb](../reference/PrepCrimeDataForDB.ipynb), years that are $< 25$ are converted into years in 21st century years, whereas the data has years which are from 20th century."
>>>>>>> Stashed changes
   ]
  },
  {
   "cell_type": "code",
   "execution_count": 5,
   "metadata": {},
   "outputs": [
    {
     "data": {
      "text/html": [
       "<div><style>\n",
       ".dataframe > thead > tr,\n",
       ".dataframe > tbody > tr {\n",
       "  text-align: right;\n",
       "  white-space: pre-wrap;\n",
       "}\n",
       "</style>\n",
       "<small>shape: (130, 2)</small><table border=\"1\" class=\"dataframe\"><thead><tr><th>CMPLNT_FR_DT_TM</th><th>count</th></tr><tr><td>datetime[μs]</td><td>u32</td></tr></thead><tbody><tr><td>1900-03-10 19:00:00</td><td>1</td></tr><tr><td>1900-05-08 21:00:00</td><td>1</td></tr><tr><td>1900-06-02 19:00:00</td><td>1</td></tr><tr><td>1900-08-06 09:00:00</td><td>1</td></tr><tr><td>1900-08-07 08:30:00</td><td>1</td></tr><tr><td>&hellip;</td><td>&hellip;</td></tr><tr><td>1923-01-25 10:00:00</td><td>1</td></tr><tr><td>1923-04-05 17:00:00</td><td>1</td></tr><tr><td>1923-07-19 18:30:00</td><td>1</td></tr><tr><td>1923-09-15 15:00:00</td><td>1</td></tr><tr><td>1923-10-03 09:44:00</td><td>1</td></tr></tbody></table></div>"
      ],
      "text/plain": [
       "shape: (130, 2)\n",
       "┌─────────────────────┬───────┐\n",
       "│ CMPLNT_FR_DT_TM     ┆ count │\n",
       "│ ---                 ┆ ---   │\n",
       "│ datetime[μs]        ┆ u32   │\n",
       "╞═════════════════════╪═══════╡\n",
       "│ 1900-03-10 19:00:00 ┆ 1     │\n",
       "│ 1900-05-08 21:00:00 ┆ 1     │\n",
       "│ 1900-06-02 19:00:00 ┆ 1     │\n",
       "│ 1900-08-06 09:00:00 ┆ 1     │\n",
       "│ 1900-08-07 08:30:00 ┆ 1     │\n",
       "│ …                   ┆ …     │\n",
       "│ 1923-01-25 10:00:00 ┆ 1     │\n",
       "│ 1923-04-05 17:00:00 ┆ 1     │\n",
       "│ 1923-07-19 18:30:00 ┆ 1     │\n",
       "│ 1923-09-15 15:00:00 ┆ 1     │\n",
       "│ 1923-10-03 09:44:00 ┆ 1     │\n",
       "└─────────────────────┴───────┘"
      ]
     },
     "execution_count": 5,
     "metadata": {},
     "output_type": "execute_result"
    }
   ],
   "source": [
    "cmplnt_from_datetime.filter(pl.col('CMPLNT_FR_DT_TM').dt.year().is_between(1800, 1925))"
   ]
  },
  {
   "cell_type": "markdown",
   "metadata": {},
   "source": [
    "- The dataset does contain some bad data, in this case there are some dates from 11th century. But considering the overall size of the data these are negligible and thus can be dropped or set to `null`."
   ]
  },
  {
   "cell_type": "code",
   "execution_count": 6,
   "metadata": {},
   "outputs": [
    {
     "data": {
      "text/html": [
       "<div><style>\n",
       ".dataframe > thead > tr,\n",
       ".dataframe > tbody > tr {\n",
       "  text-align: right;\n",
       "  white-space: pre-wrap;\n",
       "}\n",
       "</style>\n",
       "<small>shape: (173, 2)</small><table border=\"1\" class=\"dataframe\"><thead><tr><th>CMPLNT_FR_DT_TM</th><th>count</th></tr><tr><td>datetime[μs]</td><td>u32</td></tr></thead><tbody><tr><td>1010-05-14 20:00:00</td><td>1</td></tr><tr><td>1010-08-05 13:00:00</td><td>1</td></tr><tr><td>1010-08-22 13:35:00</td><td>1</td></tr><tr><td>1010-08-29 16:20:00</td><td>1</td></tr><tr><td>1010-10-28 20:09:00</td><td>1</td></tr><tr><td>&hellip;</td><td>&hellip;</td></tr><tr><td>1028-12-07 09:00:00</td><td>1</td></tr><tr><td>1029-02-07 23:00:00</td><td>1</td></tr><tr><td>1029-07-04 08:30:00</td><td>1</td></tr><tr><td>1029-10-29 20:40:00</td><td>1</td></tr><tr><td>1029-10-31 17:50:00</td><td>1</td></tr></tbody></table></div>"
      ],
      "text/plain": [
       "shape: (173, 2)\n",
       "┌─────────────────────┬───────┐\n",
       "│ CMPLNT_FR_DT_TM     ┆ count │\n",
       "│ ---                 ┆ ---   │\n",
       "│ datetime[μs]        ┆ u32   │\n",
       "╞═════════════════════╪═══════╡\n",
       "│ 1010-05-14 20:00:00 ┆ 1     │\n",
       "│ 1010-08-05 13:00:00 ┆ 1     │\n",
       "│ 1010-08-22 13:35:00 ┆ 1     │\n",
       "│ 1010-08-29 16:20:00 ┆ 1     │\n",
       "│ 1010-10-28 20:09:00 ┆ 1     │\n",
       "│ …                   ┆ …     │\n",
       "│ 1028-12-07 09:00:00 ┆ 1     │\n",
       "│ 1029-02-07 23:00:00 ┆ 1     │\n",
       "│ 1029-07-04 08:30:00 ┆ 1     │\n",
       "│ 1029-10-29 20:40:00 ┆ 1     │\n",
       "│ 1029-10-31 17:50:00 ┆ 1     │\n",
       "└─────────────────────┴───────┘"
      ]
     },
     "execution_count": 6,
     "metadata": {},
     "output_type": "execute_result"
    }
   ],
   "source": [
    "cmplnt_from_datetime.filter(pl.col('CMPLNT_FR_DT_TM').dt.year() < 1900)"
   ]
  },
  {
   "cell_type": "markdown",
   "metadata": {},
   "source": [
    "#### Checking `CMPLNT_TO_DT_TM` variable for dates that are not parsed correctly and bad data"
   ]
  },
  {
   "cell_type": "code",
   "execution_count": 7,
   "metadata": {},
   "outputs": [
    {
     "data": {
      "text/html": [
       "<div><style>\n",
       ".dataframe > thead > tr,\n",
       ".dataframe > tbody > tr {\n",
       "  text-align: right;\n",
       "  white-space: pre-wrap;\n",
       "}\n",
       "</style>\n",
       "<small>shape: (2_878_801, 2)</small><table border=\"1\" class=\"dataframe\"><thead><tr><th>CMPLNT_TO_DT_TM</th><th>count</th></tr><tr><td>datetime[μs]</td><td>u32</td></tr></thead><tbody><tr><td>null</td><td>1820391</td></tr><tr><td>1017-12-08 12:30:00</td><td>1</td></tr><tr><td>1018-09-28 12:56:00</td><td>1</td></tr><tr><td>1023-06-28 19:15:00</td><td>1</td></tr><tr><td>1023-08-29 12:19:00</td><td>1</td></tr><tr><td>&hellip;</td><td>&hellip;</td></tr><tr><td>2023-12-31 23:50:00</td><td>1</td></tr><tr><td>2023-12-31 23:53:00</td><td>1</td></tr><tr><td>2023-12-31 23:56:00</td><td>2</td></tr><tr><td>2024-01-01 00:03:00</td><td>1</td></tr><tr><td>2024-01-02 11:20:00</td><td>1</td></tr></tbody></table></div>"
      ],
      "text/plain": [
       "shape: (2_878_801, 2)\n",
       "┌─────────────────────┬─────────┐\n",
       "│ CMPLNT_TO_DT_TM     ┆ count   │\n",
       "│ ---                 ┆ ---     │\n",
       "│ datetime[μs]        ┆ u32     │\n",
       "╞═════════════════════╪═════════╡\n",
       "│ null                ┆ 1820391 │\n",
       "│ 1017-12-08 12:30:00 ┆ 1       │\n",
       "│ 1018-09-28 12:56:00 ┆ 1       │\n",
       "│ 1023-06-28 19:15:00 ┆ 1       │\n",
       "│ 1023-08-29 12:19:00 ┆ 1       │\n",
       "│ …                   ┆ …       │\n",
       "│ 2023-12-31 23:50:00 ┆ 1       │\n",
       "│ 2023-12-31 23:53:00 ┆ 1       │\n",
       "│ 2023-12-31 23:56:00 ┆ 2       │\n",
       "│ 2024-01-01 00:03:00 ┆ 1       │\n",
       "│ 2024-01-02 11:20:00 ┆ 1       │\n",
       "└─────────────────────┴─────────┘"
      ]
     },
     "execution_count": 7,
     "metadata": {},
     "output_type": "execute_result"
    }
   ],
   "source": [
    "cmplnt_to_datetime = complaint_lf.select('CMPLNT_TO_DT_TM').group_by('CMPLNT_TO_DT_TM').len('count').sort('CMPLNT_TO_DT_TM').collect()\n",
    "cmplnt_to_datetime"
   ]
  },
  {
   "cell_type": "markdown",
   "metadata": {},
   "source": [
<<<<<<< Updated upstream
    "- In Renda's reference notebook [`PrepCrimeDataForDB.ipynb`](../reference/PrepCrimeDataForDB.ipynb), years that are $< 25$ are converted into years in 21st century years, whereas the data has years which are from 20th century."
=======
    "- In Renda's reference notebook [PrepCrimeDataForDB.ipynb](../reference/PrepCrimeDataForDB.ipynb), years that are $< 25$ are converted into years in 21st century years, whereas the data has years which are from 20th century."
>>>>>>> Stashed changes
   ]
  },
  {
   "cell_type": "code",
   "execution_count": 8,
   "metadata": {},
   "outputs": [
    {
     "data": {
      "text/html": [
       "<div><style>\n",
       ".dataframe > thead > tr,\n",
       ".dataframe > tbody > tr {\n",
       "  text-align: right;\n",
       "  white-space: pre-wrap;\n",
       "}\n",
       "</style>\n",
       "<small>shape: (4, 2)</small><table border=\"1\" class=\"dataframe\"><thead><tr><th>CMPLNT_TO_DT_TM</th><th>count</th></tr><tr><td>datetime[μs]</td><td>u32</td></tr></thead><tbody><tr><td>1912-04-12 11:30:00</td><td>1</td></tr><tr><td>1912-05-10 18:29:00</td><td>1</td></tr><tr><td>1920-04-21 14:15:00</td><td>1</td></tr><tr><td>1920-12-30 18:07:00</td><td>1</td></tr></tbody></table></div>"
      ],
      "text/plain": [
       "shape: (4, 2)\n",
       "┌─────────────────────┬───────┐\n",
       "│ CMPLNT_TO_DT_TM     ┆ count │\n",
       "│ ---                 ┆ ---   │\n",
       "│ datetime[μs]        ┆ u32   │\n",
       "╞═════════════════════╪═══════╡\n",
       "│ 1912-04-12 11:30:00 ┆ 1     │\n",
       "│ 1912-05-10 18:29:00 ┆ 1     │\n",
       "│ 1920-04-21 14:15:00 ┆ 1     │\n",
       "│ 1920-12-30 18:07:00 ┆ 1     │\n",
       "└─────────────────────┴───────┘"
      ]
     },
     "execution_count": 8,
     "metadata": {},
     "output_type": "execute_result"
    }
   ],
   "source": [
    "cmplnt_to_datetime.filter(pl.col('CMPLNT_TO_DT_TM').dt.year().is_between(1800, 1925))"
   ]
  },
  {
   "cell_type": "markdown",
   "metadata": {},
   "source": [
    "- The dataset does contain some bad data, in this case there are some dates from 11th century. But considering the overall size of the data these are negligible and thus can be dropped or set to `null`."
   ]
  },
  {
   "cell_type": "code",
   "execution_count": 9,
   "metadata": {},
   "outputs": [
    {
     "data": {
      "text/html": [
       "<div><style>\n",
       ".dataframe > thead > tr,\n",
       ".dataframe > tbody > tr {\n",
       "  text-align: right;\n",
       "  white-space: pre-wrap;\n",
       "}\n",
       "</style>\n",
       "<small>shape: (4, 2)</small><table border=\"1\" class=\"dataframe\"><thead><tr><th>CMPLNT_TO_DT_TM</th><th>count</th></tr><tr><td>datetime[μs]</td><td>u32</td></tr></thead><tbody><tr><td>1017-12-08 12:30:00</td><td>1</td></tr><tr><td>1018-09-28 12:56:00</td><td>1</td></tr><tr><td>1023-06-28 19:15:00</td><td>1</td></tr><tr><td>1023-08-29 12:19:00</td><td>1</td></tr></tbody></table></div>"
      ],
      "text/plain": [
       "shape: (4, 2)\n",
       "┌─────────────────────┬───────┐\n",
       "│ CMPLNT_TO_DT_TM     ┆ count │\n",
       "│ ---                 ┆ ---   │\n",
       "│ datetime[μs]        ┆ u32   │\n",
       "╞═════════════════════╪═══════╡\n",
       "│ 1017-12-08 12:30:00 ┆ 1     │\n",
       "│ 1018-09-28 12:56:00 ┆ 1     │\n",
       "│ 1023-06-28 19:15:00 ┆ 1     │\n",
       "│ 1023-08-29 12:19:00 ┆ 1     │\n",
       "└─────────────────────┴───────┘"
      ]
     },
     "execution_count": 9,
     "metadata": {},
     "output_type": "execute_result"
    }
   ],
   "source": [
    "cmplnt_to_datetime.filter(pl.col('CMPLNT_TO_DT_TM').dt.year() < 1900)"
   ]
  },
  {
   "cell_type": "markdown",
   "metadata": {},
   "source": [
    "- Setting bad dates to `null`"
   ]
  },
  {
   "cell_type": "code",
   "execution_count": 10,
   "metadata": {},
   "outputs": [],
   "source": [
    "complaint_lf = complaint_lf.with_columns(pl.when(pl.col('CMPLNT_FR_DT_TM').dt.year() < 1900).then(None).otherwise(pl.col('CMPLNT_FR_DT_TM')).name.keep(),\n",
    "                                         pl.when(pl.col('CMPLNT_TO_DT_TM').dt.year() < 1900).then(None).otherwise(pl.col('CMPLNT_TO_DT_TM')).name.keep())"
   ]
  },
  {
   "cell_type": "markdown",
   "metadata": {},
   "source": [
    "### Handling duplicate values in `CMPLNT_NUM`"
   ]
  },
  {
   "cell_type": "code",
   "execution_count": 11,
   "metadata": {},
   "outputs": [
    {
     "data": {
<<<<<<< Updated upstream
=======
>>>>>>> Stashed changes
>>>>>>> Stashed changes
      "text/plain": [
       "8914838"
      ]
     },
     "execution_count": 11,
     "metadata": {},
     "output_type": "execute_result"
    }
   ],
   "source": [
    "complaint_lf.select(pl.len()).collect().item()"
   ]
  },
  {
   "cell_type": "code",
   "execution_count": 12,
   "metadata": {},
   "outputs": [
    {
     "data": {
      "text/plain": [
       "8913734"
      ]
     },
     "execution_count": 12,
     "metadata": {},
     "output_type": "execute_result"
    }
   ],
   "source": [
    "complaint_lf = complaint_lf.unique('CMPLNT_NUM')\n",
    "complaint_lf.select(pl.len()).collect().item()"
   ]
  },
  {
   "cell_type": "markdown",
   "metadata": {},
   "source": [
    "### Handling Latitude and Longitude variables"
   ]
  },
  {
   "cell_type": "code",
   "execution_count": 13,
   "metadata": {},
   "outputs": [],
   "source": [
    "unique_lat_lon = complaint_lf.select(pl.col('Lat_Lon').unique(),\n",
    "                                     pl.col('Lat_Lon').unique()\n",
    "                                     .str.strip_chars('()')\n",
    "                                     .str.split_exact(\",\",1)\n",
    "                                     .struct.rename_fields(['lat','lon'])\n",
    "                                     .alias(\"fields\")).unnest(\"fields\").with_columns(\n",
    "                                         pl.col('lat').str.strip_chars(' ').cast(pl.Decimal),\n",
    "                                         pl.col('lon').str.strip_chars(' ').cast(pl.Decimal)\n",
    "                                         )"
   ]
  },
  {
   "cell_type": "code",
   "execution_count": 14,
   "metadata": {},
   "outputs": [
    {
     "data": {
      "text/html": [
       "<div>\n",
       "<style scoped>\n",
       "    .dataframe tbody tr th:only-of-type {\n",
       "        vertical-align: middle;\n",
       "    }\n",
       "\n",
       "    .dataframe tbody tr th {\n",
       "        vertical-align: top;\n",
       "    }\n",
       "\n",
       "    .dataframe thead th {\n",
       "        text-align: right;\n",
       "    }\n",
       "</style>\n",
       "<table border=\"1\" class=\"dataframe\">\n",
       "  <thead>\n",
       "    <tr style=\"text-align: right;\">\n",
       "      <th></th>\n",
       "      <th>Lat_Lon</th>\n",
       "      <th>lat</th>\n",
       "      <th>lon</th>\n",
       "    </tr>\n",
       "  </thead>\n",
       "  <tbody>\n",
       "    <tr>\n",
       "      <th>0</th>\n",
       "      <td>(40.839146, -73.851516)</td>\n",
       "      <td>40.839146000000000</td>\n",
       "      <td>-73.85151600000000</td>\n",
       "    </tr>\n",
       "    <tr>\n",
       "      <th>1</th>\n",
       "      <td>(40.630546, -73.980172)</td>\n",
       "      <td>40.630546000000000</td>\n",
       "      <td>-73.98017200000000</td>\n",
       "    </tr>\n",
       "    <tr>\n",
       "      <th>2</th>\n",
       "      <td>(40.852326, -73.8967)</td>\n",
       "      <td>40.852326000000000</td>\n",
       "      <td>-73.89670000000000</td>\n",
       "    </tr>\n",
       "    <tr>\n",
       "      <th>3</th>\n",
       "      <td>(40.55960418, -74.17688113)</td>\n",
       "      <td>40.559604180000000</td>\n",
       "      <td>-74.17688113000000</td>\n",
       "    </tr>\n",
       "    <tr>\n",
       "      <th>4</th>\n",
       "      <td>(40.68464, -73.978216)</td>\n",
       "      <td>40.684640000000000</td>\n",
       "      <td>-73.97821600000000</td>\n",
       "    </tr>\n",
       "  </tbody>\n",
       "</table>\n",
       "</div>"
      ],
      "text/plain": [
       "                       Lat_Lon                 lat                 lon\n",
       "0      (40.839146, -73.851516)  40.839146000000000  -73.85151600000000\n",
       "1      (40.630546, -73.980172)  40.630546000000000  -73.98017200000000\n",
       "2        (40.852326, -73.8967)  40.852326000000000  -73.89670000000000\n",
       "3  (40.55960418, -74.17688113)  40.559604180000000  -74.17688113000000\n",
       "4       (40.68464, -73.978216)  40.684640000000000  -73.97821600000000"
      ]
     },
     "execution_count": 14,
     "metadata": {},
     "output_type": "execute_result"
    }
   ],
   "source": [
    "unique_lat_lon_df = unique_lat_lon.collect().to_pandas()\n",
    "unique_lat_lon_df.head()"
   ]
  },
  {
   "cell_type": "markdown",
   "metadata": {},
   "source": [
    "### Loading NYC Zip Code Data"
   ]
  },
  {
   "cell_type": "markdown",
   "metadata": {},
   "source": [
    "* [Modified Zip Code Tabulation Areas (MODZCTA)](https://data.cityofnewyork.us/Health/Modified-Zip-Code-Tabulation-Areas-MODZCTA-/pri4-ifjk/about_data) is downloaded as `.geojson` locally and stored in `data` directory."
   ]
  },
  {
   "cell_type": "code",
   "execution_count": 15,
   "metadata": {},
   "outputs": [],
   "source": [
    "import geopandas\n",
    "\n",
    "unique_lat_lon_gdf = geopandas.GeoDataFrame(unique_lat_lon_df,\n",
    "                             geometry=geopandas.points_from_xy(unique_lat_lon_df.lon, unique_lat_lon_df.lat),\n",
    "                             crs=\"EPSG:4326\")\n",
    "\n",
    "fname = 'MODZCTA.geojson'\n",
    "fpath = os.path.join(sys.path[-1], data_dir, fname)\n",
    "\n",
    "assert os.path.exists(fpath), f'{os.path.abspath(fpath)} does not exists!'\n",
    "geo_df = geopandas.read_file(fpath)"
   ]
  },
  {
   "cell_type": "markdown",
   "metadata": {},
   "source": [
    "Extracting zip code"
   ]
  },
  {
   "cell_type": "code",
   "execution_count": 16,
   "metadata": {},
   "outputs": [],
   "source": [
    "import numpy as np\n",
    "\n",
    "zips = np.empty(unique_lat_lon_gdf.shape[0], dtype=object)\n",
    "for i, geom in enumerate(geo_df.geometry):\n",
    "    zips[unique_lat_lon_gdf.within(geom)] = geo_df.modzcta[i]\n",
    "zips[zips==None] = ''\n",
    "unique_lat_lon_gdf['zipcode'] = zips"
   ]
  },
  {
   "cell_type": "code",
   "execution_count": 17,
   "metadata": {},
   "outputs": [
    {
     "data": {
      "text/plain": [
       "Schema([('Lat_Lon', String), ('zipcode', String)])"
      ]
     },
     "execution_count": 17,
     "metadata": {},
     "output_type": "execute_result"
    }
   ],
   "source": [
    "lat_lon_zip_lf = pl.from_pandas(unique_lat_lon_gdf[['Lat_Lon','zipcode']]).lazy()\n",
    "lat_lon_zip_lf.collect_schema()"
   ]
  },
  {
   "cell_type": "markdown",
   "metadata": {},
   "source": [
    "Joining the Complait data with extracted zip code data"
   ]
  },
  {
   "cell_type": "code",
   "execution_count": 18,
   "metadata": {},
   "outputs": [
    {
     "data": {
      "text/plain": [
       "Schema([('CMPLNT_NUM', String),\n",
       "        ('ADDR_PCT_CD', Int64),\n",
       "        ('RPT_DT', Date),\n",
       "        ('KY_CD', Int64),\n",
       "        ('OFNS_DESC', String),\n",
       "        ('PD_CD', Int64),\n",
       "        ('PD_DESC', String),\n",
       "        ('CRM_ATPT_CPTD_CD', String),\n",
       "        ('LAW_CAT_CD', String),\n",
       "        ('BORO_NM', String),\n",
       "        ('LOC_OF_OCCUR_DESC', String),\n",
       "        ('PREM_TYP_DESC', String),\n",
       "        ('JURIS_DESC', String),\n",
       "        ('JURISDICTION_CODE', Int64),\n",
       "        ('PARKS_NM', String),\n",
       "        ('HADEVELOPT', String),\n",
       "        ('HOUSING_PSA', String),\n",
       "        ('X_COORD_CD', Int64),\n",
       "        ('Y_COORD_CD', Int64),\n",
       "        ('SUSP_AGE_GROUP', String),\n",
       "        ('SUSP_RACE', String),\n",
       "        ('SUSP_SEX', String),\n",
       "        ('TRANSIT_DISTRICT', String),\n",
       "        ('Latitude', Float64),\n",
       "        ('Longitude', Float64),\n",
       "        ('Lat_Lon', String),\n",
       "        ('PATROL_BORO', String),\n",
       "        ('STATION_NAME', String),\n",
       "        ('VIC_AGE_GROUP', String),\n",
       "        ('VIC_RACE', String),\n",
       "        ('VIC_SEX', String),\n",
       "        ('CMPLNT_FR_DT_TM', Datetime(time_unit='us', time_zone=None)),\n",
       "        ('CMPLNT_TO_DT_TM', Datetime(time_unit='us', time_zone=None)),\n",
       "        ('zipcode', String)])"
      ]
     },
     "execution_count": 18,
     "metadata": {},
     "output_type": "execute_result"
    }
   ],
   "source": [
    "complaint_lf = complaint_lf.join(lat_lon_zip_lf, on='Lat_Lon')\n",
    "complaint_lf.collect_schema()"
   ]
  },
  {
   "cell_type": "markdown",
   "metadata": {},
   "source": [
    "- Cleaning variables with null value as '(null)' to actual `null` values."
   ]
  },
  {
   "cell_type": "code",
   "execution_count": 19,
   "metadata": {},
   "outputs": [],
   "source": [
    "import polars.selectors as cs\n",
    "\n",
    "complaint_lf = complaint_lf.with_columns(pl.when(cs.by_dtype(pl.String).str.contains('(null)')).then(None).otherwise(cs.by_dtype(pl.String)).name.keep())"
   ]
  },
  {
   "cell_type": "markdown",
   "metadata": {},
   "source": [
    "### Cleaned data"
   ]
  },
  {
   "cell_type": "markdown",
   "metadata": {},
   "source": [
    "Implementing `.collect()` method on the entire lazyFrame to execute all calculations and joins in sequence."
   ]
  },
  {
   "cell_type": "code",
   "execution_count": 20,
   "metadata": {},
   "outputs": [
    {
     "name": "stdout",
     "output_type": "stream",
     "text": [
      " WITH_COLUMNS:\n",
      " [when(col(\"CMPLNT_NUM\").str.contains([String((null))])).then(null.strict_cast(String)).otherwise(col(\"CMPLNT_NUM\")).alias(\"CMPLNT_NUM\"), when(col(\"OFNS_DESC\").str.contains([String((null))])).then(null.strict_cast(String)).otherwise(col(\"OFNS_DESC\")).alias(\"OFNS_DESC\"), when(col(\"PD_DESC\").str.contains([String((null))])).then(null.strict_cast(String)).otherwise(col(\"PD_DESC\")).alias(\"PD_DESC\"), when(col(\"CRM_ATPT_CPTD_CD\").str.contains([String((null))])).then(null.strict_cast(String)).otherwise(col(\"CRM_ATPT_CPTD_CD\")).alias(\"CRM_ATPT_CPTD_CD\"), when(col(\"LAW_CAT_CD\").str.contains([String((null))])).then(null.strict_cast(String)).otherwise(col(\"LAW_CAT_CD\")).alias(\"LAW_CAT_CD\"), when(col(\"BORO_NM\").str.contains([String((null))])).then(null.strict_cast(String)).otherwise(col(\"BORO_NM\")).alias(\"BORO_NM\"), when(col(\"LOC_OF_OCCUR_DESC\").str.contains([String((null))])).then(null.strict_cast(String)).otherwise(col(\"LOC_OF_OCCUR_DESC\")).alias(\"LOC_OF_OCCUR_DESC\"), when(col(\"PREM_TYP_DESC\").str.contains([String((null))])).then(null.strict_cast(String)).otherwise(col(\"PREM_TYP_DESC\")).alias(\"PREM_TYP_DESC\"), when(col(\"JURIS_DESC\").str.contains([String((null))])).then(null.strict_cast(String)).otherwise(col(\"JURIS_DESC\")).alias(\"JURIS_DESC\"), when(col(\"PARKS_NM\").str.contains([String((null))])).then(null.strict_cast(String)).otherwise(col(\"PARKS_NM\")).alias(\"PARKS_NM\"), when(col(\"HADEVELOPT\").str.contains([String((null))])).then(null.strict_cast(String)).otherwise(col(\"HADEVELOPT\")).alias(\"HADEVELOPT\"), when(col(\"HOUSING_PSA\").str.contains([String((null))])).then(null.strict_cast(String)).otherwise(col(\"HOUSING_PSA\")).alias(\"HOUSING_PSA\"), when(col(\"SUSP_AGE_GROUP\").str.contains([String((null))])).then(null.strict_cast(String)).otherwise(col(\"SUSP_AGE_GROUP\")).alias(\"SUSP_AGE_GROUP\"), when(col(\"SUSP_RACE\").str.contains([String((null))])).then(null.strict_cast(String)).otherwise(col(\"SUSP_RACE\")).alias(\"SUSP_RACE\"), when(col(\"SUSP_SEX\").str.contains([String((null))])).then(null.strict_cast(String)).otherwise(col(\"SUSP_SEX\")).alias(\"SUSP_SEX\"), when(col(\"TRANSIT_DISTRICT\").str.contains([String((null))])).then(null.strict_cast(String)).otherwise(col(\"TRANSIT_DISTRICT\")).alias(\"TRANSIT_DISTRICT\"), when(col(\"Lat_Lon\").str.contains([String((null))])).then(null.strict_cast(String)).otherwise(col(\"Lat_Lon\")).alias(\"Lat_Lon\"), when(col(\"PATROL_BORO\").str.contains([String((null))])).then(null.strict_cast(String)).otherwise(col(\"PATROL_BORO\")).alias(\"PATROL_BORO\"), when(col(\"STATION_NAME\").str.contains([String((null))])).then(null.strict_cast(String)).otherwise(col(\"STATION_NAME\")).alias(\"STATION_NAME\"), when(col(\"VIC_AGE_GROUP\").str.contains([String((null))])).then(null.strict_cast(String)).otherwise(col(\"VIC_AGE_GROUP\")).alias(\"VIC_AGE_GROUP\"), when(col(\"VIC_RACE\").str.contains([String((null))])).then(null.strict_cast(String)).otherwise(col(\"VIC_RACE\")).alias(\"VIC_RACE\"), when(col(\"VIC_SEX\").str.contains([String((null))])).then(null.strict_cast(String)).otherwise(col(\"VIC_SEX\")).alias(\"VIC_SEX\"), when(col(\"zipcode\").str.contains([String((null))])).then(null.strict_cast(String)).otherwise(col(\"zipcode\")).alias(\"zipcode\")] \n",
      "  INNER JOIN:\n",
      "  LEFT PLAN ON: [col(\"Lat_Lon\")]\n",
      "    UNIQUE[maintain_order: false, keep_strategy: Any] BY Some([\"CMPLNT_NUM\"])\n",
      "       WITH_COLUMNS:\n",
      "       [when([(col(\"CMPLNT_FR_DT_TM\").dt.year()) < (1900)]).then(null.strict_cast(Datetime(Microseconds, None))).otherwise(col(\"CMPLNT_FR_DT_TM\")).alias(\"CMPLNT_FR_DT_TM\"), when([(col(\"CMPLNT_TO_DT_TM\").dt.year()) < (1900)]).then(null.strict_cast(Datetime(Microseconds, None))).otherwise(col(\"CMPLNT_TO_DT_TM\")).alias(\"CMPLNT_TO_DT_TM\")] \n",
      "        simple π 33/37 [\"CMPLNT_NUM\", \"ADDR_PCT_CD\", ... 31 other columns]\n",
      "           WITH_COLUMNS:\n",
      "           [col(\"CMPLNT_FR_DT\").dt.combine([col(\"CMPLNT_FR_TM\")]).alias(\"CMPLNT_FR_DT_TM\"), col(\"CMPLNT_TO_DT\").dt.combine([col(\"CMPLNT_TO_TM\")]).alias(\"CMPLNT_TO_DT_TM\")] \n",
      "             WITH_COLUMNS:\n",
      "             [col(\"CMPLNT_FR_DT\").str.strptime([String(raise)]), col(\"CMPLNT_TO_DT\").str.strptime([String(raise)]), col(\"RPT_DT\").str.strptime([String(raise)]), when(col(\"CMPLNT_TO_TM\").str.contains([String((null))])).then(null.strict_cast(String)).otherwise(col(\"CMPLNT_TO_TM\")).str.strptime([String(raise)]).alias(\"CMPLNT_TO_TM\")] \n",
      "              Csv SCAN [../data/NYPD_Complaint_Data_Historic_20241027.csv]\n",
      "              PROJECT 35/35 COLUMNS\n",
      "  RIGHT PLAN ON: [col(\"Lat_Lon\")]\n",
      "    DF [\"Lat_Lon\", \"zipcode\"]; PROJECT */2 COLUMNS; SELECTION: None\n",
      "  END INNER JOIN\n"
     ]
    }
   ],
   "source": [
    "print(complaint_lf.explain(format='plain'))"
   ]
  },
  {
   "cell_type": "code",
   "execution_count": 21,
   "metadata": {},
   "outputs": [
    {
     "data": {
      "text/html": [
       "<div><style>\n",
       ".dataframe > thead > tr,\n",
       ".dataframe > tbody > tr {\n",
       "  text-align: right;\n",
       "  white-space: pre-wrap;\n",
       "}\n",
       "</style>\n",
       "<small>shape: (8_913_268, 34)</small><table border=\"1\" class=\"dataframe\"><thead><tr><th>CMPLNT_NUM</th><th>ADDR_PCT_CD</th><th>RPT_DT</th><th>KY_CD</th><th>OFNS_DESC</th><th>PD_CD</th><th>PD_DESC</th><th>CRM_ATPT_CPTD_CD</th><th>LAW_CAT_CD</th><th>BORO_NM</th><th>LOC_OF_OCCUR_DESC</th><th>PREM_TYP_DESC</th><th>JURIS_DESC</th><th>JURISDICTION_CODE</th><th>PARKS_NM</th><th>HADEVELOPT</th><th>HOUSING_PSA</th><th>X_COORD_CD</th><th>Y_COORD_CD</th><th>SUSP_AGE_GROUP</th><th>SUSP_RACE</th><th>SUSP_SEX</th><th>TRANSIT_DISTRICT</th><th>Latitude</th><th>Longitude</th><th>Lat_Lon</th><th>PATROL_BORO</th><th>STATION_NAME</th><th>VIC_AGE_GROUP</th><th>VIC_RACE</th><th>VIC_SEX</th><th>CMPLNT_FR_DT_TM</th><th>CMPLNT_TO_DT_TM</th><th>zipcode</th></tr><tr><td>str</td><td>i64</td><td>date</td><td>i64</td><td>str</td><td>i64</td><td>str</td><td>str</td><td>str</td><td>str</td><td>str</td><td>str</td><td>str</td><td>i64</td><td>str</td><td>str</td><td>str</td><td>i64</td><td>i64</td><td>str</td><td>str</td><td>str</td><td>str</td><td>f64</td><td>f64</td><td>str</td><td>str</td><td>str</td><td>str</td><td>str</td><td>str</td><td>datetime[μs]</td><td>datetime[μs]</td><td>str</td></tr></thead><tbody><tr><td>&quot;47520671&quot;</td><td>14</td><td>2008-06-23</td><td>107</td><td>&quot;BURGLARY&quot;</td><td>214</td><td>&quot;BURGLARY,COMMERCIAL,UNKNOWN TI&quot;</td><td>&quot;COMPLETED&quot;</td><td>&quot;FELONY&quot;</td><td>&quot;MANHATTAN&quot;</td><td>&quot;INSIDE&quot;</td><td>&quot;COMMERCIAL BUILDING&quot;</td><td>&quot;N.Y. POLICE DEPT&quot;</td><td>0</td><td>null</td><td>null</td><td>null</td><td>988750</td><td>211830</td><td>null</td><td>null</td><td>null</td><td>null</td><td>40.748102</td><td>-73.983759</td><td>&quot;(40.748102, -73.983759)&quot;</td><td>&quot;PATROL BORO MAN SOUTH&quot;</td><td>null</td><td>null</td><td>&quot;UNKNOWN&quot;</td><td>&quot;D&quot;</td><td>null</td><td>2008-06-23 07:10:00</td><td>&quot;10016&quot;</td></tr><tr><td>&quot;16644779&quot;</td><td>68</td><td>2006-05-31</td><td>578</td><td>&quot;HARRASSMENT 2&quot;</td><td>638</td><td>&quot;HARASSMENT,SUBD 3,4,5&quot;</td><td>&quot;COMPLETED&quot;</td><td>&quot;VIOLATION&quot;</td><td>&quot;BROOKLYN&quot;</td><td>null</td><td>&quot;STREET&quot;</td><td>&quot;N.Y. POLICE DEPT&quot;</td><td>0</td><td>null</td><td>null</td><td>null</td><td>975965</td><td>164852</td><td>null</td><td>&quot;WHITE&quot;</td><td>&quot;F&quot;</td><td>null</td><td>40.619153</td><td>-74.029843</td><td>&quot;(40.6191532, -74.02984326)&quot;</td><td>&quot;PATROL BORO BKLYN SOUTH&quot;</td><td>null</td><td>&quot;45-64&quot;</td><td>&quot;WHITE&quot;</td><td>&quot;F&quot;</td><td>null</td><td>2006-05-31 18:10:00</td><td>&quot;11209&quot;</td></tr><tr><td>&quot;75550175&quot;</td><td>90</td><td>2010-11-14</td><td>341</td><td>&quot;PETIT LARCENY&quot;</td><td>321</td><td>&quot;LARCENY,PETIT FROM AUTO&quot;</td><td>&quot;COMPLETED&quot;</td><td>&quot;MISDEMEANOR&quot;</td><td>&quot;BROOKLYN&quot;</td><td>null</td><td>&quot;STREET&quot;</td><td>&quot;N.Y. POLICE DEPT&quot;</td><td>0</td><td>null</td><td>null</td><td>null</td><td>1001293</td><td>197146</td><td>null</td><td>null</td><td>null</td><td>null</td><td>40.707781</td><td>-73.938528</td><td>&quot;(40.70778053, -73.93852805)&quot;</td><td>&quot;PATROL BORO BKLYN NORTH&quot;</td><td>null</td><td>&quot;25-44&quot;</td><td>&quot;WHITE&quot;</td><td>&quot;F&quot;</td><td>null</td><td>2010-11-13 12:30:00</td><td>&quot;11206&quot;</td></tr><tr><td>&quot;52083441&quot;</td><td>40</td><td>2008-10-09</td><td>105</td><td>&quot;ROBBERY&quot;</td><td>397</td><td>&quot;ROBBERY,OPEN AREA UNCLASSIFIED&quot;</td><td>&quot;COMPLETED&quot;</td><td>&quot;FELONY&quot;</td><td>&quot;BRONX&quot;</td><td>&quot;FRONT OF&quot;</td><td>&quot;STREET&quot;</td><td>&quot;N.Y. POLICE DEPT&quot;</td><td>0</td><td>null</td><td>null</td><td>null</td><td>1005920</td><td>234653</td><td>&quot;18-24&quot;</td><td>&quot;BLACK&quot;</td><td>&quot;M&quot;</td><td>null</td><td>40.81072</td><td>-73.921718</td><td>&quot;(40.81072, -73.921718)&quot;</td><td>&quot;PATROL BORO BRONX&quot;</td><td>null</td><td>&quot;18-24&quot;</td><td>&quot;WHITE HISPANIC&quot;</td><td>&quot;F&quot;</td><td>null</td><td>2008-09-27 18:05:00</td><td>&quot;10454&quot;</td></tr><tr><td>&quot;74191944&quot;</td><td>66</td><td>2010-08-17</td><td>351</td><td>&quot;CRIMINAL MISCHIEF &amp; RELATED OF&quot;</td><td>258</td><td>&quot;CRIMINAL MISCHIEF 4TH, GRAFFIT&quot;</td><td>&quot;COMPLETED&quot;</td><td>&quot;MISDEMEANOR&quot;</td><td>&quot;BROOKLYN&quot;</td><td>&quot;FRONT OF&quot;</td><td>&quot;FACTORY/WAREHOUSE&quot;</td><td>&quot;N.Y. POLICE DEPT&quot;</td><td>0</td><td>null</td><td>null</td><td>null</td><td>985963</td><td>173002</td><td>null</td><td>null</td><td>null</td><td>null</td><td>40.641527</td><td>-73.993826</td><td>&quot;(40.641527, -73.993826)&quot;</td><td>&quot;PATROL BORO BKLYN SOUTH&quot;</td><td>null</td><td>null</td><td>&quot;UNKNOWN&quot;</td><td>&quot;E&quot;</td><td>null</td><td>2010-06-10 19:00:00</td><td>&quot;11219&quot;</td></tr><tr><td>&hellip;</td><td>&hellip;</td><td>&hellip;</td><td>&hellip;</td><td>&hellip;</td><td>&hellip;</td><td>&hellip;</td><td>&hellip;</td><td>&hellip;</td><td>&hellip;</td><td>&hellip;</td><td>&hellip;</td><td>&hellip;</td><td>&hellip;</td><td>&hellip;</td><td>&hellip;</td><td>&hellip;</td><td>&hellip;</td><td>&hellip;</td><td>&hellip;</td><td>&hellip;</td><td>&hellip;</td><td>&hellip;</td><td>&hellip;</td><td>&hellip;</td><td>&hellip;</td><td>&hellip;</td><td>&hellip;</td><td>&hellip;</td><td>&hellip;</td><td>&hellip;</td><td>&hellip;</td><td>&hellip;</td><td>&hellip;</td></tr><tr><td>&quot;279763284&quot;</td><td>10</td><td>2023-12-31</td><td>106</td><td>&quot;FELONY ASSAULT&quot;</td><td>105</td><td>&quot;STRANGULATION 1ST&quot;</td><td>&quot;COMPLETED&quot;</td><td>&quot;FELONY&quot;</td><td>&quot;MANHATTAN&quot;</td><td>null</td><td>&quot;STREET&quot;</td><td>&quot;N.Y. POLICE DEPT&quot;</td><td>0</td><td>null</td><td>null</td><td>null</td><td>984267</td><td>211939</td><td>&quot;25-44&quot;</td><td>&quot;BLACK&quot;</td><td>&quot;M&quot;</td><td>null</td><td>40.7484</td><td>-73.999939</td><td>&quot;(40.748400123068116, -73.99993…</td><td>&quot;PATROL BORO MAN SOUTH&quot;</td><td>null</td><td>&quot;25-44&quot;</td><td>&quot;WHITE HISPANIC&quot;</td><td>&quot;F&quot;</td><td>2023-12-31 23:37:00</td><td>2023-12-31 23:53:00</td><td>&quot;10001&quot;</td></tr><tr><td>&quot;279767320&quot;</td><td>73</td><td>2023-12-31</td><td>359</td><td>&quot;OFFENSES AGAINST PUBLIC ADMINI&quot;</td><td>750</td><td>&quot;RESISTING ARREST&quot;</td><td>&quot;COMPLETED&quot;</td><td>&quot;MISDEMEANOR&quot;</td><td>&quot;BROOKLYN&quot;</td><td>&quot;FRONT OF&quot;</td><td>null</td><td>&quot;N.Y. POLICE DEPT&quot;</td><td>0</td><td>null</td><td>null</td><td>null</td><td>1008682</td><td>186426</td><td>&quot;18-24&quot;</td><td>&quot;WHITE HISPANIC&quot;</td><td>&quot;M&quot;</td><td>null</td><td>40.678339</td><td>-73.911913</td><td>&quot;(40.678339, -73.911913)&quot;</td><td>&quot;PATROL BORO BKLYN NORTH&quot;</td><td>null</td><td>&quot;UNKNOWN&quot;</td><td>&quot;UNKNOWN&quot;</td><td>&quot;E&quot;</td><td>2023-12-31 23:40:00</td><td>2023-12-31 23:56:00</td><td>&quot;11233&quot;</td></tr><tr><td>&quot;279763541&quot;</td><td>14</td><td>2023-12-31</td><td>233</td><td>&quot;SEX CRIMES&quot;</td><td>175</td><td>&quot;SEXUAL ABUSE 3,2&quot;</td><td>&quot;COMPLETED&quot;</td><td>&quot;MISDEMEANOR&quot;</td><td>&quot;MANHATTAN&quot;</td><td>null</td><td>&quot;STREET&quot;</td><td>&quot;N.Y. POLICE DEPT&quot;</td><td>0</td><td>null</td><td>null</td><td>null</td><td>985764</td><td>213806</td><td>&quot;25-44&quot;</td><td>&quot;ASIAN / PACIFIC ISLANDER&quot;</td><td>&quot;M&quot;</td><td>null</td><td>40.753533</td><td>-73.994537</td><td>&quot;(40.7535327012632, -73.9945368…</td><td>&quot;PATROL BORO MAN SOUTH&quot;</td><td>null</td><td>&quot;18-24&quot;</td><td>&quot;WHITE HISPANIC&quot;</td><td>&quot;F&quot;</td><td>2023-12-31 23:40:00</td><td>2023-12-31 23:50:00</td><td>&quot;10018&quot;</td></tr><tr><td>&quot;279767321&quot;</td><td>73</td><td>2023-12-31</td><td>117</td><td>&quot;DANGEROUS DRUGS&quot;</td><td>500</td><td>&quot;CONTROLLED SUBSTANCE,POSSESS.&quot;</td><td>&quot;COMPLETED&quot;</td><td>&quot;FELONY&quot;</td><td>&quot;BROOKLYN&quot;</td><td>&quot;FRONT OF&quot;</td><td>&quot;STREET&quot;</td><td>&quot;N.Y. POLICE DEPT&quot;</td><td>0</td><td>null</td><td>null</td><td>null</td><td>1008682</td><td>186426</td><td>&quot;18-24&quot;</td><td>&quot;WHITE HISPANIC&quot;</td><td>&quot;M&quot;</td><td>null</td><td>40.678339</td><td>-73.911913</td><td>&quot;(40.678339, -73.911913)&quot;</td><td>&quot;PATROL BORO BKLYN NORTH&quot;</td><td>null</td><td>&quot;UNKNOWN&quot;</td><td>&quot;UNKNOWN&quot;</td><td>&quot;E&quot;</td><td>2023-12-31 23:40:00</td><td>2023-12-31 23:56:00</td><td>&quot;11233&quot;</td></tr><tr><td>&quot;279766990&quot;</td><td>46</td><td>2023-12-31</td><td>118</td><td>&quot;DANGEROUS WEAPONS&quot;</td><td>792</td><td>&quot;CRIMINAL POSSESSION WEAPON&quot;</td><td>&quot;COMPLETED&quot;</td><td>&quot;FELONY&quot;</td><td>&quot;BRONX&quot;</td><td>null</td><td>&quot;STREET&quot;</td><td>&quot;N.Y. POLICE DEPT&quot;</td><td>0</td><td>null</td><td>null</td><td>null</td><td>1009588</td><td>249449</td><td>&quot;&lt;18&quot;</td><td>&quot;BLACK HISPANIC&quot;</td><td>&quot;M&quot;</td><td>null</td><td>40.851318</td><td>-73.908412</td><td>&quot;(40.851318462027784, -73.90841…</td><td>&quot;PATROL BORO BRONX&quot;</td><td>null</td><td>&quot;UNKNOWN&quot;</td><td>&quot;UNKNOWN&quot;</td><td>&quot;E&quot;</td><td>2023-12-31 23:50:00</td><td>null</td><td>&quot;10453&quot;</td></tr></tbody></table></div>"
      ],
      "text/plain": [
       "shape: (8_913_268, 34)\n",
       "┌────────────┬─────────────┬────────────┬───────┬───┬─────────┬─────────────┬────────────┬─────────┐\n",
       "│ CMPLNT_NUM ┆ ADDR_PCT_CD ┆ RPT_DT     ┆ KY_CD ┆ … ┆ VIC_SEX ┆ CMPLNT_FR_D ┆ CMPLNT_TO_ ┆ zipcode │\n",
       "│ ---        ┆ ---         ┆ ---        ┆ ---   ┆   ┆ ---     ┆ T_TM        ┆ DT_TM      ┆ ---     │\n",
       "│ str        ┆ i64         ┆ date       ┆ i64   ┆   ┆ str     ┆ ---         ┆ ---        ┆ str     │\n",
       "│            ┆             ┆            ┆       ┆   ┆         ┆ datetime[μs ┆ datetime[μ ┆         │\n",
       "│            ┆             ┆            ┆       ┆   ┆         ┆ ]           ┆ s]         ┆         │\n",
       "╞════════════╪═════════════╪════════════╪═══════╪═══╪═════════╪═════════════╪════════════╪═════════╡\n",
       "│ 47520671   ┆ 14          ┆ 2008-06-23 ┆ 107   ┆ … ┆ D       ┆ null        ┆ 2008-06-23 ┆ 10016   │\n",
       "│            ┆             ┆            ┆       ┆   ┆         ┆             ┆ 07:10:00   ┆         │\n",
       "│ 16644779   ┆ 68          ┆ 2006-05-31 ┆ 578   ┆ … ┆ F       ┆ null        ┆ 2006-05-31 ┆ 11209   │\n",
       "│            ┆             ┆            ┆       ┆   ┆         ┆             ┆ 18:10:00   ┆         │\n",
       "│ 75550175   ┆ 90          ┆ 2010-11-14 ┆ 341   ┆ … ┆ F       ┆ null        ┆ 2010-11-13 ┆ 11206   │\n",
       "│            ┆             ┆            ┆       ┆   ┆         ┆             ┆ 12:30:00   ┆         │\n",
       "│ 52083441   ┆ 40          ┆ 2008-10-09 ┆ 105   ┆ … ┆ F       ┆ null        ┆ 2008-09-27 ┆ 10454   │\n",
       "│            ┆             ┆            ┆       ┆   ┆         ┆             ┆ 18:05:00   ┆         │\n",
       "│ 74191944   ┆ 66          ┆ 2010-08-17 ┆ 351   ┆ … ┆ E       ┆ null        ┆ 2010-06-10 ┆ 11219   │\n",
       "│            ┆             ┆            ┆       ┆   ┆         ┆             ┆ 19:00:00   ┆         │\n",
       "│ …          ┆ …           ┆ …          ┆ …     ┆ … ┆ …       ┆ …           ┆ …          ┆ …       │\n",
       "│ 279763284  ┆ 10          ┆ 2023-12-31 ┆ 106   ┆ … ┆ F       ┆ 2023-12-31  ┆ 2023-12-31 ┆ 10001   │\n",
       "│            ┆             ┆            ┆       ┆   ┆         ┆ 23:37:00    ┆ 23:53:00   ┆         │\n",
       "│ 279767320  ┆ 73          ┆ 2023-12-31 ┆ 359   ┆ … ┆ E       ┆ 2023-12-31  ┆ 2023-12-31 ┆ 11233   │\n",
       "│            ┆             ┆            ┆       ┆   ┆         ┆ 23:40:00    ┆ 23:56:00   ┆         │\n",
       "│ 279763541  ┆ 14          ┆ 2023-12-31 ┆ 233   ┆ … ┆ F       ┆ 2023-12-31  ┆ 2023-12-31 ┆ 10018   │\n",
       "│            ┆             ┆            ┆       ┆   ┆         ┆ 23:40:00    ┆ 23:50:00   ┆         │\n",
       "│ 279767321  ┆ 73          ┆ 2023-12-31 ┆ 117   ┆ … ┆ E       ┆ 2023-12-31  ┆ 2023-12-31 ┆ 11233   │\n",
       "│            ┆             ┆            ┆       ┆   ┆         ┆ 23:40:00    ┆ 23:56:00   ┆         │\n",
       "│ 279766990  ┆ 46          ┆ 2023-12-31 ┆ 118   ┆ … ┆ E       ┆ 2023-12-31  ┆ null       ┆ 10453   │\n",
       "│            ┆             ┆            ┆       ┆   ┆         ┆ 23:50:00    ┆            ┆         │\n",
       "└────────────┴─────────────┴────────────┴───────┴───┴─────────┴─────────────┴────────────┴─────────┘"
      ]
     },
     "execution_count": 21,
     "metadata": {},
     "output_type": "execute_result"
    }
   ],
   "source": [
    "complaint_lf.sort('CMPLNT_FR_DT_TM').collect()"
   ]
  },
  {
   "cell_type": "markdown",
   "metadata": {},
   "source": [
    "### Exporting to `.csv`"
   ]
  },
  {
   "cell_type": "code",
   "execution_count": null,
   "metadata": {},
   "outputs": [],
   "source": []
  }
 ],
 "metadata": {
  "kernelspec": {
   "display_name": ".venv",
   "language": "python",
   "name": "python3"
  },
  "language_info": {
   "codemirror_mode": {
    "name": "ipython",
    "version": 3
   },
   "file_extension": ".py",
   "mimetype": "text/x-python",
   "name": "python",
   "nbconvert_exporter": "python",
   "pygments_lexer": "ipython3",
   "version": "3.11.8"
  }
 },
 "nbformat": 4,
 "nbformat_minor": 2
}
