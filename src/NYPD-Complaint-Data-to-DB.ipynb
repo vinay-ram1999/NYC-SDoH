{
 "cells": [
  {
   "cell_type": "markdown",
   "metadata": {},
   "source": [
    "# NYPD-Complaint-Data to DB"
   ]
  },
  {
   "cell_type": "markdown",
   "metadata": {},
   "source": [
    "<span style=\"color: red;\">**WARNING:** Only execute this notebook if your machine has sufficient memory (RAM >16 GB preferred)</span>"
   ]
  },
  {
   "cell_type": "markdown",
   "metadata": {},
   "source": [
    "### Loading raw data"
   ]
  },
  {
   "cell_type": "markdown",
   "metadata": {},
   "source": [
    "* [NYPD Complaint Data Historic](https://data.cityofnewyork.us/Public-Safety/NYPD-Complaint-Data-Historic/qgea-i56i/about_data) is downloaded as a `.csv` locally and stored in `data` directory."
   ]
  },
  {
   "cell_type": "code",
   "execution_count": 1,
   "metadata": {},
   "outputs": [],
   "source": [
    "import sys\n",
    "import os\n",
    "\n",
    "sys.path.append(f\"..{os.path.sep}\")\n",
    "\n",
    "data_dir = 'data'\n",
    "fname = 'NYPD_Complaint_Data_Historic_20241027.csv'\n",
    "fpath = os.path.join(sys.path[-1], data_dir, fname)\n",
    "\n",
    "assert os.path.exists(fpath), f'{os.path.abspath(fpath)} does not exists!'"
   ]
  },
  {
   "cell_type": "code",
   "execution_count": 2,
   "metadata": {},
   "outputs": [
    {
     "data": {
      "text/plain": [
       "Schema([('CMPLNT_NUM', String),\n",
       "        ('CMPLNT_FR_DT', String),\n",
       "        ('CMPLNT_FR_TM', String),\n",
       "        ('CMPLNT_TO_DT', String),\n",
       "        ('CMPLNT_TO_TM', String),\n",
       "        ('ADDR_PCT_CD', Int64),\n",
       "        ('RPT_DT', String),\n",
       "        ('KY_CD', Int64),\n",
       "        ('OFNS_DESC', String),\n",
       "        ('PD_CD', Int64),\n",
       "        ('PD_DESC', String),\n",
       "        ('CRM_ATPT_CPTD_CD', String),\n",
       "        ('LAW_CAT_CD', String),\n",
       "        ('BORO_NM', String),\n",
       "        ('LOC_OF_OCCUR_DESC', String),\n",
       "        ('PREM_TYP_DESC', String),\n",
       "        ('JURIS_DESC', String),\n",
       "        ('JURISDICTION_CODE', Int64),\n",
       "        ('PARKS_NM', String),\n",
       "        ('HADEVELOPT', String),\n",
       "        ('HOUSING_PSA', String),\n",
       "        ('X_COORD_CD', Int64),\n",
       "        ('Y_COORD_CD', Int64),\n",
       "        ('SUSP_AGE_GROUP', String),\n",
       "        ('SUSP_RACE', String),\n",
       "        ('SUSP_SEX', String),\n",
       "        ('TRANSIT_DISTRICT', String),\n",
       "        ('Latitude', Float64),\n",
       "        ('Longitude', Float64),\n",
       "        ('Lat_Lon', String),\n",
       "        ('PATROL_BORO', String),\n",
       "        ('STATION_NAME', String),\n",
       "        ('VIC_AGE_GROUP', String),\n",
       "        ('VIC_RACE', String),\n",
       "        ('VIC_SEX', String)])"
      ]
     },
     "execution_count": 2,
     "metadata": {},
     "output_type": "execute_result"
    }
   ],
   "source": [
    "import polars as pl\n",
    "\n",
    "complaint_lf = pl.scan_csv(fpath, try_parse_dates=True)\n",
    "complaint_lf.collect_schema()"
   ]
  },
  {
   "cell_type": "markdown",
   "metadata": {},
   "source": [
    "### Handling datetime variables"
   ]
  },
  {
   "cell_type": "code",
   "execution_count": 3,
   "metadata": {},
   "outputs": [],
   "source": [
    "complaint_lf = complaint_lf.with_columns(pl.col('CMPLNT_FR_DT').str.to_date(\"%m/%d/%Y\"),\n",
    "                                         pl.col('CMPLNT_TO_DT').str.to_date(\"%m/%d/%Y\"),\n",
    "                                         pl.when(pl.col(\"CMPLNT_TO_TM\").str.contains('(null)'))\n",
    "                                         .then(None).otherwise(pl.col('CMPLNT_TO_TM')).str.to_time(\"%H:%M:%S\").name.keep())\n",
    "\n",
    "complaint_lf = complaint_lf.with_columns(pl.col('CMPLNT_FR_DT').dt.combine(pl.col('CMPLNT_FR_TM')).alias('CMPLNT_FR_DT_TM'),\n",
    "                                         pl.col('CMPLNT_TO_DT').dt.combine(pl.col('CMPLNT_TO_TM')).alias('CMPLNT_TO_DT_TM')\n",
    "                                         ).drop('CMPLNT_FR_DT','CMPLNT_FR_TM','CMPLNT_TO_DT','CMPLNT_TO_TM')"
   ]
  },
  {
   "cell_type": "markdown",
   "metadata": {},
   "source": [
    "### Handling duplicate values in `CMPLNT_NUM`"
   ]
  },
  {
   "cell_type": "code",
   "execution_count": 4,
   "metadata": {},
   "outputs": [
    {
     "data": {
      "text/plain": [
       "8914838"
      ]
     },
     "execution_count": 4,
     "metadata": {},
     "output_type": "execute_result"
    }
   ],
   "source": [
    "complaint_lf.select(pl.len()).collect().item()"
   ]
  },
  {
   "cell_type": "code",
   "execution_count": 5,
   "metadata": {},
   "outputs": [
    {
     "data": {
      "text/plain": [
       "8913734"
      ]
     },
     "execution_count": 5,
     "metadata": {},
     "output_type": "execute_result"
    }
   ],
   "source": [
    "complaint_lf = complaint_lf.unique('CMPLNT_NUM')\n",
    "complaint_lf.select(pl.len()).collect().item()"
   ]
  },
  {
   "cell_type": "markdown",
   "metadata": {},
   "source": [
    "### Handling Latitude and Longitude variables"
   ]
  },
  {
   "cell_type": "code",
   "execution_count": 6,
   "metadata": {},
   "outputs": [],
   "source": [
    "unique_lat_lon = complaint_lf.select(pl.col('Lat_Lon').unique(),\n",
    "                                     pl.col('Lat_Lon').unique()\n",
    "                                     .str.strip_chars('()')\n",
    "                                     .str.split_exact(\",\",1)\n",
    "                                     .struct.rename_fields(['lat','lon'])\n",
    "                                     .alias(\"fields\")).unnest(\"fields\").with_columns(\n",
    "                                         pl.col('lat').str.strip_chars(' ').cast(pl.Decimal),\n",
    "                                         pl.col('lon').str.strip_chars(' ').cast(pl.Decimal)\n",
    "                                         )"
   ]
  },
  {
   "cell_type": "code",
   "execution_count": 7,
   "metadata": {},
   "outputs": [
    {
     "data": {
      "text/html": [
       "<div>\n",
       "<style scoped>\n",
       "    .dataframe tbody tr th:only-of-type {\n",
       "        vertical-align: middle;\n",
       "    }\n",
       "\n",
       "    .dataframe tbody tr th {\n",
       "        vertical-align: top;\n",
       "    }\n",
       "\n",
       "    .dataframe thead th {\n",
       "        text-align: right;\n",
       "    }\n",
       "</style>\n",
       "<table border=\"1\" class=\"dataframe\">\n",
       "  <thead>\n",
       "    <tr style=\"text-align: right;\">\n",
       "      <th></th>\n",
       "      <th>Lat_Lon</th>\n",
       "      <th>lat</th>\n",
       "      <th>lon</th>\n",
       "    </tr>\n",
       "  </thead>\n",
       "  <tbody>\n",
       "    <tr>\n",
       "      <th>0</th>\n",
       "      <td>(40.60851339, -74.12501925)</td>\n",
       "      <td>40.608513390000000</td>\n",
       "      <td>-74.12501925000000</td>\n",
       "    </tr>\n",
       "    <tr>\n",
       "      <th>1</th>\n",
       "      <td>(40.775588, -73.947373)</td>\n",
       "      <td>40.775588000000000</td>\n",
       "      <td>-73.94737300000000</td>\n",
       "    </tr>\n",
       "    <tr>\n",
       "      <th>2</th>\n",
       "      <td>(40.601699, -74.072624)</td>\n",
       "      <td>40.601699000000000</td>\n",
       "      <td>-74.07262400000000</td>\n",
       "    </tr>\n",
       "    <tr>\n",
       "      <th>3</th>\n",
       "      <td>(40.80860352, -73.90976381)</td>\n",
       "      <td>40.808603520000000</td>\n",
       "      <td>-73.90976381000000</td>\n",
       "    </tr>\n",
       "    <tr>\n",
       "      <th>4</th>\n",
       "      <td>(40.78372249, -73.80862838)</td>\n",
       "      <td>40.783722490000000</td>\n",
       "      <td>-73.80862838000000</td>\n",
       "    </tr>\n",
       "  </tbody>\n",
       "</table>\n",
       "</div>"
      ],
      "text/plain": [
       "                       Lat_Lon                 lat                 lon\n",
       "0  (40.60851339, -74.12501925)  40.608513390000000  -74.12501925000000\n",
       "1      (40.775588, -73.947373)  40.775588000000000  -73.94737300000000\n",
       "2      (40.601699, -74.072624)  40.601699000000000  -74.07262400000000\n",
       "3  (40.80860352, -73.90976381)  40.808603520000000  -73.90976381000000\n",
       "4  (40.78372249, -73.80862838)  40.783722490000000  -73.80862838000000"
      ]
     },
     "execution_count": 7,
     "metadata": {},
     "output_type": "execute_result"
    }
   ],
   "source": [
    "unique_lat_lon_df = unique_lat_lon.collect().to_pandas()\n",
    "unique_lat_lon_df.head()"
   ]
  },
  {
   "cell_type": "markdown",
   "metadata": {},
   "source": [
    "### Loading NYC Zip Code Data"
   ]
  },
  {
   "cell_type": "markdown",
   "metadata": {},
   "source": [
    "* [Modified Zip Code Tabulation Areas (MODZCTA)](https://data.cityofnewyork.us/Health/Modified-Zip-Code-Tabulation-Areas-MODZCTA-/pri4-ifjk/about_data) is downloaded as `.geojson` locally and stored in `data` directory."
   ]
  },
  {
   "cell_type": "code",
   "execution_count": 8,
   "metadata": {},
   "outputs": [],
   "source": [
    "import geopandas\n",
    "\n",
    "unique_lat_lon_gdf = geopandas.GeoDataFrame(unique_lat_lon_df,\n",
    "                             geometry=geopandas.points_from_xy(unique_lat_lon_df.lon, unique_lat_lon_df.lat),\n",
    "                             crs=\"EPSG:4326\")\n",
    "\n",
    "fname = 'MODZCTA.geojson'\n",
    "fpath = os.path.join(sys.path[-1], data_dir, fname)\n",
    "\n",
    "assert os.path.exists(fpath), f'{os.path.abspath(fpath)} does not exists!'\n",
    "geo_df = geopandas.read_file(fpath)"
   ]
  },
  {
   "cell_type": "markdown",
   "metadata": {},
   "source": [
    "Extracting zip code"
   ]
  },
  {
   "cell_type": "code",
   "execution_count": 9,
   "metadata": {},
   "outputs": [],
   "source": [
    "import numpy as np\n",
    "\n",
    "zips = np.empty(unique_lat_lon_gdf.shape[0], dtype=object)\n",
    "for i, geom in enumerate(geo_df.geometry):\n",
    "    zips[unique_lat_lon_gdf.within(geom)] = geo_df.modzcta[i]\n",
    "zips[zips==None] = ''\n",
    "unique_lat_lon_gdf['zipcode'] = zips"
   ]
  },
  {
   "cell_type": "code",
   "execution_count": 10,
   "metadata": {},
   "outputs": [
    {
     "data": {
      "text/plain": [
       "Schema([('Lat_Lon', String), ('zipcode', String)])"
      ]
     },
     "execution_count": 10,
     "metadata": {},
     "output_type": "execute_result"
    }
   ],
   "source": [
    "lat_lon_zip_lf = pl.from_pandas(unique_lat_lon_gdf[['Lat_Lon','zipcode']]).lazy()\n",
    "lat_lon_zip_lf.collect_schema()"
   ]
  },
  {
   "cell_type": "markdown",
   "metadata": {},
   "source": [
    "Joining the Complait data with extracted zip code data"
   ]
  },
  {
   "cell_type": "code",
   "execution_count": 11,
   "metadata": {},
   "outputs": [
    {
     "data": {
      "text/plain": [
       "Schema([('CMPLNT_NUM', String),\n",
       "        ('ADDR_PCT_CD', Int64),\n",
       "        ('RPT_DT', String),\n",
       "        ('KY_CD', Int64),\n",
       "        ('OFNS_DESC', String),\n",
       "        ('PD_CD', Int64),\n",
       "        ('PD_DESC', String),\n",
       "        ('CRM_ATPT_CPTD_CD', String),\n",
       "        ('LAW_CAT_CD', String),\n",
       "        ('BORO_NM', String),\n",
       "        ('LOC_OF_OCCUR_DESC', String),\n",
       "        ('PREM_TYP_DESC', String),\n",
       "        ('JURIS_DESC', String),\n",
       "        ('JURISDICTION_CODE', Int64),\n",
       "        ('PARKS_NM', String),\n",
       "        ('HADEVELOPT', String),\n",
       "        ('HOUSING_PSA', String),\n",
       "        ('X_COORD_CD', Int64),\n",
       "        ('Y_COORD_CD', Int64),\n",
       "        ('SUSP_AGE_GROUP', String),\n",
       "        ('SUSP_RACE', String),\n",
       "        ('SUSP_SEX', String),\n",
       "        ('TRANSIT_DISTRICT', String),\n",
       "        ('Latitude', Float64),\n",
       "        ('Longitude', Float64),\n",
       "        ('Lat_Lon', String),\n",
       "        ('PATROL_BORO', String),\n",
       "        ('STATION_NAME', String),\n",
       "        ('VIC_AGE_GROUP', String),\n",
       "        ('VIC_RACE', String),\n",
       "        ('VIC_SEX', String),\n",
       "        ('CMPLNT_FR_DT_TM', Datetime(time_unit='us', time_zone=None)),\n",
       "        ('CMPLNT_TO_DT_TM', Datetime(time_unit='us', time_zone=None)),\n",
       "        ('zipcode', String)])"
      ]
     },
     "execution_count": 11,
     "metadata": {},
     "output_type": "execute_result"
    }
   ],
   "source": [
    "complaint_lf = complaint_lf.join(lat_lon_zip_lf, on='Lat_Lon')\n",
    "complaint_lf.collect_schema()"
   ]
  },
  {
   "cell_type": "markdown",
   "metadata": {},
   "source": [
    "### Cleaned data"
   ]
  },
  {
   "cell_type": "markdown",
   "metadata": {},
   "source": [
    "Implementing `.collect()` method on the entire lazyFrame to execute all calculations and joins in sequence."
   ]
  },
  {
   "cell_type": "code",
   "execution_count": 12,
   "metadata": {},
   "outputs": [
    {
     "name": "stdout",
     "output_type": "stream",
     "text": [
      "              0                                                 1                                                                    2                                                        3                                                      4                                                             5                                                                                                                                                                                  6                                                                                                                                                          7                         8\n",
      "   ┌──────────────────────────────────────────────────────────────────────────────────────────────────────────────────────────────────────────────────────────────────────────────────────────────────────────────────────────────────────────────────────────────────────────────────────────────────────────────────────────────────────────────────────────────────────────────────────────────────────────────────────────────────────────────────────────────────────────────────────────────────────────────────────────────────────────────────────────────────────────────────────────────────────────────────────────────────────────────────────────────────────────────────────────────────────\n",
      "   │\n",
      "   │    ╭────────────╮\n",
      " 0 │    │ INNER JOIN │\n",
      "   │    ╰─────┬┬─────╯\n",
      "   │          ││\n",
      "   │          │╰────────────────────────────────────────────────┬────────────────────────────────────────────────────────────────────────────────────────────────────────────────────────────────────────────────────────────────────────────────────────────────────────────────────────────────────────────────────────────────────────────────────────────────────────────────────────────────────────────────────────────────────────────────────────────────────────────────────────────────────────────────────────────────────────────────────────────────────────────────────────────────────────────────────────────────────────────────────────────────┬─────────────────────────╮\n",
      "   │          │                                                 │                                                                                                                                                                                                                                                                                                                                                                                                                                                                                                                                                                                                │                         │\n",
      "   │  ╭───────┴────────╮  ╭─────────────────────────────────────┴─────────────────────────────────────╮                                                                                                                                                                                                                                                                                                                                                                                                                                                                                                                                                  ╭───────┴────────╮  ╭─────────────┴─────────────╮\n",
      "   │  │ left on:       │  │ LEFT PLAN:                                                                │                                                                                                                                                                                                                                                                                                                                                                                                                                                                                                                                                  │ right on:      │  │ RIGHT PLAN:               │\n",
      " 1 │  │ col(\"Lat_Lon\") │  │ UNIQUE[maintain_order: false, keep_strategy: Any] BY Some([\"CMPLNT_NUM\"]) │                                                                                                                                                                                                                                                                                                                                                                                                                                                                                                                                                  │ col(\"Lat_Lon\") │  │ DF [\"Lat_Lon\", \"zipcode\"] │\n",
      "   │  ╰────────────────╯  ╰─────────────────────────────────────┬─────────────────────────────────────╯                                                                                                                                                                                                                                                                                                                                                                                                                                                                                                                                                  ╰────────────────╯  │ PROJECT */2 COLUMNS       │\n",
      "   │                                                            │                                                                                                                                                                                                                                                                                                                                                                                                                                                                                                                                                                                                            ╰───────────────────────────╯\n",
      "   │                                                            │\n",
      "   │                                                            │\n",
      "   │                                                            │\n",
      "   │                         ╭──────────────────────────────────┴──────────────────────────────────╮\n",
      " 2 │                         │ simple π 33/37 [\"CMPLNT_NUM\", \"ADDR_PCT_CD\", ... 31 other columns]  │\n",
      "   │                         ╰──────────────────────────────────┬──────────────────────────────────╯\n",
      "   │                                                            │\n",
      "   │                                                            │\n",
      "   │                                                            │\n",
      "   │                                                     ╭──────┴───────╮\n",
      " 3 │                                                     │ WITH_COLUMNS │\n",
      "   │                                                     ╰──────┬┬──────╯\n",
      "   │                                                            ││\n",
      "   │                                                            │╰───────────────────────────────────────────────────────────────────┬────────────────────────────────────────────────────────╮\n",
      "   │                                                            │                                                                    │                                                        │\n",
      "   │                                ╭───────────────────────────┴───────────────────────────╮            ╭───────────────────────────┴───────────────────────────╮                            │\n",
      "   │                                │ expression:                                           │            │ expression:                                           │                     ╭──────┴───────╮\n",
      " 4 │                                │ col(\"CMPLNT_FR_DT\").dt.combine([col(\"CMPLNT_FR_TM\")]) │            │ col(\"CMPLNT_TO_DT\").dt.combine([col(\"CMPLNT_TO_TM\")]) │                     │ WITH_COLUMNS │\n",
      "   │                                │   .alias(\"CMPLNT_FR_DT_TM\")                           │            │   .alias(\"CMPLNT_TO_DT_TM\")                           │                     ╰──────┬┬──────╯\n",
      "   │                                ╰───────────────────────────────────────────────────────╯            ╰───────────────────────────────────────────────────────╯                            ││\n",
      "   │                                                                                                                                                                                          ││\n",
      "   │                                                                                                                                                                                          │╰─────────────────────────────────────────────────────┬─────────────────────────────────────────────────────────────┬──────────────────────────────────────────────────────────────────────────────────────────────────────────────────────────────────────────────────────────────────────────────────╮\n",
      "   │                                                                                                                                                                                          │                                                      │                                                             │                                                                                                                                                                                  │\n",
      "   │                                                                                                                                                                                          │                                                      │                                                             │                                   ╭──────────────────────────────────────────────────────────────────────────────────────────────────────────────────────────────────────────────┴───────────────────────────────────────────────────────────────────────────────────────────────────────────────────────────────────────────────╮\n",
      "   │                                                                                                                                                                                          │                                                      │                                                             │                                   │ INNER JOIN:                                                                                                                                                                                                                                                                                  │\n",
      "   │                                                                                                                                                                                          │                                                      │                                                             │                                   │ LEFT PLAN ON: [col(\"Lat_Lon\")]                                                                                                                                                                                                                                                               │\n",
      "   │                                                                                                                                                                                          │                                                      │                                                             │                                   │   UNIQUE[maintain_order: false, keep_strategy: Any] BY Some([\"CMPLNT_NUM\"])                                                                                                                                                                                                                  │\n",
      "   │                                                                                                                                                                                          │                                                      │                            ╭────────────────────────────────┴────────────────────────────────╮  │     simple π 33/37 [\"CMPLNT_NUM\", \"ADDR_PCT_CD\", ... 31 other columns]                                                                                                                                                                                                                       │\n",
      "   │                                                                                                                                                                ╭─────────────────────────┴─────────────────────────╮  ╭─────────────────────────┴─────────────────────────╮  │ expression:                                                     │  │        WITH_COLUMNS:                                                                                                                                                                                                                                                                         │\n",
      "   │                                                                                                                                                                │ expression:                                       │  │ expression:                                       │  │ when(col(\"CMPLNT_TO_TM\").str.contains([String((null))]))        │  │        [col(\"CMPLNT_FR_DT\").dt.combine([col(\"CMPLNT_FR_TM\")]).alias(\"CMPLNT_FR_DT_TM\"), col(\"CMPLNT_TO_DT\").dt.combine([col(\"CMPLNT_TO_TM\")]).alias(\"CMPLNT_TO_DT_TM\")]                                                                                                                      │\n",
      " 5 │                                                                                                                                                                │ col(\"CMPLNT_FR_DT\").str.strptime([String(raise)]) │  │ col(\"CMPLNT_TO_DT\").str.strptime([String(raise)]) │  │   .then(null.strict_cast(String))                               │  │          WITH_COLUMNS:                                                                                                                                                                                                                                                                       │\n",
      "   │                                                                                                                                                                ╰───────────────────────────────────────────────────╯  ╰───────────────────────────────────────────────────╯  │   .otherwise(col(\"CMPLNT_TO_TM\")).str.strptime([String(raise)]) │  │          [col(\"CMPLNT_FR_DT\").str.strptime([String(raise)]), col(\"CMPLNT_TO_DT\").str.strptime([String(raise)]), when(col(\"CMPLNT_TO_TM\").str.contains([String((null))])).then(null.strict_cast(String)).otherwise(col(\"CMPLNT_TO_TM\")).str.strptime([String(raise)]).alias(\"CMPLNT_TO_TM\")]  │\n",
      "   │                                                                                                                                                                                                                                                                              │   .alias(\"CMPLNT_TO_TM\")                                        │  │           Csv SCAN [../data/NYPD_Complaint_Data_Historic_20241027.csv]                                                                                                                                                                                                                       │\n",
      "   │                                                                                                                                                                                                                                                                              ╰─────────────────────────────────────────────────────────────────╯  │           PROJECT 35/35 COLUMNS                                                                                                                                                                                                                                                              │\n",
      "   │                                                                                                                                                                                                                                                                                                                                                   │ RIGHT PLAN ON: [col(\"Lat_Lon\")]                                                                                                                                                                                                                                                              │\n",
      "   │                                                                                                                                                                                                                                                                                                                                                   │   DF [\"Lat_Lon\", \"zipcode\"]; PROJECT */2 COLUMNS; SELECTION: None                                                                                                                                                                                                                            │\n",
      "   │                                                                                                                                                                                                                                                                                                                                                   │ END INNER JOIN                                                                                                                                                                                                                                                                               │\n",
      "   │                                                                                                                                                                                                                                                                                                                                                   ╰──────────────────────────────────────────────────────────────────────────────────────────────────────────────────────────────────────────────────────────────────────────────────────────────────────────────────────────────────────────────────────────────────────────────────────────────╯\n",
      "\n"
     ]
    }
   ],
   "source": [
    "print(complaint_lf.explain(format='tree'))"
   ]
  },
  {
   "cell_type": "code",
   "execution_count": 13,
   "metadata": {},
   "outputs": [
    {
     "data": {
      "text/html": [
       "<div><style>\n",
       ".dataframe > thead > tr,\n",
       ".dataframe > tbody > tr {\n",
       "  text-align: right;\n",
       "  white-space: pre-wrap;\n",
       "}\n",
       "</style>\n",
       "<small>shape: (8_913_268, 34)</small><table border=\"1\" class=\"dataframe\"><thead><tr><th>CMPLNT_NUM</th><th>ADDR_PCT_CD</th><th>RPT_DT</th><th>KY_CD</th><th>OFNS_DESC</th><th>PD_CD</th><th>PD_DESC</th><th>CRM_ATPT_CPTD_CD</th><th>LAW_CAT_CD</th><th>BORO_NM</th><th>LOC_OF_OCCUR_DESC</th><th>PREM_TYP_DESC</th><th>JURIS_DESC</th><th>JURISDICTION_CODE</th><th>PARKS_NM</th><th>HADEVELOPT</th><th>HOUSING_PSA</th><th>X_COORD_CD</th><th>Y_COORD_CD</th><th>SUSP_AGE_GROUP</th><th>SUSP_RACE</th><th>SUSP_SEX</th><th>TRANSIT_DISTRICT</th><th>Latitude</th><th>Longitude</th><th>Lat_Lon</th><th>PATROL_BORO</th><th>STATION_NAME</th><th>VIC_AGE_GROUP</th><th>VIC_RACE</th><th>VIC_SEX</th><th>CMPLNT_FR_DT_TM</th><th>CMPLNT_TO_DT_TM</th><th>zipcode</th></tr><tr><td>str</td><td>i64</td><td>str</td><td>i64</td><td>str</td><td>i64</td><td>str</td><td>str</td><td>str</td><td>str</td><td>str</td><td>str</td><td>str</td><td>i64</td><td>str</td><td>str</td><td>str</td><td>i64</td><td>i64</td><td>str</td><td>str</td><td>str</td><td>str</td><td>f64</td><td>f64</td><td>str</td><td>str</td><td>str</td><td>str</td><td>str</td><td>str</td><td>datetime[μs]</td><td>datetime[μs]</td><td>str</td></tr></thead><tbody><tr><td>&quot;73828158&quot;</td><td>112</td><td>&quot;07/24/2010&quot;</td><td>351</td><td>&quot;CRIMINAL MISCHIEF &amp; RELATED OF&quot;</td><td>254</td><td>&quot;MISCHIEF, CRIMINAL 4, OF MOTOR&quot;</td><td>&quot;COMPLETED&quot;</td><td>&quot;MISDEMEANOR&quot;</td><td>&quot;QUEENS&quot;</td><td>&quot;FRONT OF&quot;</td><td>&quot;STREET&quot;</td><td>&quot;N.Y. POLICE DEPT&quot;</td><td>0</td><td>&quot;(null)&quot;</td><td>&quot;(null)&quot;</td><td>&quot;(null)&quot;</td><td>1025005</td><td>203505</td><td>&quot;(null)&quot;</td><td>&quot;(null)&quot;</td><td>&quot;(null)&quot;</td><td>null</td><td>40.725159</td><td>-73.852961</td><td>&quot;(40.725159, -73.852961)&quot;</td><td>&quot;PATROL BORO QUEENS NORTH&quot;</td><td>&quot;(null)&quot;</td><td>&quot;25-44&quot;</td><td>&quot;WHITE&quot;</td><td>&quot;F&quot;</td><td>2010-07-23 21:00:00</td><td>2010-07-24 18:00:00</td><td>&quot;11375&quot;</td></tr><tr><td>&quot;60765391&quot;</td><td>84</td><td>&quot;04/14/2009&quot;</td><td>351</td><td>&quot;CRIMINAL MISCHIEF &amp; RELATED OF&quot;</td><td>254</td><td>&quot;MISCHIEF, CRIMINAL 4, OF MOTOR&quot;</td><td>&quot;COMPLETED&quot;</td><td>&quot;MISDEMEANOR&quot;</td><td>&quot;BROOKLYN&quot;</td><td>&quot;FRONT OF&quot;</td><td>&quot;RESIDENCE-HOUSE&quot;</td><td>&quot;N.Y. POLICE DEPT&quot;</td><td>0</td><td>&quot;(null)&quot;</td><td>&quot;(null)&quot;</td><td>&quot;(null)&quot;</td><td>988161</td><td>188234</td><td>&quot;(null)&quot;</td><td>&quot;(null)&quot;</td><td>&quot;(null)&quot;</td><td>null</td><td>40.683337</td><td>-73.985897</td><td>&quot;(40.683337, -73.985897)&quot;</td><td>&quot;PATROL BORO BKLYN NORTH&quot;</td><td>&quot;(null)&quot;</td><td>&quot;25-44&quot;</td><td>&quot;BLACK HISPANIC&quot;</td><td>&quot;M&quot;</td><td>2009-04-14 03:30:00</td><td>2009-04-14 03:45:00</td><td>&quot;11217&quot;</td></tr><tr><td>&quot;78699913&quot;</td><td>25</td><td>&quot;05/11/2011&quot;</td><td>344</td><td>&quot;ASSAULT 3 &amp; RELATED OFFENSES&quot;</td><td>113</td><td>&quot;MENACING,UNCLASSIFIED&quot;</td><td>&quot;COMPLETED&quot;</td><td>&quot;MISDEMEANOR&quot;</td><td>&quot;MANHATTAN&quot;</td><td>&quot;INSIDE&quot;</td><td>&quot;RESIDENCE - PUBLIC HOUSING&quot;</td><td>&quot;N.Y. HOUSING POLICE&quot;</td><td>2</td><td>&quot;(null)&quot;</td><td>&quot;(null)&quot;</td><td>&quot;670&quot;</td><td>1002844</td><td>230571</td><td>&quot;(null)&quot;</td><td>&quot;WHITE&quot;</td><td>&quot;M&quot;</td><td>null</td><td>40.799522</td><td>-73.932838</td><td>&quot;(40.799522, -73.932838)&quot;</td><td>&quot;PATROL BORO MAN NORTH&quot;</td><td>&quot;(null)&quot;</td><td>&quot;&lt;18&quot;</td><td>&quot;WHITE HISPANIC&quot;</td><td>&quot;F&quot;</td><td>2011-05-11 16:00:00</td><td>2011-05-11 16:05:00</td><td>&quot;10035&quot;</td></tr><tr><td>&quot;78992198&quot;</td><td>73</td><td>&quot;05/27/2011&quot;</td><td>106</td><td>&quot;FELONY ASSAULT&quot;</td><td>109</td><td>&quot;ASSAULT 2,1,UNCLASSIFIED&quot;</td><td>&quot;COMPLETED&quot;</td><td>&quot;FELONY&quot;</td><td>&quot;BROOKLYN&quot;</td><td>&quot;INSIDE&quot;</td><td>&quot;PUBLIC BUILDING&quot;</td><td>&quot;N.Y. POLICE DEPT&quot;</td><td>0</td><td>&quot;(null)&quot;</td><td>&quot;(null)&quot;</td><td>&quot;(null)&quot;</td><td>1011219</td><td>183704</td><td>&quot;18-24&quot;</td><td>&quot;BLACK&quot;</td><td>&quot;M&quot;</td><td>null</td><td>40.670863</td><td>-73.902779</td><td>&quot;(40.670863, -73.902779)&quot;</td><td>&quot;PATROL BORO BKLYN NORTH&quot;</td><td>&quot;(null)&quot;</td><td>&quot;45-64&quot;</td><td>&quot;WHITE&quot;</td><td>&quot;M&quot;</td><td>2011-05-27 15:00:00</td><td>2011-05-27 15:10:00</td><td>&quot;11212&quot;</td></tr><tr><td>&quot;80393901&quot;</td><td>75</td><td>&quot;08/20/2011&quot;</td><td>125</td><td>&quot;NYS LAWS-UNCLASSIFIED FELONY&quot;</td><td>847</td><td>&quot;NY STATE LAWS,UNCLASSIFIED FEL&quot;</td><td>&quot;COMPLETED&quot;</td><td>&quot;FELONY&quot;</td><td>&quot;BROOKLYN&quot;</td><td>&quot;(null)&quot;</td><td>&quot;STREET&quot;</td><td>&quot;N.Y. POLICE DEPT&quot;</td><td>0</td><td>&quot;(null)&quot;</td><td>&quot;(null)&quot;</td><td>&quot;(null)&quot;</td><td>1020115</td><td>186383</td><td>&quot;(null)&quot;</td><td>&quot;(null)&quot;</td><td>&quot;(null)&quot;</td><td>null</td><td>40.678182</td><td>-73.870697</td><td>&quot;(40.67818234, -73.87069686)&quot;</td><td>&quot;PATROL BORO BKLYN NORTH&quot;</td><td>&quot;(null)&quot;</td><td>&quot;(null)&quot;</td><td>&quot;UNKNOWN&quot;</td><td>&quot;E&quot;</td><td>2011-08-20 19:40:00</td><td>2011-08-20 19:49:00</td><td>&quot;11208&quot;</td></tr><tr><td>&hellip;</td><td>&hellip;</td><td>&hellip;</td><td>&hellip;</td><td>&hellip;</td><td>&hellip;</td><td>&hellip;</td><td>&hellip;</td><td>&hellip;</td><td>&hellip;</td><td>&hellip;</td><td>&hellip;</td><td>&hellip;</td><td>&hellip;</td><td>&hellip;</td><td>&hellip;</td><td>&hellip;</td><td>&hellip;</td><td>&hellip;</td><td>&hellip;</td><td>&hellip;</td><td>&hellip;</td><td>&hellip;</td><td>&hellip;</td><td>&hellip;</td><td>&hellip;</td><td>&hellip;</td><td>&hellip;</td><td>&hellip;</td><td>&hellip;</td><td>&hellip;</td><td>&hellip;</td><td>&hellip;</td><td>&hellip;</td></tr><tr><td>&quot;191464017&quot;</td><td>23</td><td>&quot;12/23/2018&quot;</td><td>341</td><td>&quot;PETIT LARCENY&quot;</td><td>333</td><td>&quot;LARCENY,PETIT FROM STORE-SHOPL&quot;</td><td>&quot;COMPLETED&quot;</td><td>&quot;MISDEMEANOR&quot;</td><td>&quot;MANHATTAN&quot;</td><td>&quot;INSIDE&quot;</td><td>&quot;DRUG STORE&quot;</td><td>&quot;N.Y. POLICE DEPT&quot;</td><td>0</td><td>&quot;(null)&quot;</td><td>&quot;(null)&quot;</td><td>&quot;(null)&quot;</td><td>999501</td><td>227548</td><td>&quot;45-64&quot;</td><td>&quot;WHITE HISPANIC&quot;</td><td>&quot;M&quot;</td><td>null</td><td>40.791232</td><td>-73.944922</td><td>&quot;(40.791232, -73.944922)&quot;</td><td>&quot;PATROL BORO MAN NORTH&quot;</td><td>&quot;(null)&quot;</td><td>&quot;UNKNOWN&quot;</td><td>&quot;UNKNOWN&quot;</td><td>&quot;D&quot;</td><td>2018-12-23 11:10:00</td><td>2018-12-23 11:22:00</td><td>&quot;10029&quot;</td></tr><tr><td>&quot;78501505&quot;</td><td>14</td><td>&quot;04/29/2011&quot;</td><td>361</td><td>&quot;OFF. AGNST PUB ORD SENSBLTY &amp;&quot;</td><td>639</td><td>&quot;AGGRAVATED HARASSMENT 2&quot;</td><td>&quot;COMPLETED&quot;</td><td>&quot;MISDEMEANOR&quot;</td><td>&quot;MANHATTAN&quot;</td><td>&quot;INSIDE&quot;</td><td>&quot;COMMERCIAL BUILDING&quot;</td><td>&quot;N.Y. POLICE DEPT&quot;</td><td>0</td><td>&quot;(null)&quot;</td><td>&quot;(null)&quot;</td><td>&quot;(null)&quot;</td><td>987694</td><td>213173</td><td>&quot;45-64&quot;</td><td>&quot;WHITE&quot;</td><td>&quot;F&quot;</td><td>null</td><td>40.751789</td><td>-73.987568</td><td>&quot;(40.751789, -73.987568)&quot;</td><td>&quot;PATROL BORO MAN SOUTH&quot;</td><td>&quot;(null)&quot;</td><td>&quot;45-64&quot;</td><td>&quot;WHITE&quot;</td><td>&quot;M&quot;</td><td>2011-02-01 12:00:00</td><td>2011-04-19 16:42:00</td><td>&quot;10018&quot;</td></tr><tr><td>&quot;75523759&quot;</td><td>114</td><td>&quot;11/11/2010&quot;</td><td>351</td><td>&quot;CRIMINAL MISCHIEF &amp; RELATED OF&quot;</td><td>254</td><td>&quot;MISCHIEF, CRIMINAL 4, OF MOTOR&quot;</td><td>&quot;COMPLETED&quot;</td><td>&quot;MISDEMEANOR&quot;</td><td>&quot;QUEENS&quot;</td><td>&quot;OPPOSITE OF&quot;</td><td>&quot;STREET&quot;</td><td>&quot;N.Y. POLICE DEPT&quot;</td><td>0</td><td>&quot;(null)&quot;</td><td>&quot;(null)&quot;</td><td>&quot;(null)&quot;</td><td>1001479</td><td>214744</td><td>&quot;(null)&quot;</td><td>&quot;(null)&quot;</td><td>&quot;(null)&quot;</td><td>null</td><td>40.756084</td><td>-73.937811</td><td>&quot;(40.756084, -73.937811)&quot;</td><td>&quot;PATROL BORO QUEENS NORTH&quot;</td><td>&quot;(null)&quot;</td><td>&quot;(null)&quot;</td><td>&quot;UNKNOWN&quot;</td><td>&quot;D&quot;</td><td>2010-11-10 23:55:00</td><td>2010-11-11 00:05:00</td><td>&quot;11101&quot;</td></tr><tr><td>&quot;94308292&quot;</td><td>43</td><td>&quot;01/04/2014&quot;</td><td>361</td><td>&quot;OFF. AGNST PUB ORD SENSBLTY &amp;&quot;</td><td>639</td><td>&quot;AGGRAVATED HARASSMENT 2&quot;</td><td>&quot;COMPLETED&quot;</td><td>&quot;MISDEMEANOR&quot;</td><td>&quot;BRONX&quot;</td><td>&quot;INSIDE&quot;</td><td>&quot;RESIDENCE - PUBLIC HOUSING&quot;</td><td>&quot;N.Y. HOUSING POLICE&quot;</td><td>2</td><td>&quot;(null)&quot;</td><td>&quot;(null)&quot;</td><td>&quot;911&quot;</td><td>1021514</td><td>239266</td><td>&quot;(null)&quot;</td><td>&quot;(null)&quot;</td><td>&quot;(null)&quot;</td><td>null</td><td>40.823327</td><td>-73.865357</td><td>&quot;(40.823327, -73.865357)&quot;</td><td>&quot;PATROL BORO BRONX&quot;</td><td>&quot;(null)&quot;</td><td>&quot;18-24&quot;</td><td>&quot;BLACK&quot;</td><td>&quot;F&quot;</td><td>2014-01-04 08:45:00</td><td>null</td><td>&quot;10473&quot;</td></tr><tr><td>&quot;157848469&quot;</td><td>33</td><td>&quot;10/21/2016&quot;</td><td>341</td><td>&quot;PETIT LARCENY&quot;</td><td>338</td><td>&quot;LARCENY,PETIT FROM BUILDING,UN&quot;</td><td>&quot;COMPLETED&quot;</td><td>&quot;MISDEMEANOR&quot;</td><td>&quot;MANHATTAN&quot;</td><td>&quot;INSIDE&quot;</td><td>&quot;GYM/FITNESS FACILITY&quot;</td><td>&quot;N.Y. POLICE DEPT&quot;</td><td>0</td><td>&quot;(null)&quot;</td><td>&quot;(null)&quot;</td><td>&quot;(null)&quot;</td><td>1001365</td><td>247953</td><td>&quot;(null)&quot;</td><td>&quot;(null)&quot;</td><td>&quot;(null)&quot;</td><td>null</td><td>40.847234</td><td>-73.938135</td><td>&quot;(40.847234, -73.938135)&quot;</td><td>&quot;PATROL BORO MAN NORTH&quot;</td><td>&quot;(null)&quot;</td><td>&quot;45-64&quot;</td><td>&quot;BLACK&quot;</td><td>&quot;M&quot;</td><td>2016-10-21 18:30:00</td><td>2016-10-21 19:30:00</td><td>&quot;10033&quot;</td></tr></tbody></table></div>"
      ],
      "text/plain": [
       "shape: (8_913_268, 34)\n",
       "┌────────────┬─────────────┬────────────┬───────┬───┬─────────┬─────────────┬────────────┬─────────┐\n",
       "│ CMPLNT_NUM ┆ ADDR_PCT_CD ┆ RPT_DT     ┆ KY_CD ┆ … ┆ VIC_SEX ┆ CMPLNT_FR_D ┆ CMPLNT_TO_ ┆ zipcode │\n",
       "│ ---        ┆ ---         ┆ ---        ┆ ---   ┆   ┆ ---     ┆ T_TM        ┆ DT_TM      ┆ ---     │\n",
       "│ str        ┆ i64         ┆ str        ┆ i64   ┆   ┆ str     ┆ ---         ┆ ---        ┆ str     │\n",
       "│            ┆             ┆            ┆       ┆   ┆         ┆ datetime[μs ┆ datetime[μ ┆         │\n",
       "│            ┆             ┆            ┆       ┆   ┆         ┆ ]           ┆ s]         ┆         │\n",
       "╞════════════╪═════════════╪════════════╪═══════╪═══╪═════════╪═════════════╪════════════╪═════════╡\n",
       "│ 73828158   ┆ 112         ┆ 07/24/2010 ┆ 351   ┆ … ┆ F       ┆ 2010-07-23  ┆ 2010-07-24 ┆ 11375   │\n",
       "│            ┆             ┆            ┆       ┆   ┆         ┆ 21:00:00    ┆ 18:00:00   ┆         │\n",
       "│ 60765391   ┆ 84          ┆ 04/14/2009 ┆ 351   ┆ … ┆ M       ┆ 2009-04-14  ┆ 2009-04-14 ┆ 11217   │\n",
       "│            ┆             ┆            ┆       ┆   ┆         ┆ 03:30:00    ┆ 03:45:00   ┆         │\n",
       "│ 78699913   ┆ 25          ┆ 05/11/2011 ┆ 344   ┆ … ┆ F       ┆ 2011-05-11  ┆ 2011-05-11 ┆ 10035   │\n",
       "│            ┆             ┆            ┆       ┆   ┆         ┆ 16:00:00    ┆ 16:05:00   ┆         │\n",
       "│ 78992198   ┆ 73          ┆ 05/27/2011 ┆ 106   ┆ … ┆ M       ┆ 2011-05-27  ┆ 2011-05-27 ┆ 11212   │\n",
       "│            ┆             ┆            ┆       ┆   ┆         ┆ 15:00:00    ┆ 15:10:00   ┆         │\n",
       "│ 80393901   ┆ 75          ┆ 08/20/2011 ┆ 125   ┆ … ┆ E       ┆ 2011-08-20  ┆ 2011-08-20 ┆ 11208   │\n",
       "│            ┆             ┆            ┆       ┆   ┆         ┆ 19:40:00    ┆ 19:49:00   ┆         │\n",
       "│ …          ┆ …           ┆ …          ┆ …     ┆ … ┆ …       ┆ …           ┆ …          ┆ …       │\n",
       "│ 191464017  ┆ 23          ┆ 12/23/2018 ┆ 341   ┆ … ┆ D       ┆ 2018-12-23  ┆ 2018-12-23 ┆ 10029   │\n",
       "│            ┆             ┆            ┆       ┆   ┆         ┆ 11:10:00    ┆ 11:22:00   ┆         │\n",
       "│ 78501505   ┆ 14          ┆ 04/29/2011 ┆ 361   ┆ … ┆ M       ┆ 2011-02-01  ┆ 2011-04-19 ┆ 10018   │\n",
       "│            ┆             ┆            ┆       ┆   ┆         ┆ 12:00:00    ┆ 16:42:00   ┆         │\n",
       "│ 75523759   ┆ 114         ┆ 11/11/2010 ┆ 351   ┆ … ┆ D       ┆ 2010-11-10  ┆ 2010-11-11 ┆ 11101   │\n",
       "│            ┆             ┆            ┆       ┆   ┆         ┆ 23:55:00    ┆ 00:05:00   ┆         │\n",
       "│ 94308292   ┆ 43          ┆ 01/04/2014 ┆ 361   ┆ … ┆ F       ┆ 2014-01-04  ┆ null       ┆ 10473   │\n",
       "│            ┆             ┆            ┆       ┆   ┆         ┆ 08:45:00    ┆            ┆         │\n",
       "│ 157848469  ┆ 33          ┆ 10/21/2016 ┆ 341   ┆ … ┆ M       ┆ 2016-10-21  ┆ 2016-10-21 ┆ 10033   │\n",
       "│            ┆             ┆            ┆       ┆   ┆         ┆ 18:30:00    ┆ 19:30:00   ┆         │\n",
       "└────────────┴─────────────┴────────────┴───────┴───┴─────────┴─────────────┴────────────┴─────────┘"
      ]
     },
     "execution_count": 13,
     "metadata": {},
     "output_type": "execute_result"
    }
   ],
   "source": [
    "complaint_lf.collect()"
   ]
  },
  {
   "cell_type": "markdown",
   "metadata": {},
   "source": [
    "### Exporting to `.csv`"
   ]
  },
  {
   "cell_type": "code",
   "execution_count": null,
   "metadata": {},
   "outputs": [],
   "source": []
  }
 ],
 "metadata": {
  "kernelspec": {
   "display_name": ".venv",
   "language": "python",
   "name": "python3"
  },
  "language_info": {
   "codemirror_mode": {
    "name": "ipython",
    "version": 3
   },
   "file_extension": ".py",
   "mimetype": "text/x-python",
   "name": "python",
   "nbconvert_exporter": "python",
   "pygments_lexer": "ipython3",
   "version": "3.12.3"
  }
 },
 "nbformat": 4,
 "nbformat_minor": 2
}
