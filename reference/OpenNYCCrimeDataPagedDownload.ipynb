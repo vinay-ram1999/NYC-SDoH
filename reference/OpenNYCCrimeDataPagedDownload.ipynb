{
 "cells": [
  {
   "cell_type": "code",
   "execution_count": 1,
   "id": "0e4c38a3-d851-4938-8bbd-124d60a985eb",
   "metadata": {},
   "outputs": [],
   "source": [
    "import pandas as pd\n",
    "import numpy as np\n",
    "from datetime import datetime as dt"
   ]
  },
  {
   "cell_type": "markdown",
   "id": "96b744e0",
   "metadata": {},
   "source": [
    "- Reads nyc crime data in chunks of 50,000 rows\n",
    "    - Load each chunk into a DataFrame\n",
    "    - DataFrame can be processed - date formatted, zip code lookup, invalid rows deleted, etc.\n",
    "    - Write DataFrame to disk.\n"
   ]
  },
  {
   "cell_type": "code",
   "execution_count": 7,
   "id": "a38616ab-00c2-4ad0-b3a0-4a007b734496",
   "metadata": {},
   "outputs": [
    {
     "name": "stdout",
     "output_type": "stream",
     "text": [
      "outputting:  0\n",
      "outputting:  50000\n",
      "outputting:  100000\n",
      "outputting:  150000\n",
      "outputting:  200000\n",
      "outputting:  250000\n",
      "outputting:  300000\n",
      "outputting:  350000\n",
      "outputting:  400000\n",
      "outputting:  450000\n",
      "outputting:  500000\n",
      "outputting:  550000\n",
      "outputting:  600000\n",
      "outputting:  650000\n",
      "outputting:  700000\n",
      "outputting:  750000\n",
      "outputting:  800000\n",
      "outputting:  850000\n",
      "outputting:  900000\n",
      "outputting:  950000\n",
      "outputting:  1000000\n",
      "outputting:  1050000\n",
      "outputting:  1100000\n",
      "outputting:  1150000\n",
      "outputting:  1200000\n",
      "outputting:  1250000\n",
      "outputting:  1300000\n",
      "outputting:  1350000\n",
      "outputting:  1400000\n",
      "outputting:  1450000\n",
      "outputting:  1500000\n",
      "outputting:  1550000\n",
      "outputting:  1600000\n",
      "outputting:  1650000\n",
      "outputting:  1700000\n",
      "outputting:  1750000\n",
      "outputting:  1800000\n",
      "outputting:  1850000\n",
      "outputting:  1900000\n",
      "outputting:  1950000\n"
     ]
    }
   ],
   "source": [
    "chunk_size=50000\n",
    "start_index = 0\n",
    "chunk_number = 1\n",
    "max_index = 9000000\n",
    "while start_index < 2000000:\n",
    "    df_url = \"https://data.cityofnewyork.us/resource/qgea-i56i.csv?$limit=50000&$offset=\" + str(start_index) + \"&$order=cmplnt_num\"\n",
    "    print('outputting: ', start_index)\n",
    "    df = pd.read_csv(df_url, low_memory=False)\n",
    "    file_name = 'nyc_crime_raw' + str(chunk_number) + '.csv'\n",
    "    df.to_csv(file_name, index=True)\n",
    "    chunk_number = chunk_number + 1\n",
    "    start_index = start_index + chunk_size"
   ]
  },
  {
   "cell_type": "code",
   "execution_count": null,
   "id": "86698cec-1a42-4bf8-a500-2ad0843e0c03",
   "metadata": {},
   "outputs": [],
   "source": []
  }
 ],
 "metadata": {
  "kernelspec": {
   "display_name": ".venv",
   "language": "python",
   "name": "python3"
  },
  "language_info": {
   "codemirror_mode": {
    "name": "ipython",
    "version": 3
   },
   "file_extension": ".py",
   "mimetype": "text/x-python",
   "name": "python",
   "nbconvert_exporter": "python",
   "pygments_lexer": "ipython3",
   "version": "3.11.8"
  }
 },
 "nbformat": 4,
 "nbformat_minor": 5
}
